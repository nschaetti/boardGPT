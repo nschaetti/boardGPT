{
 "cells": [
  {
   "cell_type": "code",
   "id": "initial_id",
   "metadata": {
    "collapsed": true,
    "ExecuteTime": {
     "end_time": "2025-09-11T15:33:42.522531Z",
     "start_time": "2025-09-11T15:33:41.650391Z"
    }
   },
   "source": [
    "import torch\n",
    "from boardGPT.utils import load_safetensors\n",
    "from IPython.display import HTML"
   ],
   "outputs": [],
   "execution_count": 1
  },
  {
   "metadata": {
    "ExecuteTime": {
     "end_time": "2025-09-11T15:33:42.923768Z",
     "start_time": "2025-09-11T15:33:42.530979Z"
    }
   },
   "cell_type": "code",
   "source": [
    "device = torch.device(\"cuda:0\" if torch.cuda.is_available() else \"cpu\")\n",
    "model = load_safetensors(\"../out/safetensors/model.safetensors\", \"../out/safetensors/config.json\")\n",
    "model = model.to(device)\n",
    "model.set_flash(False)"
   ],
   "id": "e82aff4d84852500",
   "outputs": [
    {
     "name": "stderr",
     "output_type": "stream",
     "text": [
      "/home/schaetti/miniconda3/envs/BoardGPT/lib/python3.11/site-packages/torch/cuda/__init__.py:182: UserWarning: CUDA initialization: CUDA unknown error - this may be due to an incorrectly set up environment, e.g. changing env variable CUDA_VISIBLE_DEVICES after program start. Setting the available devices to be zero. (Triggered internally at /pytorch/c10/cuda/CUDAFunctions.cpp:107.)\n",
      "  return torch._C._cuda_getDeviceCount() > 0\n"
     ]
    },
    {
     "name": "stdout",
     "output_type": "stream",
     "text": [
      "Loading weights from safetensors file: ../out/safetensors/model.safetensors\n",
      "Warning: Missing keys in safetensors file: {'transformer.wte.weight'}\n",
      "Successfully loaded weights from ../out/safetensors/model.safetensors\n"
     ]
    }
   ],
   "execution_count": 2
  },
  {
   "metadata": {
    "ExecuteTime": {
     "end_time": "2025-09-11T15:33:42.971731Z",
     "start_time": "2025-09-11T15:33:42.969565Z"
    }
   },
   "cell_type": "code",
   "source": [
    "tok_emb = None\n",
    "\n",
    "def token_emb_fn(x):\n",
    "    global tok_emb\n",
    "    tok_emb = x\n",
    "    return x\n",
    "# end token_emb_fn\n",
    "\n",
    "# Add hooks\n",
    "model.token_emb_hook.add_hook(token_emb_fn)\n",
    "model.transformer['h'][-1]"
   ],
   "id": "3c1bea25a54b14c1",
   "outputs": [],
   "execution_count": 3
  },
  {
   "metadata": {
    "ExecuteTime": {
     "end_time": "2025-09-11T15:33:43.040454Z",
     "start_time": "2025-09-11T15:33:42.984439Z"
    }
   },
   "cell_type": "code",
   "source": [
    "moves = model.generate_moves(\n",
    "    sequence=['c4', 'c3'],\n",
    "    max_new_tokens=1,\n",
    "    device=device\n",
    ")"
   ],
   "id": "eb22812a08eee6b",
   "outputs": [],
   "execution_count": 4
  },
  {
   "metadata": {
    "ExecuteTime": {
     "end_time": "2025-09-11T15:35:02.040762Z",
     "start_time": "2025-09-11T15:35:02.002555Z"
    }
   },
   "cell_type": "code",
   "source": [
    "import matplotlib.pyplot as plt\n",
    "plt.imshow(tok_emb[0].cpu().detach().numpy())"
   ],
   "id": "ba74cc4fbf998302",
   "outputs": [
    {
     "data": {
      "text/plain": [
       "<matplotlib.image.AxesImage at 0x70ecef121310>"
      ]
     },
     "execution_count": 8,
     "metadata": {},
     "output_type": "execute_result"
    },
    {
     "data": {
      "text/plain": [
       "<Figure size 640x480 with 1 Axes>"
      ],
      "image/png": "[encoded data removed]"
     },
     "metadata": {},
     "output_type": "display_data"
    }
   ],
   "execution_count": 8
  },
  {
   "metadata": {},
   "cell_type": "code",
   "outputs": [],
   "execution_count": null,
   "source": "",
   "id": "9d0926908a0ac207"
  }
 ],
 "metadata": {
  "kernelspec": {
   "display_name": "Python 3",
   "language": "python",
   "name": "python3"
  },
  "language_info": {
   "codemirror_mode": {
    "name": "ipython",
    "version": 2
   },
   "file_extension": ".py",
   "mimetype": "text/x-python",
   "name": "python",
   "nbconvert_exporter": "python",
   "pygments_lexer": "ipython2",
   "version": "2.7.6"
  }
 },
 "nbformat": 4,
 "nbformat_minor": 5
}
