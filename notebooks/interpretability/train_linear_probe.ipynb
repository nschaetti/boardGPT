{
 "cells": [
  {
   "metadata": {},
   "cell_type": "markdown",
   "source": "",
   "id": "359bddbc0bc8861f"
  },
  {
   "metadata": {
    "ExecuteTime": {
     "end_time": "2025-10-04T19:21:46.307100Z",
     "start_time": "2025-10-04T19:21:44.503899Z"
    }
   },
   "cell_type": "code",
   "source": [
    "from boardGPT.datasets import BoardDataset\n",
    "from boardGPT.games.othello import game_to_board"
   ],
   "id": "11bcae427a0455da",
   "outputs": [],
   "execution_count": 1
  },
  {
   "metadata": {
    "ExecuteTime": {
     "end_time": "2025-10-04T19:22:02.816616Z",
     "start_time": "2025-10-04T19:21:46.362137Z"
    }
   },
   "cell_type": "code",
   "source": [
    "val_dataset = BoardDataset(\n",
    "    data_dir=\"../../data/othello/othello-synthetic\",\n",
    "    board_func=game_to_board,\n",
    "    split=\"train\"\n",
    ")"
   ],
   "id": "18d8765f81d4d08b",
   "outputs": [],
   "execution_count": 2
  },
  {
   "metadata": {
    "ExecuteTime": {
     "end_time": "2025-10-04T19:24:23.955177Z",
     "start_time": "2025-10-04T19:24:23.951944Z"
    }
   },
   "cell_type": "code",
   "source": "item = val_dataset[0]",
   "id": "f9b3f90e45812340",
   "outputs": [],
   "execution_count": 4
  },
  {
   "metadata": {
    "ExecuteTime": {
     "end_time": "2025-10-04T19:24:26.488064Z",
     "start_time": "2025-10-04T19:24:26.478613Z"
    }
   },
   "cell_type": "code",
   "source": "item",
   "id": "3e5f601f2b9f948d",
   "outputs": [
    {
     "data": {
      "text/plain": [
       "('<pad> <pad> <pad> <pad> <pad> <pad> <pad> <pad> <pad> <pad> <pad> <pad> <pad> <pad> <pad> <pad> <pad> <pad> <pad> <pad> <pad> <pad> <pad> <pad> <pad> <pad> <pad> <pad> <pad> d3 c5 e6 f7 b6 d2 e3 f3 e7 c4 g7 e8 d7 c8 c7 g8 c3 c6 f2 a5 g3 c2 b4 g6 b2 f4 b7 f5 a7 d8 f6',\n",
       " array([0, 0, 0, 0, 0, 0, 0, 0, 0, 1, 2, 2, 0, 1, 0, 0, 0, 0, 1, 2, 2, 1,\n",
       "        1, 0, 0, 1, 1, 1, 2, 1, 0, 0, 2, 0, 1, 1, 1, 1, 0, 0, 0, 2, 1, 0,\n",
       "        2, 1, 2, 0, 1, 1, 2, 1, 1, 2, 2, 0, 0, 0, 2, 2, 2, 0, 2, 0],\n",
       "       dtype=int32))"
      ]
     },
     "execution_count": 5,
     "metadata": {},
     "output_type": "execute_result"
    }
   ],
   "execution_count": 5
  },
  {
   "metadata": {},
   "cell_type": "code",
   "outputs": [],
   "execution_count": null,
   "source": "",
   "id": "7d9553d314325bb8"
  }
 ],
 "metadata": {
  "kernelspec": {
   "display_name": "Python 3",
   "language": "python",
   "name": "python3"
  },
  "language_info": {
   "codemirror_mode": {
    "name": "ipython",
    "version": 2
   },
   "file_extension": ".py",
   "mimetype": "text/x-python",
   "name": "python",
   "nbconvert_exporter": "python",
   "pygments_lexer": "ipython2",
   "version": "2.7.6"
  }
 },
 "nbformat": 4,
 "nbformat_minor": 5
}
