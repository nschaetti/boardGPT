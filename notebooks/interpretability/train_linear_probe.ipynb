{
 "cells": [
  {
   "metadata": {},
   "cell_type": "markdown",
   "source": "",
   "id": "359bddbc0bc8861f"
  },
  {
   "metadata": {
    "ExecuteTime": {
     "end_time": "2025-10-05T11:53:29.099432Z",
     "start_time": "2025-10-05T11:53:27.217918Z"
    }
   },
   "cell_type": "code",
   "source": [
    "import torch\n",
    "from transformers import AutoTokenizer\n",
    "from boardGPT.models import GameGPT\n",
    "from boardGPT.datasets import BoardDataset, collate_fn_board\n",
    "from boardGPT.games.othello import game_to_board"
   ],
   "id": "11bcae427a0455da",
   "outputs": [],
   "execution_count": 1
  },
  {
   "metadata": {
    "ExecuteTime": {
     "end_time": "2025-10-05T11:53:29.254689Z",
     "start_time": "2025-10-05T11:53:29.117293Z"
    }
   },
   "cell_type": "code",
   "source": "print(torch.cuda.is_available())",
   "id": "6fbcb9a0d5de099e",
   "outputs": [
    {
     "name": "stdout",
     "output_type": "stream",
     "text": [
      "True\n"
     ]
    }
   ],
   "execution_count": 2
  },
  {
   "metadata": {},
   "cell_type": "markdown",
   "source": "## Load models and tokenizer",
   "id": "4602878b17f2da82"
  },
  {
   "metadata": {
    "ExecuteTime": {
     "end_time": "2025-10-05T11:53:30.686273Z",
     "start_time": "2025-10-05T11:53:29.307537Z"
    }
   },
   "cell_type": "code",
   "source": [
    "model, model_config = GameGPT.from_pretrained(repo_id=\"theartificialis/OthelloGPT-Synthetic-20m\")\n",
    "tokenizer = AutoTokenizer.from_pretrained(\"theartificialis/OthelloGPT-Synthetic-20m\", subfolder=\"tokenizer\")\n",
    "model = model.to('cuda')\n",
    "model.eval()"
   ],
   "id": "62ad84ce4ba884e9",
   "outputs": [
    {
     "data": {
      "text/plain": [
       "GameGPT(\n",
       "  (token_emb_hook): HookPoint()\n",
       "  (pos_emb_hook): HookPoint()\n",
       "  (pre_logits_hook): HookPoint()\n",
       "  (transformer): ModuleDict(\n",
       "    (wte): Embedding(61, 512)\n",
       "    (wpe): Embedding(60, 512)\n",
       "    (drop): Dropout(p=0.0, inplace=False)\n",
       "    (h): ModuleList(\n",
       "      (0-7): 8 x Block(\n",
       "        (ln_1): LayerNorm()\n",
       "        (attn): CausalSelfAttention(\n",
       "          (qk_hook): HookPoint()\n",
       "          (v_hook): HookPoint()\n",
       "          (c_attn): Linear(in_features=512, out_features=1536, bias=False)\n",
       "          (c_proj): Linear(in_features=512, out_features=512, bias=False)\n",
       "          (attn_dropout): Dropout(p=0.0, inplace=False)\n",
       "          (resid_dropout): Dropout(p=0.0, inplace=False)\n",
       "        )\n",
       "        (ln_2): LayerNorm()\n",
       "        (mlp): MLP(\n",
       "          (c_fc): Linear(in_features=512, out_features=2048, bias=False)\n",
       "          (gelu): GELU(approximate='none')\n",
       "          (c_proj): Linear(in_features=2048, out_features=512, bias=False)\n",
       "          (dropout): Dropout(p=0.0, inplace=False)\n",
       "        )\n",
       "      )\n",
       "    )\n",
       "    (ln_f): LayerNorm()\n",
       "  )\n",
       "  (lm_head): Linear(in_features=512, out_features=61, bias=False)\n",
       ")"
      ]
     },
     "execution_count": 3,
     "metadata": {},
     "output_type": "execute_result"
    }
   ],
   "execution_count": 3
  },
  {
   "metadata": {
    "ExecuteTime": {
     "end_time": "2025-10-05T11:53:46.376111Z",
     "start_time": "2025-10-05T11:53:30.702430Z"
    }
   },
   "cell_type": "code",
   "source": [
    "val_dataset = BoardDataset(\n",
    "    data_dir=\"../../data/othello/othello-synthetic\",\n",
    "    board_func=game_to_board,\n",
    "    split=\"train\"\n",
    ")"
   ],
   "id": "18d8765f81d4d08b",
   "outputs": [],
   "execution_count": 4
  },
  {
   "metadata": {
    "ExecuteTime": {
     "end_time": "2025-10-05T11:53:46.387664Z",
     "start_time": "2025-10-05T11:53:46.385667Z"
    }
   },
   "cell_type": "code",
   "source": [
    "# Create a dataloader\n",
    "train_dataloader = torch.utils.data.DataLoader(\n",
    "    dataset=val_dataset,\n",
    "    batch_size=512,\n",
    "    num_workers=8,\n",
    "    pin_memory=True,\n",
    "    shuffle=True,\n",
    "    drop_last=False,\n",
    "    collate_fn=lambda b: collate_fn_board(b, tokenizer)\n",
    ")"
   ],
   "id": "f9b3f90e45812340",
   "outputs": [],
   "execution_count": 5
  },
  {
   "metadata": {
    "ExecuteTime": {
     "end_time": "2025-10-05T11:53:47.905730Z",
     "start_time": "2025-10-05T11:53:46.458315Z"
    }
   },
   "cell_type": "code",
   "source": "batch = next(iter(train_dataloader))",
   "id": "3e5f601f2b9f948d",
   "outputs": [],
   "execution_count": 6
  },
  {
   "metadata": {
    "ExecuteTime": {
     "end_time": "2025-10-05T11:53:47.917516Z",
     "start_time": "2025-10-05T11:53:47.915870Z"
    }
   },
   "cell_type": "code",
   "source": [
    "# This is the longtensor with idx for moves\n",
    "batch[0].shape"
   ],
   "id": "7d9553d314325bb8",
   "outputs": [
    {
     "data": {
      "text/plain": [
       "torch.Size([512, 60])"
      ]
     },
     "execution_count": 7,
     "metadata": {},
     "output_type": "execute_result"
    }
   ],
   "execution_count": 7
  },
  {
   "metadata": {
    "ExecuteTime": {
     "end_time": "2025-10-05T11:53:47.965890Z",
     "start_time": "2025-10-05T11:53:47.964030Z"
    }
   },
   "cell_type": "code",
   "source": [
    "# This is the board states\n",
    "batch[1].shape"
   ],
   "id": "7cdcb38a84ceaf44",
   "outputs": [
    {
     "data": {
      "text/plain": [
       "torch.Size([512, 64])"
      ]
     },
     "execution_count": 8,
     "metadata": {},
     "output_type": "execute_result"
    }
   ],
   "execution_count": 8
  },
  {
   "metadata": {
    "ExecuteTime": {
     "end_time": "2025-10-05T11:53:48.286880Z",
     "start_time": "2025-10-05T11:53:48.012575Z"
    }
   },
   "cell_type": "code",
   "source": [
    "x = batch[0].to('cuda')\n",
    "x, logits, loss, residuals = model(x, to_return=['residuals7'])"
   ],
   "id": "da9535ae4ae91d3f",
   "outputs": [],
   "execution_count": 9
  },
  {
   "metadata": {
    "ExecuteTime": {
     "end_time": "2025-10-05T11:53:48.376781Z",
     "start_time": "2025-10-05T11:53:48.374110Z"
    }
   },
   "cell_type": "code",
   "source": "len(residuals)",
   "id": "300954d0ed5775f8",
   "outputs": [
    {
     "data": {
      "text/plain": [
       "1"
      ]
     },
     "execution_count": 10,
     "metadata": {},
     "output_type": "execute_result"
    }
   ],
   "execution_count": 10
  },
  {
   "metadata": {
    "ExecuteTime": {
     "end_time": "2025-10-05T11:53:48.431980Z",
     "start_time": "2025-10-05T11:53:48.429769Z"
    }
   },
   "cell_type": "code",
   "source": "residuals[0].shape",
   "id": "c05b7b3d77b6ab43",
   "outputs": [
    {
     "data": {
      "text/plain": [
       "torch.Size([512, 60, 512])"
      ]
     },
     "execution_count": 11,
     "metadata": {},
     "output_type": "execute_result"
    }
   ],
   "execution_count": 11
  },
  {
   "metadata": {
    "ExecuteTime": {
     "end_time": "2025-10-05T11:53:48.492250Z",
     "start_time": "2025-10-05T11:53:48.489767Z"
    }
   },
   "cell_type": "code",
   "source": [
    "import torch\n",
    "import torch.nn as nn\n",
    "\n",
    "class StackedBoardProbes(nn.Module):\n",
    "    \"\"\"\n",
    "    Linear probes for stacked residuals.\n",
    "\n",
    "    Input:\n",
    "        x: [B, n_layers, T, d_model]\n",
    "    Output:\n",
    "        logits: [B, n_layers, T, 64, 3]\n",
    "    \"\"\"\n",
    "    def __init__(\n",
    "            self,\n",
    "            d_model: int,\n",
    "            n_layers: int = 8\n",
    "    ):\n",
    "        super().__init__()\n",
    "        self.n_layers = n_layers\n",
    "        self.linears = nn.ModuleList([\n",
    "            nn.Linear(d_model, 64 * 3) for _ in range(n_layers)\n",
    "        ])\n",
    "    # end def __init__\n",
    "\n",
    "    def forward(\n",
    "            self,\n",
    "            x: torch.Tensor\n",
    "    ) -> torch.Tensor:\n",
    "        \"\"\"\n",
    "        Args:\n",
    "            x (Tensor): [B, n_layers, T, d_model]\n",
    "        Returns:\n",
    "            logits (Tensor): [B, n_layers, T, 64, 3]\n",
    "        \"\"\"\n",
    "        B, L, T, D = x.shape\n",
    "        outs = []\n",
    "        for i in range(L):\n",
    "            layer_out = self.linears[i](x[:, i])          # [B, T, 192]\n",
    "            layer_out = layer_out.view(B, T, 64, 3)       # [B, T, 64, 3]\n",
    "            outs.append(layer_out)\n",
    "        # end for\n",
    "        return torch.stack(outs, dim=1)                   # [B, L, T, 64, 3]\n",
    "    # end def forward\n",
    "\n",
    "# end class StackedBoardProbes"
   ],
   "id": "d2a75a45a8691b5f",
   "outputs": [],
   "execution_count": 12
  },
  {
   "metadata": {
    "ExecuteTime": {
     "end_time": "2025-10-05T11:53:48.552958Z",
     "start_time": "2025-10-05T11:53:48.548260Z"
    }
   },
   "cell_type": "code",
   "source": [
    "import os\n",
    "os.environ[\"CUDA_LAUNCH_BLOCKING\"] = \"1\"\n",
    "\n",
    "# Create model\n",
    "probes = StackedBoardProbes(d_model=512, n_layers=8).to('cuda')"
   ],
   "id": "ef7a11ece74283d4",
   "outputs": [],
   "execution_count": 13
  },
  {
   "metadata": {
    "ExecuteTime": {
     "end_time": "2025-10-05T11:53:48.607962Z",
     "start_time": "2025-10-05T11:53:48.605978Z"
    }
   },
   "cell_type": "code",
   "source": [
    "criterion = nn.CrossEntropyLoss()\n",
    "optimizer = torch.optim.Adam(probes.parameters(), lr=1e-3)"
   ],
   "id": "540bb3360c69e281",
   "outputs": [],
   "execution_count": 14
  },
  {
   "metadata": {
    "ExecuteTime": {
     "end_time": "2025-10-05T11:55:37.670791Z",
     "start_time": "2025-10-05T11:53:48.666362Z"
    }
   },
   "cell_type": "code",
   "source": [
    "for epoch in range(100):\n",
    "    probes.train()\n",
    "    total_loss = 0.0\n",
    "    total_correct = 0\n",
    "    total_samples = 0\n",
    "\n",
    "    for batch in train_dataloader:\n",
    "        # Moves and game state\n",
    "        move_idx, game_x = batch\n",
    "\n",
    "        # To cuda\n",
    "        move_idx, game_x = move_idx.to('cuda'), game_x.to('cuda')\n",
    "\n",
    "        # Get residuals\n",
    "        with torch.no_grad():\n",
    "            _, _, _, residuals = model(\n",
    "                idx=move_idx,\n",
    "                to_return=[\n",
    "                    'residuals0',\n",
    "                    'residuals1',\n",
    "                    'residuals2',\n",
    "                    'residuals3',\n",
    "                    'residuals4',\n",
    "                    'residuals5',\n",
    "                    'residuals6',\n",
    "                    'residuals7'\n",
    "                ]\n",
    "            )\n",
    "        # end with\n",
    "\n",
    "        # Stack residuals\n",
    "        residuals = torch.stack(residuals, dim=1)\n",
    "\n",
    "        # -------------\n",
    "        # 2. Forward probes\n",
    "        # -------------\n",
    "        preds = probes(residuals)          # [B, 8, 60, 64, 3]\n",
    "        B, L, T, S, C = preds.shape        # 512, 8, 60, 64, 3\n",
    "\n",
    "        # -------------\n",
    "        # 3. Flatten for loss\n",
    "        # -------------\n",
    "        preds = preds.view(B, L * T * S, C)           # [B, 30720, 3]\n",
    "        targets = game_x.unsqueeze(1).expand(-1, L * T, -1)  # [B, 480, 64]\n",
    "        targets = targets.reshape(B, -1)              # [B, 30720]\n",
    "\n",
    "        # -------------\n",
    "        # 4. Compute loss\n",
    "        # -------------\n",
    "        loss = criterion(\n",
    "            preds.reshape(B * 30720, 3),      # [B*30720, 3]\n",
    "            targets.reshape(B * 30720).long()  # [B*30720]\n",
    "        )\n",
    "\n",
    "        # -------------\n",
    "        # 5. Backprop\n",
    "        # -------------\n",
    "        optimizer.zero_grad()\n",
    "        loss.backward()\n",
    "        optimizer.step()\n",
    "\n",
    "        # Total loss\n",
    "        total_loss += loss.item()\n",
    "\n",
    "        # -------------\n",
    "        # 6. Accuracy\n",
    "        # -------------\n",
    "        with torch.no_grad():\n",
    "            pred_labels = preds.argmax(dim=-1)      # [B, 30720]\n",
    "            correct = (pred_labels == targets).float().sum()\n",
    "            total_correct += correct.item()\n",
    "            total_samples += targets.numel()\n",
    "        # end with\n",
    "    # end for\n",
    "\n",
    "    # Epoch stats\n",
    "    epoch_loss = total_loss / len(train_dataloader)\n",
    "    epoch_acc = total_correct / total_samples\n",
    "\n",
    "    print(f\"Epoch {epoch+1:02d} | Loss: {epoch_loss:.4f} | Accuracy: {epoch_acc:.4f}\")\n",
    "# end for"
   ],
   "id": "f242ecdb8d0bf7ff",
   "outputs": [
    {
     "data": {
      "text/plain": [
       "\u001B[31m╭─\u001B[0m\u001B[31m──────────────────────────────────────\u001B[0m\u001B[31m \u001B[0m\u001B[1;31mTraceback \u001B[0m\u001B[1;2;31m(most recent call last)\u001B[0m\u001B[31m \u001B[0m\u001B[31m──────────────────────────────────────\u001B[0m\u001B[31m─╮\u001B[0m\n",
       "\u001B[31m│\u001B[0m in <module>:16                                                                                                  \u001B[31m│\u001B[0m\n",
       "\u001B[31m│\u001B[0m                                                                                                                 \u001B[31m│\u001B[0m\n",
       "\u001B[31m│\u001B[0m   \u001B[2m13 \u001B[0m\u001B[2m│   │   \u001B[0m                                                                                                   \u001B[31m│\u001B[0m\n",
       "\u001B[31m│\u001B[0m   \u001B[2m14 \u001B[0m\u001B[2m│   │   \u001B[0m\u001B[2m# Get residuals\u001B[0m                                                                                    \u001B[31m│\u001B[0m\n",
       "\u001B[31m│\u001B[0m   \u001B[2m15 \u001B[0m\u001B[2m│   │   \u001B[0m\u001B[94mwith\u001B[0m torch.no_grad():                                                                              \u001B[31m│\u001B[0m\n",
       "\u001B[31m│\u001B[0m \u001B[31m❱ \u001B[0m16 \u001B[2m│   │   │   \u001B[0m_, _, _, residuals = \u001B[1;4mmodel(\u001B[0m                                                                    \u001B[31m│\u001B[0m\n",
       "\u001B[31m│\u001B[0m   \u001B[2m17 \u001B[0m\u001B[2m│   │   │   │   \u001B[0m\u001B[1;4midx=move_idx,\u001B[0m                                                                              \u001B[31m│\u001B[0m\n",
       "\u001B[31m│\u001B[0m   \u001B[2m18 \u001B[0m\u001B[2m│   │   │   │   \u001B[0m\u001B[1;4mto_return=[\u001B[0m                                                                                \u001B[31m│\u001B[0m\n",
       "\u001B[31m│\u001B[0m   \u001B[2m19 \u001B[0m\u001B[2m│   │   │   │   │   \u001B[0m\u001B[1;4;33m'\u001B[0m\u001B[1;4;33mresiduals0\u001B[0m\u001B[1;4;33m'\u001B[0m\u001B[1;4m,\u001B[0m                                                                          \u001B[31m│\u001B[0m\n",
       "\u001B[31m│\u001B[0m                                                                                                                 \u001B[31m│\u001B[0m\n",
       "\u001B[31m│\u001B[0m \u001B[2m/home/schaetti/miniconda3/envs/BoardGPT/lib/python3.11/site-packages/torch/nn/modules/\u001B[0m\u001B[1mmodule.py\u001B[0m:1773 in         \u001B[31m│\u001B[0m\n",
       "\u001B[31m│\u001B[0m _wrapped_call_impl                                                                                              \u001B[31m│\u001B[0m\n",
       "\u001B[31m│\u001B[0m                                                                                                                 \u001B[31m│\u001B[0m\n",
       "\u001B[31m│\u001B[0m   \u001B[2m1770 \u001B[0m\u001B[2m│   │   \u001B[0m\u001B[94mif\u001B[0m \u001B[96mself\u001B[0m._compiled_call_impl \u001B[95mis\u001B[0m \u001B[95mnot\u001B[0m \u001B[94mNone\u001B[0m:                                                         \u001B[31m│\u001B[0m\n",
       "\u001B[31m│\u001B[0m   \u001B[2m1771 \u001B[0m\u001B[2m│   │   │   \u001B[0m\u001B[94mreturn\u001B[0m \u001B[96mself\u001B[0m._compiled_call_impl(*args, **kwargs)  \u001B[2m# type: ignore[misc]\u001B[0m                       \u001B[31m│\u001B[0m\n",
       "\u001B[31m│\u001B[0m   \u001B[2m1772 \u001B[0m\u001B[2m│   │   \u001B[0m\u001B[94melse\u001B[0m:                                                                                            \u001B[31m│\u001B[0m\n",
       "\u001B[31m│\u001B[0m \u001B[31m❱ \u001B[0m1773 \u001B[2m│   │   │   \u001B[0m\u001B[94mreturn\u001B[0m \u001B[1;4;96mself\u001B[0m\u001B[1;4m._call_impl(*args, **kwargs)\u001B[0m                                                      \u001B[31m│\u001B[0m\n",
       "\u001B[31m│\u001B[0m   \u001B[2m1774 \u001B[0m\u001B[2m│   \u001B[0m                                                                                                     \u001B[31m│\u001B[0m\n",
       "\u001B[31m│\u001B[0m   \u001B[2m1775 \u001B[0m\u001B[2m│   \u001B[0m\u001B[2m# torchrec tests the code consistency with the following code\u001B[0m                                        \u001B[31m│\u001B[0m\n",
       "\u001B[31m│\u001B[0m   \u001B[2m1776 \u001B[0m\u001B[2m│   \u001B[0m\u001B[2m# fmt: off\u001B[0m                                                                                           \u001B[31m│\u001B[0m\n",
       "\u001B[31m│\u001B[0m                                                                                                                 \u001B[31m│\u001B[0m\n",
       "\u001B[31m│\u001B[0m \u001B[2m/home/schaetti/miniconda3/envs/BoardGPT/lib/python3.11/site-packages/torch/nn/modules/\u001B[0m\u001B[1mmodule.py\u001B[0m:1784 in         \u001B[31m│\u001B[0m\n",
       "\u001B[31m│\u001B[0m _call_impl                                                                                                      \u001B[31m│\u001B[0m\n",
       "\u001B[31m│\u001B[0m                                                                                                                 \u001B[31m│\u001B[0m\n",
       "\u001B[31m│\u001B[0m   \u001B[2m1781 \u001B[0m\u001B[2m│   │   \u001B[0m\u001B[94mif\u001B[0m \u001B[95mnot\u001B[0m (\u001B[96mself\u001B[0m._backward_hooks \u001B[95mor\u001B[0m \u001B[96mself\u001B[0m._backward_pre_hooks \u001B[95mor\u001B[0m \u001B[96mself\u001B[0m._forward_hooks                  \u001B[31m│\u001B[0m\n",
       "\u001B[31m│\u001B[0m        \u001B[95mor\u001B[0m \u001B[96mself\u001B[0m._forward_pre_hooks                                                                               \u001B[31m│\u001B[0m\n",
       "\u001B[31m│\u001B[0m   \u001B[2m1782 \u001B[0m\u001B[2m│   │   │   │   \u001B[0m\u001B[95mor\u001B[0m _global_backward_pre_hooks \u001B[95mor\u001B[0m _global_backward_hooks                                  \u001B[31m│\u001B[0m\n",
       "\u001B[31m│\u001B[0m   \u001B[2m1783 \u001B[0m\u001B[2m│   │   │   │   \u001B[0m\u001B[95mor\u001B[0m _global_forward_hooks \u001B[95mor\u001B[0m _global_forward_pre_hooks):                                  \u001B[31m│\u001B[0m\n",
       "\u001B[31m│\u001B[0m \u001B[31m❱ \u001B[0m1784 \u001B[2m│   │   │   \u001B[0m\u001B[94mreturn\u001B[0m \u001B[1;4mforward_call(*args, **kwargs)\u001B[0m                                                         \u001B[31m│\u001B[0m\n",
       "\u001B[31m│\u001B[0m   \u001B[2m1785 \u001B[0m\u001B[2m│   │   \u001B[0m                                                                                                 \u001B[31m│\u001B[0m\n",
       "\u001B[31m│\u001B[0m   \u001B[2m1786 \u001B[0m\u001B[2m│   │   \u001B[0mresult = \u001B[94mNone\u001B[0m                                                                                    \u001B[31m│\u001B[0m\n",
       "\u001B[31m│\u001B[0m   \u001B[2m1787 \u001B[0m\u001B[2m│   │   \u001B[0mcalled_always_called_hooks = \u001B[96mset\u001B[0m()                                                               \u001B[31m│\u001B[0m\n",
       "\u001B[31m│\u001B[0m                                                                                                                 \u001B[31m│\u001B[0m\n",
       "\u001B[31m│\u001B[0m \u001B[2m/home/schaetti/Projets/RECHERCHES/Recherches/BoardWorld/boardGPT/boardGPT/models/\u001B[0m\u001B[1mgptboard.py\u001B[0m:150 in forward     \u001B[31m│\u001B[0m\n",
       "\u001B[31m│\u001B[0m                                                                                                                 \u001B[31m│\u001B[0m\n",
       "\u001B[31m│\u001B[0m   \u001B[2m147 \u001B[0m\u001B[2m│   │     \u001B[0m\u001B[94melse\u001B[0m:                                                                                           \u001B[31m│\u001B[0m\n",
       "\u001B[31m│\u001B[0m   \u001B[2m148 \u001B[0m\u001B[2m│   │   │      \u001B[0m\u001B[2m# Inference-time mini-optimization: only forward the lm_head on the very \u001B[0m                  \u001B[31m│\u001B[0m\n",
       "\u001B[31m│\u001B[0m       \u001B[2mlast position\u001B[0m                                                                                             \u001B[31m│\u001B[0m\n",
       "\u001B[31m│\u001B[0m   \u001B[2m149 \u001B[0m\u001B[2m│   │   │      \u001B[0m\u001B[2m# output is (b, 1, voc_size)\u001B[0m                                                               \u001B[31m│\u001B[0m\n",
       "\u001B[31m│\u001B[0m \u001B[31m❱ \u001B[0m150 \u001B[2m│   │   │      \u001B[0mlogits = \u001B[1;4;96mself\u001B[0m\u001B[1;4m.lm_head(x[:, [-\u001B[0m\u001B[1;4;94m1\u001B[0m\u001B[1;4m], :])\u001B[0m  \u001B[2m# note: using list [-1] to preserve\u001B[0m                  \u001B[31m│\u001B[0m\n",
       "\u001B[31m│\u001B[0m       \u001B[2mthe time dim\u001B[0m                                                                                              \u001B[31m│\u001B[0m\n",
       "\u001B[31m│\u001B[0m   \u001B[2m151 \u001B[0m\u001B[2m│   │   │      \u001B[0mloss = \u001B[94mNone\u001B[0m                                                                                \u001B[31m│\u001B[0m\n",
       "\u001B[31m│\u001B[0m   \u001B[2m152 \u001B[0m\u001B[2m│   │     \u001B[0m\u001B[2m# end if\u001B[0m                                                                                        \u001B[31m│\u001B[0m\n",
       "\u001B[31m│\u001B[0m   \u001B[2m153 \u001B[0m                                                                                                          \u001B[31m│\u001B[0m\n",
       "\u001B[31m│\u001B[0m                                                                                                                 \u001B[31m│\u001B[0m\n",
       "\u001B[31m│\u001B[0m \u001B[2m/home/schaetti/miniconda3/envs/BoardGPT/lib/python3.11/site-packages/torch/nn/modules/\u001B[0m\u001B[1mmodule.py\u001B[0m:1769 in         \u001B[31m│\u001B[0m\n",
       "\u001B[31m│\u001B[0m _wrapped_call_impl                                                                                              \u001B[31m│\u001B[0m\n",
       "\u001B[31m│\u001B[0m                                                                                                                 \u001B[31m│\u001B[0m\n",
       "\u001B[31m│\u001B[0m   \u001B[2m1766 \u001B[0m\u001B[2m│   │   │   │   \u001B[0mtracing_state.pop_scope()                                                                \u001B[31m│\u001B[0m\n",
       "\u001B[31m│\u001B[0m   \u001B[2m1767 \u001B[0m\u001B[2m│   │   \u001B[0m\u001B[94mreturn\u001B[0m result                                                                                    \u001B[31m│\u001B[0m\n",
       "\u001B[31m│\u001B[0m   \u001B[2m1768 \u001B[0m\u001B[2m│   \u001B[0m                                                                                                     \u001B[31m│\u001B[0m\n",
       "\u001B[31m│\u001B[0m \u001B[31m❱ \u001B[0m1769 \u001B[2m│   \u001B[0m\u001B[94mdef\u001B[0m\u001B[90m \u001B[0m\u001B[92m_wrapped_call_impl\u001B[0m(\u001B[96mself\u001B[0m, *args, **kwargs):                                                       \u001B[31m│\u001B[0m\n",
       "\u001B[31m│\u001B[0m   \u001B[2m1770 \u001B[0m\u001B[2m│   │   \u001B[0m\u001B[94mif\u001B[0m \u001B[96mself\u001B[0m._compiled_call_impl \u001B[95mis\u001B[0m \u001B[95mnot\u001B[0m \u001B[94mNone\u001B[0m:                                                         \u001B[31m│\u001B[0m\n",
       "\u001B[31m│\u001B[0m   \u001B[2m1771 \u001B[0m\u001B[2m│   │   │   \u001B[0m\u001B[94mreturn\u001B[0m \u001B[96mself\u001B[0m._compiled_call_impl(*args, **kwargs)  \u001B[2m# type: ignore[misc]\u001B[0m                       \u001B[31m│\u001B[0m\n",
       "\u001B[31m│\u001B[0m   \u001B[2m1772 \u001B[0m\u001B[2m│   │   \u001B[0m\u001B[94melse\u001B[0m:                                                                                            \u001B[31m│\u001B[0m\n",
       "\u001B[31m╰─────────────────────────────────────────────────────────────────────────────────────────────────────────────────╯\u001B[0m\n",
       "\u001B[1;91mKeyboardInterrupt\u001B[0m\n"
      ],
      "text/html": [
       "<pre style=\"white-space:pre;overflow-x:auto;line-height:normal;font-family:Menlo,'DejaVu Sans Mono',consolas,'Courier New',monospace\"><span style=\"color: #800000; text-decoration-color: #800000\">╭─────────────────────────────────────── </span><span style=\"color: #800000; text-decoration-color: #800000; font-weight: bold\">Traceback </span><span style=\"color: #bf7f7f; text-decoration-color: #bf7f7f; font-weight: bold\">(most recent call last)</span><span style=\"color: #800000; text-decoration-color: #800000\"> ───────────────────────────────────────╮</span>\n",
       "<span style=\"color: #800000; text-decoration-color: #800000\">│</span> in &lt;module&gt;:16                                                                                                  <span style=\"color: #800000; text-decoration-color: #800000\">│</span>\n",
       "<span style=\"color: #800000; text-decoration-color: #800000\">│</span>                                                                                                                 <span style=\"color: #800000; text-decoration-color: #800000\">│</span>\n",
       "<span style=\"color: #800000; text-decoration-color: #800000\">│</span>   <span style=\"color: #7f7f7f; text-decoration-color: #7f7f7f\">13 </span><span style=\"color: #7f7f7f; text-decoration-color: #7f7f7f\">│   │   </span>                                                                                                   <span style=\"color: #800000; text-decoration-color: #800000\">│</span>\n",
       "<span style=\"color: #800000; text-decoration-color: #800000\">│</span>   <span style=\"color: #7f7f7f; text-decoration-color: #7f7f7f\">14 </span><span style=\"color: #7f7f7f; text-decoration-color: #7f7f7f\">│   │   </span><span style=\"color: #7f7f7f; text-decoration-color: #7f7f7f\"># Get residuals</span>                                                                                    <span style=\"color: #800000; text-decoration-color: #800000\">│</span>\n",
       "<span style=\"color: #800000; text-decoration-color: #800000\">│</span>   <span style=\"color: #7f7f7f; text-decoration-color: #7f7f7f\">15 </span><span style=\"color: #7f7f7f; text-decoration-color: #7f7f7f\">│   │   </span><span style=\"color: #0000ff; text-decoration-color: #0000ff\">with</span> torch.no_grad():                                                                              <span style=\"color: #800000; text-decoration-color: #800000\">│</span>\n",
       "<span style=\"color: #800000; text-decoration-color: #800000\">│</span> <span style=\"color: #800000; text-decoration-color: #800000\">❱ </span>16 <span style=\"color: #7f7f7f; text-decoration-color: #7f7f7f\">│   │   │   </span>_, _, _, residuals = <span style=\"font-weight: bold; text-decoration: underline\">model(</span>                                                                    <span style=\"color: #800000; text-decoration-color: #800000\">│</span>\n",
       "<span style=\"color: #800000; text-decoration-color: #800000\">│</span>   <span style=\"color: #7f7f7f; text-decoration-color: #7f7f7f\">17 </span><span style=\"color: #7f7f7f; text-decoration-color: #7f7f7f\">│   │   │   │   </span><span style=\"font-weight: bold; text-decoration: underline\">idx=move_idx,</span>                                                                              <span style=\"color: #800000; text-decoration-color: #800000\">│</span>\n",
       "<span style=\"color: #800000; text-decoration-color: #800000\">│</span>   <span style=\"color: #7f7f7f; text-decoration-color: #7f7f7f\">18 </span><span style=\"color: #7f7f7f; text-decoration-color: #7f7f7f\">│   │   │   │   </span><span style=\"font-weight: bold; text-decoration: underline\">to_return=[</span>                                                                                <span style=\"color: #800000; text-decoration-color: #800000\">│</span>\n",
       "<span style=\"color: #800000; text-decoration-color: #800000\">│</span>   <span style=\"color: #7f7f7f; text-decoration-color: #7f7f7f\">19 </span><span style=\"color: #7f7f7f; text-decoration-color: #7f7f7f\">│   │   │   │   │   </span><span style=\"color: #808000; text-decoration-color: #808000; font-weight: bold; text-decoration: underline\">'residuals0'</span><span style=\"font-weight: bold; text-decoration: underline\">,</span>                                                                          <span style=\"color: #800000; text-decoration-color: #800000\">│</span>\n",
       "<span style=\"color: #800000; text-decoration-color: #800000\">│</span>                                                                                                                 <span style=\"color: #800000; text-decoration-color: #800000\">│</span>\n",
       "<span style=\"color: #800000; text-decoration-color: #800000\">│</span> <span style=\"color: #7f7f7f; text-decoration-color: #7f7f7f\">/home/schaetti/miniconda3/envs/BoardGPT/lib/python3.11/site-packages/torch/nn/modules/</span><span style=\"font-weight: bold\">module.py</span>:1773 in         <span style=\"color: #800000; text-decoration-color: #800000\">│</span>\n",
       "<span style=\"color: #800000; text-decoration-color: #800000\">│</span> _wrapped_call_impl                                                                                              <span style=\"color: #800000; text-decoration-color: #800000\">│</span>\n",
       "<span style=\"color: #800000; text-decoration-color: #800000\">│</span>                                                                                                                 <span style=\"color: #800000; text-decoration-color: #800000\">│</span>\n",
       "<span style=\"color: #800000; text-decoration-color: #800000\">│</span>   <span style=\"color: #7f7f7f; text-decoration-color: #7f7f7f\">1770 </span><span style=\"color: #7f7f7f; text-decoration-color: #7f7f7f\">│   │   </span><span style=\"color: #0000ff; text-decoration-color: #0000ff\">if</span> <span style=\"color: #00ffff; text-decoration-color: #00ffff\">self</span>._compiled_call_impl <span style=\"color: #ff00ff; text-decoration-color: #ff00ff\">is</span> <span style=\"color: #ff00ff; text-decoration-color: #ff00ff\">not</span> <span style=\"color: #0000ff; text-decoration-color: #0000ff\">None</span>:                                                         <span style=\"color: #800000; text-decoration-color: #800000\">│</span>\n",
       "<span style=\"color: #800000; text-decoration-color: #800000\">│</span>   <span style=\"color: #7f7f7f; text-decoration-color: #7f7f7f\">1771 </span><span style=\"color: #7f7f7f; text-decoration-color: #7f7f7f\">│   │   │   </span><span style=\"color: #0000ff; text-decoration-color: #0000ff\">return</span> <span style=\"color: #00ffff; text-decoration-color: #00ffff\">self</span>._compiled_call_impl(*args, **kwargs)  <span style=\"color: #7f7f7f; text-decoration-color: #7f7f7f\"># type: ignore[misc]</span>                       <span style=\"color: #800000; text-decoration-color: #800000\">│</span>\n",
       "<span style=\"color: #800000; text-decoration-color: #800000\">│</span>   <span style=\"color: #7f7f7f; text-decoration-color: #7f7f7f\">1772 </span><span style=\"color: #7f7f7f; text-decoration-color: #7f7f7f\">│   │   </span><span style=\"color: #0000ff; text-decoration-color: #0000ff\">else</span>:                                                                                            <span style=\"color: #800000; text-decoration-color: #800000\">│</span>\n",
       "<span style=\"color: #800000; text-decoration-color: #800000\">│</span> <span style=\"color: #800000; text-decoration-color: #800000\">❱ </span>1773 <span style=\"color: #7f7f7f; text-decoration-color: #7f7f7f\">│   │   │   </span><span style=\"color: #0000ff; text-decoration-color: #0000ff\">return</span> <span style=\"color: #00ffff; text-decoration-color: #00ffff; font-weight: bold; text-decoration: underline\">self</span><span style=\"font-weight: bold; text-decoration: underline\">._call_impl(*args, **kwargs)</span>                                                      <span style=\"color: #800000; text-decoration-color: #800000\">│</span>\n",
       "<span style=\"color: #800000; text-decoration-color: #800000\">│</span>   <span style=\"color: #7f7f7f; text-decoration-color: #7f7f7f\">1774 </span><span style=\"color: #7f7f7f; text-decoration-color: #7f7f7f\">│   </span>                                                                                                     <span style=\"color: #800000; text-decoration-color: #800000\">│</span>\n",
       "<span style=\"color: #800000; text-decoration-color: #800000\">│</span>   <span style=\"color: #7f7f7f; text-decoration-color: #7f7f7f\">1775 </span><span style=\"color: #7f7f7f; text-decoration-color: #7f7f7f\">│   </span><span style=\"color: #7f7f7f; text-decoration-color: #7f7f7f\"># torchrec tests the code consistency with the following code</span>                                        <span style=\"color: #800000; text-decoration-color: #800000\">│</span>\n",
       "<span style=\"color: #800000; text-decoration-color: #800000\">│</span>   <span style=\"color: #7f7f7f; text-decoration-color: #7f7f7f\">1776 </span><span style=\"color: #7f7f7f; text-decoration-color: #7f7f7f\">│   </span><span style=\"color: #7f7f7f; text-decoration-color: #7f7f7f\"># fmt: off</span>                                                                                           <span style=\"color: #800000; text-decoration-color: #800000\">│</span>\n",
       "<span style=\"color: #800000; text-decoration-color: #800000\">│</span>                                                                                                                 <span style=\"color: #800000; text-decoration-color: #800000\">│</span>\n",
       "<span style=\"color: #800000; text-decoration-color: #800000\">│</span> <span style=\"color: #7f7f7f; text-decoration-color: #7f7f7f\">/home/schaetti/miniconda3/envs/BoardGPT/lib/python3.11/site-packages/torch/nn/modules/</span><span style=\"font-weight: bold\">module.py</span>:1784 in         <span style=\"color: #800000; text-decoration-color: #800000\">│</span>\n",
       "<span style=\"color: #800000; text-decoration-color: #800000\">│</span> _call_impl                                                                                                      <span style=\"color: #800000; text-decoration-color: #800000\">│</span>\n",
       "<span style=\"color: #800000; text-decoration-color: #800000\">│</span>                                                                                                                 <span style=\"color: #800000; text-decoration-color: #800000\">│</span>\n",
       "<span style=\"color: #800000; text-decoration-color: #800000\">│</span>   <span style=\"color: #7f7f7f; text-decoration-color: #7f7f7f\">1781 </span><span style=\"color: #7f7f7f; text-decoration-color: #7f7f7f\">│   │   </span><span style=\"color: #0000ff; text-decoration-color: #0000ff\">if</span> <span style=\"color: #ff00ff; text-decoration-color: #ff00ff\">not</span> (<span style=\"color: #00ffff; text-decoration-color: #00ffff\">self</span>._backward_hooks <span style=\"color: #ff00ff; text-decoration-color: #ff00ff\">or</span> <span style=\"color: #00ffff; text-decoration-color: #00ffff\">self</span>._backward_pre_hooks <span style=\"color: #ff00ff; text-decoration-color: #ff00ff\">or</span> <span style=\"color: #00ffff; text-decoration-color: #00ffff\">self</span>._forward_hooks                  <span style=\"color: #800000; text-decoration-color: #800000\">│</span>\n",
       "<span style=\"color: #800000; text-decoration-color: #800000\">│</span>        <span style=\"color: #ff00ff; text-decoration-color: #ff00ff\">or</span> <span style=\"color: #00ffff; text-decoration-color: #00ffff\">self</span>._forward_pre_hooks                                                                               <span style=\"color: #800000; text-decoration-color: #800000\">│</span>\n",
       "<span style=\"color: #800000; text-decoration-color: #800000\">│</span>   <span style=\"color: #7f7f7f; text-decoration-color: #7f7f7f\">1782 </span><span style=\"color: #7f7f7f; text-decoration-color: #7f7f7f\">│   │   │   │   </span><span style=\"color: #ff00ff; text-decoration-color: #ff00ff\">or</span> _global_backward_pre_hooks <span style=\"color: #ff00ff; text-decoration-color: #ff00ff\">or</span> _global_backward_hooks                                  <span style=\"color: #800000; text-decoration-color: #800000\">│</span>\n",
       "<span style=\"color: #800000; text-decoration-color: #800000\">│</span>   <span style=\"color: #7f7f7f; text-decoration-color: #7f7f7f\">1783 </span><span style=\"color: #7f7f7f; text-decoration-color: #7f7f7f\">│   │   │   │   </span><span style=\"color: #ff00ff; text-decoration-color: #ff00ff\">or</span> _global_forward_hooks <span style=\"color: #ff00ff; text-decoration-color: #ff00ff\">or</span> _global_forward_pre_hooks):                                  <span style=\"color: #800000; text-decoration-color: #800000\">│</span>\n",
       "<span style=\"color: #800000; text-decoration-color: #800000\">│</span> <span style=\"color: #800000; text-decoration-color: #800000\">❱ </span>1784 <span style=\"color: #7f7f7f; text-decoration-color: #7f7f7f\">│   │   │   </span><span style=\"color: #0000ff; text-decoration-color: #0000ff\">return</span> <span style=\"font-weight: bold; text-decoration: underline\">forward_call(*args, **kwargs)</span>                                                         <span style=\"color: #800000; text-decoration-color: #800000\">│</span>\n",
       "<span style=\"color: #800000; text-decoration-color: #800000\">│</span>   <span style=\"color: #7f7f7f; text-decoration-color: #7f7f7f\">1785 </span><span style=\"color: #7f7f7f; text-decoration-color: #7f7f7f\">│   │   </span>                                                                                                 <span style=\"color: #800000; text-decoration-color: #800000\">│</span>\n",
       "<span style=\"color: #800000; text-decoration-color: #800000\">│</span>   <span style=\"color: #7f7f7f; text-decoration-color: #7f7f7f\">1786 </span><span style=\"color: #7f7f7f; text-decoration-color: #7f7f7f\">│   │   </span>result = <span style=\"color: #0000ff; text-decoration-color: #0000ff\">None</span>                                                                                    <span style=\"color: #800000; text-decoration-color: #800000\">│</span>\n",
       "<span style=\"color: #800000; text-decoration-color: #800000\">│</span>   <span style=\"color: #7f7f7f; text-decoration-color: #7f7f7f\">1787 </span><span style=\"color: #7f7f7f; text-decoration-color: #7f7f7f\">│   │   </span>called_always_called_hooks = <span style=\"color: #00ffff; text-decoration-color: #00ffff\">set</span>()                                                               <span style=\"color: #800000; text-decoration-color: #800000\">│</span>\n",
       "<span style=\"color: #800000; text-decoration-color: #800000\">│</span>                                                                                                                 <span style=\"color: #800000; text-decoration-color: #800000\">│</span>\n",
       "<span style=\"color: #800000; text-decoration-color: #800000\">│</span> <span style=\"color: #7f7f7f; text-decoration-color: #7f7f7f\">/home/schaetti/Projets/RECHERCHES/Recherches/BoardWorld/boardGPT/boardGPT/models/</span><span style=\"font-weight: bold\">gptboard.py</span>:150 in forward     <span style=\"color: #800000; text-decoration-color: #800000\">│</span>\n",
       "<span style=\"color: #800000; text-decoration-color: #800000\">│</span>                                                                                                                 <span style=\"color: #800000; text-decoration-color: #800000\">│</span>\n",
       "<span style=\"color: #800000; text-decoration-color: #800000\">│</span>   <span style=\"color: #7f7f7f; text-decoration-color: #7f7f7f\">147 </span><span style=\"color: #7f7f7f; text-decoration-color: #7f7f7f\">│   │     </span><span style=\"color: #0000ff; text-decoration-color: #0000ff\">else</span>:                                                                                           <span style=\"color: #800000; text-decoration-color: #800000\">│</span>\n",
       "<span style=\"color: #800000; text-decoration-color: #800000\">│</span>   <span style=\"color: #7f7f7f; text-decoration-color: #7f7f7f\">148 </span><span style=\"color: #7f7f7f; text-decoration-color: #7f7f7f\">│   │   │      </span><span style=\"color: #7f7f7f; text-decoration-color: #7f7f7f\"># Inference-time mini-optimization: only forward the lm_head on the very </span>                  <span style=\"color: #800000; text-decoration-color: #800000\">│</span>\n",
       "<span style=\"color: #800000; text-decoration-color: #800000\">│</span>       <span style=\"color: #7f7f7f; text-decoration-color: #7f7f7f\">last position</span>                                                                                             <span style=\"color: #800000; text-decoration-color: #800000\">│</span>\n",
       "<span style=\"color: #800000; text-decoration-color: #800000\">│</span>   <span style=\"color: #7f7f7f; text-decoration-color: #7f7f7f\">149 </span><span style=\"color: #7f7f7f; text-decoration-color: #7f7f7f\">│   │   │      </span><span style=\"color: #7f7f7f; text-decoration-color: #7f7f7f\"># output is (b, 1, voc_size)</span>                                                               <span style=\"color: #800000; text-decoration-color: #800000\">│</span>\n",
       "<span style=\"color: #800000; text-decoration-color: #800000\">│</span> <span style=\"color: #800000; text-decoration-color: #800000\">❱ </span>150 <span style=\"color: #7f7f7f; text-decoration-color: #7f7f7f\">│   │   │      </span>logits = <span style=\"color: #00ffff; text-decoration-color: #00ffff; font-weight: bold; text-decoration: underline\">self</span><span style=\"font-weight: bold; text-decoration: underline\">.lm_head(x[:, [-</span><span style=\"color: #0000ff; text-decoration-color: #0000ff; font-weight: bold; text-decoration: underline\">1</span><span style=\"font-weight: bold; text-decoration: underline\">], :])</span>  <span style=\"color: #7f7f7f; text-decoration-color: #7f7f7f\"># note: using list [-1] to preserve</span>                  <span style=\"color: #800000; text-decoration-color: #800000\">│</span>\n",
       "<span style=\"color: #800000; text-decoration-color: #800000\">│</span>       <span style=\"color: #7f7f7f; text-decoration-color: #7f7f7f\">the time dim</span>                                                                                              <span style=\"color: #800000; text-decoration-color: #800000\">│</span>\n",
       "<span style=\"color: #800000; text-decoration-color: #800000\">│</span>   <span style=\"color: #7f7f7f; text-decoration-color: #7f7f7f\">151 </span><span style=\"color: #7f7f7f; text-decoration-color: #7f7f7f\">│   │   │      </span>loss = <span style=\"color: #0000ff; text-decoration-color: #0000ff\">None</span>                                                                                <span style=\"color: #800000; text-decoration-color: #800000\">│</span>\n",
       "<span style=\"color: #800000; text-decoration-color: #800000\">│</span>   <span style=\"color: #7f7f7f; text-decoration-color: #7f7f7f\">152 </span><span style=\"color: #7f7f7f; text-decoration-color: #7f7f7f\">│   │     </span><span style=\"color: #7f7f7f; text-decoration-color: #7f7f7f\"># end if</span>                                                                                        <span style=\"color: #800000; text-decoration-color: #800000\">│</span>\n",
       "<span style=\"color: #800000; text-decoration-color: #800000\">│</span>   <span style=\"color: #7f7f7f; text-decoration-color: #7f7f7f\">153 </span>                                                                                                          <span style=\"color: #800000; text-decoration-color: #800000\">│</span>\n",
       "<span style=\"color: #800000; text-decoration-color: #800000\">│</span>                                                                                                                 <span style=\"color: #800000; text-decoration-color: #800000\">│</span>\n",
       "<span style=\"color: #800000; text-decoration-color: #800000\">│</span> <span style=\"color: #7f7f7f; text-decoration-color: #7f7f7f\">/home/schaetti/miniconda3/envs/BoardGPT/lib/python3.11/site-packages/torch/nn/modules/</span><span style=\"font-weight: bold\">module.py</span>:1769 in         <span style=\"color: #800000; text-decoration-color: #800000\">│</span>\n",
       "<span style=\"color: #800000; text-decoration-color: #800000\">│</span> _wrapped_call_impl                                                                                              <span style=\"color: #800000; text-decoration-color: #800000\">│</span>\n",
       "<span style=\"color: #800000; text-decoration-color: #800000\">│</span>                                                                                                                 <span style=\"color: #800000; text-decoration-color: #800000\">│</span>\n",
       "<span style=\"color: #800000; text-decoration-color: #800000\">│</span>   <span style=\"color: #7f7f7f; text-decoration-color: #7f7f7f\">1766 </span><span style=\"color: #7f7f7f; text-decoration-color: #7f7f7f\">│   │   │   │   </span>tracing_state.pop_scope()                                                                <span style=\"color: #800000; text-decoration-color: #800000\">│</span>\n",
       "<span style=\"color: #800000; text-decoration-color: #800000\">│</span>   <span style=\"color: #7f7f7f; text-decoration-color: #7f7f7f\">1767 </span><span style=\"color: #7f7f7f; text-decoration-color: #7f7f7f\">│   │   </span><span style=\"color: #0000ff; text-decoration-color: #0000ff\">return</span> result                                                                                    <span style=\"color: #800000; text-decoration-color: #800000\">│</span>\n",
       "<span style=\"color: #800000; text-decoration-color: #800000\">│</span>   <span style=\"color: #7f7f7f; text-decoration-color: #7f7f7f\">1768 </span><span style=\"color: #7f7f7f; text-decoration-color: #7f7f7f\">│   </span>                                                                                                     <span style=\"color: #800000; text-decoration-color: #800000\">│</span>\n",
       "<span style=\"color: #800000; text-decoration-color: #800000\">│</span> <span style=\"color: #800000; text-decoration-color: #800000\">❱ </span>1769 <span style=\"color: #7f7f7f; text-decoration-color: #7f7f7f\">│   </span><span style=\"color: #0000ff; text-decoration-color: #0000ff\">def</span><span style=\"color: #808080; text-decoration-color: #808080\"> </span><span style=\"color: #00ff00; text-decoration-color: #00ff00\">_wrapped_call_impl</span>(<span style=\"color: #00ffff; text-decoration-color: #00ffff\">self</span>, *args, **kwargs):                                                       <span style=\"color: #800000; text-decoration-color: #800000\">│</span>\n",
       "<span style=\"color: #800000; text-decoration-color: #800000\">│</span>   <span style=\"color: #7f7f7f; text-decoration-color: #7f7f7f\">1770 </span><span style=\"color: #7f7f7f; text-decoration-color: #7f7f7f\">│   │   </span><span style=\"color: #0000ff; text-decoration-color: #0000ff\">if</span> <span style=\"color: #00ffff; text-decoration-color: #00ffff\">self</span>._compiled_call_impl <span style=\"color: #ff00ff; text-decoration-color: #ff00ff\">is</span> <span style=\"color: #ff00ff; text-decoration-color: #ff00ff\">not</span> <span style=\"color: #0000ff; text-decoration-color: #0000ff\">None</span>:                                                         <span style=\"color: #800000; text-decoration-color: #800000\">│</span>\n",
       "<span style=\"color: #800000; text-decoration-color: #800000\">│</span>   <span style=\"color: #7f7f7f; text-decoration-color: #7f7f7f\">1771 </span><span style=\"color: #7f7f7f; text-decoration-color: #7f7f7f\">│   │   │   </span><span style=\"color: #0000ff; text-decoration-color: #0000ff\">return</span> <span style=\"color: #00ffff; text-decoration-color: #00ffff\">self</span>._compiled_call_impl(*args, **kwargs)  <span style=\"color: #7f7f7f; text-decoration-color: #7f7f7f\"># type: ignore[misc]</span>                       <span style=\"color: #800000; text-decoration-color: #800000\">│</span>\n",
       "<span style=\"color: #800000; text-decoration-color: #800000\">│</span>   <span style=\"color: #7f7f7f; text-decoration-color: #7f7f7f\">1772 </span><span style=\"color: #7f7f7f; text-decoration-color: #7f7f7f\">│   │   </span><span style=\"color: #0000ff; text-decoration-color: #0000ff\">else</span>:                                                                                            <span style=\"color: #800000; text-decoration-color: #800000\">│</span>\n",
       "<span style=\"color: #800000; text-decoration-color: #800000\">╰─────────────────────────────────────────────────────────────────────────────────────────────────────────────────╯</span>\n",
       "<span style=\"color: #ff0000; text-decoration-color: #ff0000; font-weight: bold\">KeyboardInterrupt</span>\n",
       "</pre>\n"
      ]
     },
     "metadata": {},
     "output_type": "display_data"
    }
   ],
   "execution_count": 15
  },
  {
   "metadata": {
    "ExecuteTime": {
     "end_time": "2025-10-05T11:55:37.705342434Z",
     "start_time": "2025-10-05T10:17:51.957011Z"
    }
   },
   "cell_type": "code",
   "source": "print(game_x[0])",
   "id": "8d3b51b29bc25b20",
   "outputs": [
    {
     "name": "stdout",
     "output_type": "stream",
     "text": [
      "tensor([0, 0, 0, 0, 1, 2, 0, 0, 0, 0, 0, 1, 0, 2, 0, 2, 0, 0, 0, 1, 1, 2, 2, 0,\n",
      "        2, 0, 0, 1, 1, 2, 2, 0, 1, 1, 1, 2, 1, 1, 1, 1, 1, 1, 2, 2, 0, 2, 1, 0,\n",
      "        0, 1, 1, 2, 0, 2, 1, 1, 0, 1, 0, 2, 1, 0, 0, 0], device='cuda:0')\n"
     ]
    }
   ],
   "execution_count": 20
  },
  {
   "metadata": {
    "ExecuteTime": {
     "end_time": "2025-10-05T11:55:37.722115385Z",
     "start_time": "2025-10-05T11:00:08.385715Z"
    }
   },
   "cell_type": "code",
   "source": "torch.cuda.is_available()",
   "id": "ad8e0d50c66cf3ee",
   "outputs": [
    {
     "data": {
      "text/plain": [
       "True"
      ]
     },
     "execution_count": 58,
     "metadata": {},
     "output_type": "execute_result"
    }
   ],
   "execution_count": 58
  },
  {
   "metadata": {},
   "cell_type": "code",
   "outputs": [],
   "execution_count": null,
   "source": "",
   "id": "81d75353c9ac3e32"
  }
 ],
 "metadata": {
  "kernelspec": {
   "display_name": "Python 3",
   "language": "python",
   "name": "python3"
  },
  "language_info": {
   "codemirror_mode": {
    "name": "ipython",
    "version": 2
   },
   "file_extension": ".py",
   "mimetype": "text/x-python",
   "name": "python",
   "nbconvert_exporter": "python",
   "pygments_lexer": "ipython2",
   "version": "2.7.6"
  }
 },
 "nbformat": 4,
 "nbformat_minor": 5
}
