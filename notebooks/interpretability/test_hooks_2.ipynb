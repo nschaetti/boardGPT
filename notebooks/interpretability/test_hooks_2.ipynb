{
 "cells": [
  {
   "cell_type": "code",
   "id": "initial_id",
   "metadata": {
    "collapsed": true,
    "ExecuteTime": {
     "end_time": "2025-10-02T20:22:01.748360Z",
     "start_time": "2025-10-02T20:21:59.838081Z"
    }
   },
   "source": [
    "import torch\n",
    "from boardGPT.models import GameGPT\n",
    "from transformers import AutoTokenizer"
   ],
   "outputs": [],
   "execution_count": 1
  },
  {
   "metadata": {
    "ExecuteTime": {
     "end_time": "2025-10-02T20:22:02.727886Z",
     "start_time": "2025-10-02T20:22:01.787503Z"
    }
   },
   "cell_type": "code",
   "source": [
    "model, model_config = GameGPT.from_pretrained(repo_id=\"theartificialis/OthelloGPT-Synthetic-20m\")\n",
    "model.to(\"cuda\")\n",
    "model.eval()"
   ],
   "id": "6d771fa2a910c36d",
   "outputs": [
    {
     "data": {
      "text/plain": [
       "GameGPT(\n",
       "  (token_emb_hook): HookPoint()\n",
       "  (pos_emb_hook): HookPoint()\n",
       "  (pre_logits_hook): HookPoint()\n",
       "  (transformer): ModuleDict(\n",
       "    (wte): Embedding(61, 512)\n",
       "    (wpe): Embedding(60, 512)\n",
       "    (drop): Dropout(p=0.0, inplace=False)\n",
       "    (h): ModuleList(\n",
       "      (0-7): 8 x Block(\n",
       "        (ln_1): LayerNorm()\n",
       "        (attn): CausalSelfAttention(\n",
       "          (qk_hook): HookPoint()\n",
       "          (v_hook): HookPoint()\n",
       "          (c_attn): Linear(in_features=512, out_features=1536, bias=False)\n",
       "          (c_proj): Linear(in_features=512, out_features=512, bias=False)\n",
       "          (attn_dropout): Dropout(p=0.0, inplace=False)\n",
       "          (resid_dropout): Dropout(p=0.0, inplace=False)\n",
       "        )\n",
       "        (ln_2): LayerNorm()\n",
       "        (mlp): MLP(\n",
       "          (c_fc): Linear(in_features=512, out_features=2048, bias=False)\n",
       "          (gelu): GELU(approximate='none')\n",
       "          (c_proj): Linear(in_features=2048, out_features=512, bias=False)\n",
       "          (dropout): Dropout(p=0.0, inplace=False)\n",
       "        )\n",
       "      )\n",
       "    )\n",
       "    (ln_f): LayerNorm()\n",
       "  )\n",
       "  (lm_head): Linear(in_features=512, out_features=61, bias=False)\n",
       ")"
      ]
     },
     "execution_count": 2,
     "metadata": {},
     "output_type": "execute_result"
    }
   ],
   "execution_count": 2
  },
  {
   "metadata": {
    "ExecuteTime": {
     "end_time": "2025-10-02T20:23:34.644166Z",
     "start_time": "2025-10-02T20:23:34.637557Z"
    }
   },
   "cell_type": "code",
   "source": [
    "print(f\"block_size={model_config.block_size}\")\n",
    "print(f\"vocab_size={model_config.vocab_size}\")\n",
    "print(f\"n_layers={model_config.n_layers}\")\n",
    "print(f\"n_heads={model_config.n_heads}\")\n",
    "print(f\"n_embd={model_config.n_embd}\")\n",
    "print(f\"dropout={model_config.dropout}\")\n",
    "print()"
   ],
   "id": "2c5d0be6b388aa39",
   "outputs": [
    {
     "data": {
      "text/plain": [
       "GPTConfig(block_size=60, vocab_size=61, n_layer=8, n_head=8, n_embd=512, dropout=0.0, n_latent_token=None, n_latent=None, bias=False)"
      ]
     },
     "execution_count": 14,
     "metadata": {},
     "output_type": "execute_result"
    }
   ],
   "execution_count": 14
  },
  {
   "metadata": {
    "ExecuteTime": {
     "end_time": "2025-10-02T20:22:03.104987Z",
     "start_time": "2025-10-02T20:22:02.801134Z"
    }
   },
   "cell_type": "code",
   "source": "tokenizer = AutoTokenizer.from_pretrained(\"theartificialis/OthelloGPT-Synthetic-20m\", subfolder=\"tokenizer\")",
   "id": "3276d1ea49379f4f",
   "outputs": [],
   "execution_count": 3
  },
  {
   "metadata": {
    "ExecuteTime": {
     "end_time": "2025-10-02T20:22:03.123452Z",
     "start_time": "2025-10-02T20:22:03.116439Z"
    }
   },
   "cell_type": "code",
   "source": [
    "input_ids = tokenizer(\"a4 b3\")['input_ids']\n",
    "input_ids = torch.tensor(input_ids, dtype=torch.long)\n",
    "input_ids = torch.unsqueeze(input_ids, dim=0)\n",
    "input_ids = input_ids.to(\"cuda\")\n",
    "input_ids"
   ],
   "id": "cc750e197c6130c6",
   "outputs": [
    {
     "data": {
      "text/plain": [
       "tensor([[ 4, 11]], device='cuda:0')"
      ]
     },
     "execution_count": 4,
     "metadata": {},
     "output_type": "execute_result"
    }
   ],
   "execution_count": 4
  },
  {
   "metadata": {
    "ExecuteTime": {
     "end_time": "2025-10-02T20:22:04.232514Z",
     "start_time": "2025-10-02T20:22:04.075862Z"
    }
   },
   "cell_type": "code",
   "source": [
    "x, logits, loss, objects = model(\n",
    "    idx=input_ids,\n",
    "    to_return=[\"residuals0\"]\n",
    ")"
   ],
   "id": "3fc83fa7eac92ab0",
   "outputs": [],
   "execution_count": 5
  },
  {
   "metadata": {
    "ExecuteTime": {
     "end_time": "2025-10-02T20:22:04.906655Z",
     "start_time": "2025-10-02T20:22:04.902162Z"
    }
   },
   "cell_type": "code",
   "source": [
    "# x: derniers residuals (512 par token)\n",
    "x.shape"
   ],
   "id": "54b89764b0679332",
   "outputs": [
    {
     "data": {
      "text/plain": [
       "torch.Size([1, 2, 512])"
      ]
     },
     "execution_count": 6,
     "metadata": {},
     "output_type": "execute_result"
    }
   ],
   "execution_count": 6
  },
  {
   "metadata": {
    "ExecuteTime": {
     "end_time": "2025-10-02T20:22:06.125608Z",
     "start_time": "2025-10-02T20:22:06.120521Z"
    }
   },
   "cell_type": "code",
   "source": [
    "# logits, probs pour le dernier token de la séquence\n",
    "logits.shape"
   ],
   "id": "79f90ab5ffb10f75",
   "outputs": [
    {
     "data": {
      "text/plain": [
       "torch.Size([1, 1, 61])"
      ]
     },
     "execution_count": 7,
     "metadata": {},
     "output_type": "execute_result"
    }
   ],
   "execution_count": 7
  },
  {
   "metadata": {
    "ExecuteTime": {
     "end_time": "2025-10-02T20:22:07.189337Z",
     "start_time": "2025-10-02T20:22:07.184422Z"
    }
   },
   "cell_type": "code",
   "source": "print(loss)",
   "id": "ed6dbb5daa59a997",
   "outputs": [
    {
     "name": "stdout",
     "output_type": "stream",
     "text": [
      "None\n"
     ]
    }
   ],
   "execution_count": 8
  },
  {
   "metadata": {
    "ExecuteTime": {
     "end_time": "2025-10-02T20:22:31.839286Z",
     "start_time": "2025-10-02T20:22:31.836208Z"
    }
   },
   "cell_type": "code",
   "source": [
    "# Residual du bloc zéro\n",
    "objects[0].shape"
   ],
   "id": "bfb207cc82872e55",
   "outputs": [
    {
     "data": {
      "text/plain": [
       "torch.Size([1, 2, 512])"
      ]
     },
     "execution_count": 13,
     "metadata": {},
     "output_type": "execute_result"
    }
   ],
   "execution_count": 13
  },
  {
   "metadata": {
    "ExecuteTime": {
     "end_time": "2025-10-02T20:22:09.126453Z",
     "start_time": "2025-10-02T20:22:09.122170Z"
    }
   },
   "cell_type": "code",
   "source": "model",
   "id": "ed76b504ac4cc69b",
   "outputs": [
    {
     "data": {
      "text/plain": [
       "GameGPT(\n",
       "  (token_emb_hook): HookPoint()\n",
       "  (pos_emb_hook): HookPoint()\n",
       "  (pre_logits_hook): HookPoint()\n",
       "  (transformer): ModuleDict(\n",
       "    (wte): Embedding(61, 512)\n",
       "    (wpe): Embedding(60, 512)\n",
       "    (drop): Dropout(p=0.0, inplace=False)\n",
       "    (h): ModuleList(\n",
       "      (0-7): 8 x Block(\n",
       "        (ln_1): LayerNorm()\n",
       "        (attn): CausalSelfAttention(\n",
       "          (qk_hook): HookPoint()\n",
       "          (v_hook): HookPoint()\n",
       "          (c_attn): Linear(in_features=512, out_features=1536, bias=False)\n",
       "          (c_proj): Linear(in_features=512, out_features=512, bias=False)\n",
       "          (attn_dropout): Dropout(p=0.0, inplace=False)\n",
       "          (resid_dropout): Dropout(p=0.0, inplace=False)\n",
       "        )\n",
       "        (ln_2): LayerNorm()\n",
       "        (mlp): MLP(\n",
       "          (c_fc): Linear(in_features=512, out_features=2048, bias=False)\n",
       "          (gelu): GELU(approximate='none')\n",
       "          (c_proj): Linear(in_features=2048, out_features=512, bias=False)\n",
       "          (dropout): Dropout(p=0.0, inplace=False)\n",
       "        )\n",
       "      )\n",
       "    )\n",
       "    (ln_f): LayerNorm()\n",
       "  )\n",
       "  (lm_head): Linear(in_features=512, out_features=61, bias=False)\n",
       ")"
      ]
     },
     "execution_count": 10,
     "metadata": {},
     "output_type": "execute_result"
    }
   ],
   "execution_count": 10
  },
  {
   "metadata": {},
   "cell_type": "code",
   "outputs": [],
   "execution_count": null,
   "source": "",
   "id": "86cee8b788777926"
  }
 ],
 "metadata": {
  "kernelspec": {
   "display_name": "Python 3",
   "language": "python",
   "name": "python3"
  },
  "language_info": {
   "codemirror_mode": {
    "name": "ipython",
    "version": 2
   },
   "file_extension": ".py",
   "mimetype": "text/x-python",
   "name": "python",
   "nbconvert_exporter": "python",
   "pygments_lexer": "ipython2",
   "version": "2.7.6"
  }
 },
 "nbformat": 4,
 "nbformat_minor": 5
}
