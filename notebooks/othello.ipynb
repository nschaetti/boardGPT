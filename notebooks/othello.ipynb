{
 "cells": [
  {
   "cell_type": "code",
   "id": "initial_id",
   "metadata": {
    "collapsed": true,
    "ExecuteTime": {
     "end_time": "2025-09-26T21:40:47.856298Z",
     "start_time": "2025-09-26T21:40:46.746217Z"
    }
   },
   "source": [
    "from boardGPT import (\n",
    "    othello,\n",
    "    valid,\n",
    "    next,\n",
    "    rnext,\n",
    "    valid_moves,\n",
    "    is_over,\n",
    "    valid_moves_notation,\n",
    "    show,\n",
    "    get_moves,\n",
    "    has_moves,\n",
    "    notation_to_moves,\n",
    "    moves_to_notation,\n",
    "    generate_game\n",
    ")"
   ],
   "outputs": [],
   "execution_count": 1
  },
  {
   "metadata": {
    "ExecuteTime": {
     "end_time": "2025-09-26T21:40:47.907848Z",
     "start_time": "2025-09-26T21:40:47.902066Z"
    }
   },
   "cell_type": "code",
   "source": [
    "game = othello(\"c4\")\n",
    "game"
   ],
   "id": "f9735b6eee2cc303",
   "outputs": [
    {
     "data": {
      "text/plain": [
       "    a   b   c   d   e   f   g   h \n",
       "  ---------------------------------\n",
       "1 |   |   |   |   |   |   |   |   | 1\n",
       "  ---------------------------------\n",
       "2 |   |   |   |   |   |   |   |   | 2\n",
       "  ---------------------------------\n",
       "3 |   |   |   |   |   |   |   |   | 3\n",
       "  ---------------------------------\n",
       "4 |   |   | X*| X | X |   |   |   | 4\n",
       "  ---------------------------------\n",
       "5 |   |   |   | X | O |   |   |   | 5\n",
       "  ---------------------------------\n",
       "6 |   |   |   |   |   |   |   |   | 6\n",
       "  ---------------------------------\n",
       "7 |   |   |   |   |   |   |   |   | 7\n",
       "  ---------------------------------\n",
       "8 |   |   |   |   |   |   |   |   | 8\n",
       "  ---------------------------------\n",
       "    a   b   c   d   e   f   g   h "
      ]
     },
     "execution_count": 2,
     "metadata": {},
     "output_type": "execute_result"
    }
   ],
   "execution_count": 2
  },
  {
   "metadata": {
    "ExecuteTime": {
     "end_time": "2025-09-26T21:40:47.978195Z",
     "start_time": "2025-09-26T21:40:47.971591Z"
    }
   },
   "cell_type": "code",
   "source": "valid(game, \"c5\")",
   "id": "5a41592779ced362",
   "outputs": [
    {
     "data": {
      "text/plain": [
       "True"
      ]
     },
     "execution_count": 3,
     "metadata": {},
     "output_type": "execute_result"
    }
   ],
   "execution_count": 3
  },
  {
   "metadata": {
    "ExecuteTime": {
     "end_time": "2025-09-26T21:40:48.031277Z",
     "start_time": "2025-09-26T21:40:48.028132Z"
    }
   },
   "cell_type": "code",
   "source": "valid_moves(game)",
   "id": "1772b26332d98a35",
   "outputs": [
    {
     "data": {
      "text/plain": [
       "[(2, 2), (2, 4), (4, 2)]"
      ]
     },
     "execution_count": 4,
     "metadata": {},
     "output_type": "execute_result"
    }
   ],
   "execution_count": 4
  },
  {
   "metadata": {
    "ExecuteTime": {
     "end_time": "2025-09-26T21:40:48.113423Z",
     "start_time": "2025-09-26T21:40:48.109617Z"
    }
   },
   "cell_type": "code",
   "source": "is_over(game)",
   "id": "35c505758e498107",
   "outputs": [
    {
     "data": {
      "text/plain": [
       "False"
      ]
     },
     "execution_count": 5,
     "metadata": {},
     "output_type": "execute_result"
    }
   ],
   "execution_count": 5
  },
  {
   "metadata": {
    "ExecuteTime": {
     "end_time": "2025-09-26T21:40:48.220194Z",
     "start_time": "2025-09-26T21:40:48.217021Z"
    }
   },
   "cell_type": "code",
   "source": "valid_moves_notation(game)",
   "id": "a683095ba84dbd3a",
   "outputs": [
    {
     "data": {
      "text/plain": [
       "['c3', 'e3', 'c5']"
      ]
     },
     "execution_count": 6,
     "metadata": {},
     "output_type": "execute_result"
    }
   ],
   "execution_count": 6
  },
  {
   "metadata": {
    "ExecuteTime": {
     "end_time": "2025-09-26T21:40:48.272568Z",
     "start_time": "2025-09-26T21:40:48.269913Z"
    }
   },
   "cell_type": "code",
   "source": "next(game, \"c5\")",
   "id": "e42eefd01bd5300",
   "outputs": [
    {
     "data": {
      "text/plain": [
       "    a   b   c   d   e   f   g   h \n",
       "  ---------------------------------\n",
       "1 |   |   |   |   |   |   |   |   | 1\n",
       "  ---------------------------------\n",
       "2 |   |   |   |   |   |   |   |   | 2\n",
       "  ---------------------------------\n",
       "3 |   |   |   |   |   |   |   |   | 3\n",
       "  ---------------------------------\n",
       "4 |   |   | X | X | X |   |   |   | 4\n",
       "  ---------------------------------\n",
       "5 |   |   | O*| O | O |   |   |   | 5\n",
       "  ---------------------------------\n",
       "6 |   |   |   |   |   |   |   |   | 6\n",
       "  ---------------------------------\n",
       "7 |   |   |   |   |   |   |   |   | 7\n",
       "  ---------------------------------\n",
       "8 |   |   |   |   |   |   |   |   | 8\n",
       "  ---------------------------------\n",
       "    a   b   c   d   e   f   g   h "
      ]
     },
     "execution_count": 7,
     "metadata": {},
     "output_type": "execute_result"
    }
   ],
   "execution_count": 7
  },
  {
   "metadata": {
    "ExecuteTime": {
     "end_time": "2025-09-26T21:40:48.327101Z",
     "start_time": "2025-09-26T21:40:48.321956Z"
    }
   },
   "cell_type": "code",
   "source": "rnext(game)",
   "id": "d9b8a012ad10dcd0",
   "outputs": [
    {
     "data": {
      "text/plain": [
       "    a   b   c   d   e   f   g   h \n",
       "  ---------------------------------\n",
       "1 |   |   |   |   |   |   |   |   | 1\n",
       "  ---------------------------------\n",
       "2 |   |   |   |   |   |   |   |   | 2\n",
       "  ---------------------------------\n",
       "3 |   |   |   |   |   |   |   |   | 3\n",
       "  ---------------------------------\n",
       "4 |   |   | X | X | X |   |   |   | 4\n",
       "  ---------------------------------\n",
       "5 |   |   | X | O | O |   |   |   | 5\n",
       "  ---------------------------------\n",
       "6 |   | X*|   |   |   |   |   |   | 6\n",
       "  ---------------------------------\n",
       "7 |   |   |   |   |   |   |   |   | 7\n",
       "  ---------------------------------\n",
       "8 |   |   |   |   |   |   |   |   | 8\n",
       "  ---------------------------------\n",
       "    a   b   c   d   e   f   g   h "
      ]
     },
     "execution_count": 8,
     "metadata": {},
     "output_type": "execute_result"
    }
   ],
   "execution_count": 8
  },
  {
   "metadata": {
    "ExecuteTime": {
     "end_time": "2025-09-26T21:40:48.386911Z",
     "start_time": "2025-09-26T21:40:48.383096Z"
    }
   },
   "cell_type": "code",
   "source": "rnext(game)",
   "id": "42f059c85088030d",
   "outputs": [
    {
     "data": {
      "text/plain": [
       "    a   b   c   d   e   f   g   h \n",
       "  ---------------------------------\n",
       "1 |   |   |   |   |   |   |   |   | 1\n",
       "  ---------------------------------\n",
       "2 |   |   |   |   |   |   |   |   | 2\n",
       "  ---------------------------------\n",
       "3 |   |   | O*|   |   |   |   |   | 3\n",
       "  ---------------------------------\n",
       "4 |   |   | X | O | X |   |   |   | 4\n",
       "  ---------------------------------\n",
       "5 |   |   | X | O | O |   |   |   | 5\n",
       "  ---------------------------------\n",
       "6 |   | X |   |   |   |   |   |   | 6\n",
       "  ---------------------------------\n",
       "7 |   |   |   |   |   |   |   |   | 7\n",
       "  ---------------------------------\n",
       "8 |   |   |   |   |   |   |   |   | 8\n",
       "  ---------------------------------\n",
       "    a   b   c   d   e   f   g   h "
      ]
     },
     "execution_count": 9,
     "metadata": {},
     "output_type": "execute_result"
    }
   ],
   "execution_count": 9
  },
  {
   "metadata": {
    "ExecuteTime": {
     "end_time": "2025-09-26T21:40:48.442459Z",
     "start_time": "2025-09-26T21:40:48.438565Z"
    }
   },
   "cell_type": "code",
   "source": "notation_to_moves(game, [\"c4\", \"c5\"])",
   "id": "d2c8f664b776397a",
   "outputs": [
    {
     "data": {
      "text/plain": [
       "[(3, 2), (4, 2)]"
      ]
     },
     "execution_count": 10,
     "metadata": {},
     "output_type": "execute_result"
    }
   ],
   "execution_count": 10
  },
  {
   "metadata": {
    "ExecuteTime": {
     "end_time": "2025-09-26T21:40:48.503225Z",
     "start_time": "2025-09-26T21:40:48.500335Z"
    }
   },
   "cell_type": "code",
   "source": "moves_to_notation(game, [(3, 2), (4, 2)])",
   "id": "d9e4a23af20a9254",
   "outputs": [
    {
     "data": {
      "text/plain": [
       "['c4', 'c5']"
      ]
     },
     "execution_count": 11,
     "metadata": {},
     "output_type": "execute_result"
    }
   ],
   "execution_count": 11
  },
  {
   "metadata": {
    "ExecuteTime": {
     "end_time": "2025-09-26T21:41:37.218981Z",
     "start_time": "2025-09-26T21:41:37.211017Z"
    }
   },
   "cell_type": "code",
   "source": [
    "new_game = generate_game(\"othello\", full_game=False, max_length=3)\n",
    "new_game"
   ],
   "id": "79911197996e11ac",
   "outputs": [
    {
     "data": {
      "text/plain": [
       "    a   b   c   d   e   f   g   h \n",
       "  ---------------------------------\n",
       "1 |   |   |   |   |   |   |   |   | 1\n",
       "  ---------------------------------\n",
       "2 |   |   |   |   |   |   |   |   | 2\n",
       "  ---------------------------------\n",
       "3 |   |   |   |   |   |   |   |   | 3\n",
       "  ---------------------------------\n",
       "4 |   |   | X | X | X |   |   |   | 4\n",
       "  ---------------------------------\n",
       "5 |   |   | O | X | O |   |   |   | 5\n",
       "  ---------------------------------\n",
       "6 |   |   |   | X*|   |   |   |   | 6\n",
       "  ---------------------------------\n",
       "7 |   |   |   |   |   |   |   |   | 7\n",
       "  ---------------------------------\n",
       "8 |   |   |   |   |   |   |   |   | 8\n",
       "  ---------------------------------\n",
       "    a   b   c   d   e   f   g   h "
      ]
     },
     "execution_count": 19,
     "metadata": {},
     "output_type": "execute_result"
    }
   ],
   "execution_count": 19
  },
  {
   "metadata": {
    "ExecuteTime": {
     "end_time": "2025-09-26T21:41:44.667577Z",
     "start_time": "2025-09-26T21:41:44.663077Z"
    }
   },
   "cell_type": "code",
   "source": "len(new_game)",
   "id": "38c06f68b4cd9558",
   "outputs": [
    {
     "data": {
      "text/plain": [
       "3"
      ]
     },
     "execution_count": 20,
     "metadata": {},
     "output_type": "execute_result"
    }
   ],
   "execution_count": 20
  },
  {
   "metadata": {},
   "cell_type": "code",
   "outputs": [],
   "execution_count": null,
   "source": "",
   "id": "e0d27131e3a72b16"
  }
 ],
 "metadata": {
  "kernelspec": {
   "display_name": "Python 3",
   "language": "python",
   "name": "python3"
  },
  "language_info": {
   "codemirror_mode": {
    "name": "ipython",
    "version": 2
   },
   "file_extension": ".py",
   "mimetype": "text/x-python",
   "name": "python",
   "nbconvert_exporter": "python",
   "pygments_lexer": "ipython2",
   "version": "2.7.6"
  }
 },
 "nbformat": 4,
 "nbformat_minor": 5
}
