{
 "cells": [
  {
   "cell_type": "code",
   "id": "initial_id",
   "metadata": {
    "collapsed": true,
    "ExecuteTime": {
     "end_time": "2025-09-29T21:19:28.729050Z",
     "start_time": "2025-09-29T21:19:28.725132Z"
    }
   },
   "source": "from boardGPT.models import GameGPT",
   "outputs": [],
   "execution_count": 3
  },
  {
   "metadata": {
    "ExecuteTime": {
     "end_time": "2025-09-29T21:19:34.364425Z",
     "start_time": "2025-09-29T21:19:29.428117Z"
    }
   },
   "cell_type": "code",
   "source": "model = GameGPT.from_pretrained(\"theartificialis/OthelloGPT-Synthetic-20m\")",
   "id": "7ce1f57e1f2130ce",
   "outputs": [
    {
     "data": {
      "text/plain": [
       "config.yaml:   0%|          | 0.00/87.0 [00:00<?, ?B/s]"
      ],
      "application/vnd.jupyter.widget-view+json": {
       "version_major": 2,
       "version_minor": 0,
       "model_id": "437fec41beaa4e3dbb6d3c0fc0ce4190"
      }
     },
     "metadata": {},
     "output_type": "display_data"
    },
    {
     "data": {
      "text/plain": [
       "safetensors/model.safetensors:   0%|          | 0.00/101M [00:00<?, ?B/s]"
      ],
      "application/vnd.jupyter.widget-view+json": {
       "version_major": 2,
       "version_minor": 0,
       "model_id": "f33043c39c954853b131923ecbcaf9bd"
      }
     },
     "metadata": {},
     "output_type": "display_data"
    }
   ],
   "execution_count": 4
  },
  {
   "metadata": {
    "ExecuteTime": {
     "end_time": "2025-09-29T21:19:39.560081Z",
     "start_time": "2025-09-29T21:19:39.554766Z"
    }
   },
   "cell_type": "code",
   "source": "model",
   "id": "cf3da0bb9437a0f7",
   "outputs": [
    {
     "data": {
      "text/plain": [
       "GameGPT(\n",
       "  (token_emb_hook): HookPoint()\n",
       "  (pos_emb_hook): HookPoint()\n",
       "  (pre_logits_hook): HookPoint()\n",
       "  (transformer): ModuleDict(\n",
       "    (wte): Embedding(61, 512)\n",
       "    (wpe): Embedding(60, 512)\n",
       "    (drop): Dropout(p=0.0, inplace=False)\n",
       "    (h): ModuleList(\n",
       "      (0-7): 8 x Block(\n",
       "        (ln_1): LayerNorm()\n",
       "        (attn): CausalSelfAttention(\n",
       "          (qk_hook): HookPoint()\n",
       "          (v_hook): HookPoint()\n",
       "          (c_attn): Linear(in_features=512, out_features=1536, bias=False)\n",
       "          (c_proj): Linear(in_features=512, out_features=512, bias=False)\n",
       "          (attn_dropout): Dropout(p=0.0, inplace=False)\n",
       "          (resid_dropout): Dropout(p=0.0, inplace=False)\n",
       "        )\n",
       "        (ln_2): LayerNorm()\n",
       "        (mlp): MLP(\n",
       "          (c_fc): Linear(in_features=512, out_features=2048, bias=False)\n",
       "          (gelu): GELU(approximate='none')\n",
       "          (c_proj): Linear(in_features=2048, out_features=512, bias=False)\n",
       "          (dropout): Dropout(p=0.0, inplace=False)\n",
       "        )\n",
       "      )\n",
       "    )\n",
       "    (ln_f): LayerNorm()\n",
       "  )\n",
       "  (lm_head): Linear(in_features=512, out_features=61, bias=False)\n",
       ")"
      ]
     },
     "execution_count": 5,
     "metadata": {},
     "output_type": "execute_result"
    }
   ],
   "execution_count": 5
  },
  {
   "metadata": {},
   "cell_type": "code",
   "outputs": [],
   "execution_count": null,
   "source": "",
   "id": "b85764e1e01ee741"
  }
 ],
 "metadata": {
  "kernelspec": {
   "display_name": "Python 3",
   "language": "python",
   "name": "python3"
  },
  "language_info": {
   "codemirror_mode": {
    "name": "ipython",
    "version": 2
   },
   "file_extension": ".py",
   "mimetype": "text/x-python",
   "name": "python",
   "nbconvert_exporter": "python",
   "pygments_lexer": "ipython2",
   "version": "2.7.6"
  }
 },
 "nbformat": 4,
 "nbformat_minor": 5
}
