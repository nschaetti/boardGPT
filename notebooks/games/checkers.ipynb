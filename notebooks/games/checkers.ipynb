{
 "cells": [
  {
   "metadata": {},
   "cell_type": "markdown",
   "source": "",
   "id": "1e1cfcb2a36c2e20"
  },
  {
   "metadata": {
    "ExecuteTime": {
     "end_time": "2025-09-27T18:32:01.931110Z",
     "start_time": "2025-09-27T18:32:00.879321Z"
    }
   },
   "cell_type": "code",
   "source": [
    "from boardGPT import checkers, generate_game\n",
    "from boardGPT.games import CheckersGame, CheckersBoard"
   ],
   "id": "4603623cc5c6dcb5",
   "outputs": [],
   "execution_count": 1
  },
  {
   "metadata": {
    "ExecuteTime": {
     "end_time": "2025-09-27T18:32:01.970244Z",
     "start_time": "2025-09-27T18:32:01.967572Z"
    }
   },
   "cell_type": "code",
   "source": "board = CheckersBoard()",
   "id": "1a39cf60d2ea6156",
   "outputs": [],
   "execution_count": 2
  },
  {
   "metadata": {
    "ExecuteTime": {
     "end_time": "2025-09-27T18:32:02.020965Z",
     "start_time": "2025-09-27T18:32:02.018529Z"
    }
   },
   "cell_type": "code",
   "source": "game = CheckersGame()",
   "id": "d1f3a48b70198d96",
   "outputs": [],
   "execution_count": 3
  },
  {
   "metadata": {
    "ExecuteTime": {
     "end_time": "2025-09-27T18:32:02.075146Z",
     "start_time": "2025-09-27T18:32:02.067925Z"
    }
   },
   "cell_type": "code",
   "source": "game.print()",
   "id": "be443c5ba6f03016",
   "outputs": [
    {
     "data": {
      "text/plain": [
       "  \u001B[1;36m0\u001B[0m \u001B[1;36m1\u001B[0m \u001B[1;36m2\u001B[0m \u001B[1;36m3\u001B[0m \u001B[1;36m4\u001B[0m \u001B[1;36m5\u001B[0m \u001B[1;36m6\u001B[0m \u001B[1;36m7\u001B[0m \u001B[1;36m8\u001B[0m \u001B[1;36m9\u001B[0m \n",
       "\u001B[1;36m0\u001B[0m ⊡ \u001B[1;34m○\u001B[0m ⊡ \u001B[1;34m○\u001B[0m ⊡ \u001B[1;34m○\u001B[0m ⊡ \u001B[1;34m○\u001B[0m ⊡ \u001B[1;34m○\u001B[0m \u001B[1;36m0\u001B[0m\n",
       "\u001B[1;36m1\u001B[0m \u001B[1;34m○\u001B[0m ⊡ \u001B[1;34m○\u001B[0m ⊡ \u001B[1;34m○\u001B[0m ⊡ \u001B[1;34m○\u001B[0m ⊡ \u001B[1;34m○\u001B[0m ⊡ \u001B[1;36m1\u001B[0m\n",
       "\u001B[1;36m2\u001B[0m ⊡ \u001B[1;34m○\u001B[0m ⊡ \u001B[1;34m○\u001B[0m ⊡ \u001B[1;34m○\u001B[0m ⊡ \u001B[1;34m○\u001B[0m ⊡ \u001B[1;34m○\u001B[0m \u001B[1;36m2\u001B[0m\n",
       "\u001B[1;36m3\u001B[0m \u001B[1;34m○\u001B[0m ⊡ \u001B[1;34m○\u001B[0m ⊡ \u001B[1;34m○\u001B[0m ⊡ \u001B[1;34m○\u001B[0m ⊡ \u001B[1;34m○\u001B[0m ⊡ \u001B[1;36m3\u001B[0m\n",
       "\u001B[1;36m4\u001B[0m ⊡ ⊠ ⊡ ⊠ ⊡ ⊠ ⊡ ⊠ ⊡ ⊠ \u001B[1;36m4\u001B[0m\n",
       "\u001B[1;36m5\u001B[0m ⊠ ⊡ ⊠ ⊡ ⊠ ⊡ ⊠ ⊡ ⊠ ⊡ \u001B[1;36m5\u001B[0m\n",
       "\u001B[1;36m6\u001B[0m ⊡ \u001B[1;31m●\u001B[0m ⊡ \u001B[1;31m●\u001B[0m ⊡ \u001B[1;31m●\u001B[0m ⊡ \u001B[1;31m●\u001B[0m ⊡ \u001B[1;31m●\u001B[0m \u001B[1;36m6\u001B[0m\n",
       "\u001B[1;36m7\u001B[0m \u001B[1;31m●\u001B[0m ⊡ \u001B[1;31m●\u001B[0m ⊡ \u001B[1;31m●\u001B[0m ⊡ \u001B[1;31m●\u001B[0m ⊡ \u001B[1;31m●\u001B[0m ⊡ \u001B[1;36m7\u001B[0m\n",
       "\u001B[1;36m8\u001B[0m ⊡ \u001B[1;31m●\u001B[0m ⊡ \u001B[1;31m●\u001B[0m ⊡ \u001B[1;31m●\u001B[0m ⊡ \u001B[1;31m●\u001B[0m ⊡ \u001B[1;31m●\u001B[0m \u001B[1;36m8\u001B[0m\n",
       "\u001B[1;36m9\u001B[0m \u001B[1;31m●\u001B[0m ⊡ \u001B[1;31m●\u001B[0m ⊡ \u001B[1;31m●\u001B[0m ⊡ \u001B[1;31m●\u001B[0m ⊡ \u001B[1;31m●\u001B[0m ⊡ \u001B[1;36m9\u001B[0m\n",
       "  \u001B[1;36m0\u001B[0m \u001B[1;36m1\u001B[0m \u001B[1;36m2\u001B[0m \u001B[1;36m3\u001B[0m \u001B[1;36m4\u001B[0m \u001B[1;36m5\u001B[0m \u001B[1;36m6\u001B[0m \u001B[1;36m7\u001B[0m \u001B[1;36m8\u001B[0m \u001B[1;36m9\u001B[0m \n"
      ],
      "text/html": [
       "<pre style=\"white-space:pre;overflow-x:auto;line-height:normal;font-family:Menlo,'DejaVu Sans Mono',consolas,'Courier New',monospace\">  <span style=\"color: #008080; text-decoration-color: #008080; font-weight: bold\">0</span> <span style=\"color: #008080; text-decoration-color: #008080; font-weight: bold\">1</span> <span style=\"color: #008080; text-decoration-color: #008080; font-weight: bold\">2</span> <span style=\"color: #008080; text-decoration-color: #008080; font-weight: bold\">3</span> <span style=\"color: #008080; text-decoration-color: #008080; font-weight: bold\">4</span> <span style=\"color: #008080; text-decoration-color: #008080; font-weight: bold\">5</span> <span style=\"color: #008080; text-decoration-color: #008080; font-weight: bold\">6</span> <span style=\"color: #008080; text-decoration-color: #008080; font-weight: bold\">7</span> <span style=\"color: #008080; text-decoration-color: #008080; font-weight: bold\">8</span> <span style=\"color: #008080; text-decoration-color: #008080; font-weight: bold\">9</span> \n",
       "<span style=\"color: #008080; text-decoration-color: #008080; font-weight: bold\">0</span> ⊡ <span style=\"color: #000080; text-decoration-color: #000080; font-weight: bold\">○</span> ⊡ <span style=\"color: #000080; text-decoration-color: #000080; font-weight: bold\">○</span> ⊡ <span style=\"color: #000080; text-decoration-color: #000080; font-weight: bold\">○</span> ⊡ <span style=\"color: #000080; text-decoration-color: #000080; font-weight: bold\">○</span> ⊡ <span style=\"color: #000080; text-decoration-color: #000080; font-weight: bold\">○</span> <span style=\"color: #008080; text-decoration-color: #008080; font-weight: bold\">0</span>\n",
       "<span style=\"color: #008080; text-decoration-color: #008080; font-weight: bold\">1</span> <span style=\"color: #000080; text-decoration-color: #000080; font-weight: bold\">○</span> ⊡ <span style=\"color: #000080; text-decoration-color: #000080; font-weight: bold\">○</span> ⊡ <span style=\"color: #000080; text-decoration-color: #000080; font-weight: bold\">○</span> ⊡ <span style=\"color: #000080; text-decoration-color: #000080; font-weight: bold\">○</span> ⊡ <span style=\"color: #000080; text-decoration-color: #000080; font-weight: bold\">○</span> ⊡ <span style=\"color: #008080; text-decoration-color: #008080; font-weight: bold\">1</span>\n",
       "<span style=\"color: #008080; text-decoration-color: #008080; font-weight: bold\">2</span> ⊡ <span style=\"color: #000080; text-decoration-color: #000080; font-weight: bold\">○</span> ⊡ <span style=\"color: #000080; text-decoration-color: #000080; font-weight: bold\">○</span> ⊡ <span style=\"color: #000080; text-decoration-color: #000080; font-weight: bold\">○</span> ⊡ <span style=\"color: #000080; text-decoration-color: #000080; font-weight: bold\">○</span> ⊡ <span style=\"color: #000080; text-decoration-color: #000080; font-weight: bold\">○</span> <span style=\"color: #008080; text-decoration-color: #008080; font-weight: bold\">2</span>\n",
       "<span style=\"color: #008080; text-decoration-color: #008080; font-weight: bold\">3</span> <span style=\"color: #000080; text-decoration-color: #000080; font-weight: bold\">○</span> ⊡ <span style=\"color: #000080; text-decoration-color: #000080; font-weight: bold\">○</span> ⊡ <span style=\"color: #000080; text-decoration-color: #000080; font-weight: bold\">○</span> ⊡ <span style=\"color: #000080; text-decoration-color: #000080; font-weight: bold\">○</span> ⊡ <span style=\"color: #000080; text-decoration-color: #000080; font-weight: bold\">○</span> ⊡ <span style=\"color: #008080; text-decoration-color: #008080; font-weight: bold\">3</span>\n",
       "<span style=\"color: #008080; text-decoration-color: #008080; font-weight: bold\">4</span> ⊡ ⊠ ⊡ ⊠ ⊡ ⊠ ⊡ ⊠ ⊡ ⊠ <span style=\"color: #008080; text-decoration-color: #008080; font-weight: bold\">4</span>\n",
       "<span style=\"color: #008080; text-decoration-color: #008080; font-weight: bold\">5</span> ⊠ ⊡ ⊠ ⊡ ⊠ ⊡ ⊠ ⊡ ⊠ ⊡ <span style=\"color: #008080; text-decoration-color: #008080; font-weight: bold\">5</span>\n",
       "<span style=\"color: #008080; text-decoration-color: #008080; font-weight: bold\">6</span> ⊡ <span style=\"color: #800000; text-decoration-color: #800000; font-weight: bold\">●</span> ⊡ <span style=\"color: #800000; text-decoration-color: #800000; font-weight: bold\">●</span> ⊡ <span style=\"color: #800000; text-decoration-color: #800000; font-weight: bold\">●</span> ⊡ <span style=\"color: #800000; text-decoration-color: #800000; font-weight: bold\">●</span> ⊡ <span style=\"color: #800000; text-decoration-color: #800000; font-weight: bold\">●</span> <span style=\"color: #008080; text-decoration-color: #008080; font-weight: bold\">6</span>\n",
       "<span style=\"color: #008080; text-decoration-color: #008080; font-weight: bold\">7</span> <span style=\"color: #800000; text-decoration-color: #800000; font-weight: bold\">●</span> ⊡ <span style=\"color: #800000; text-decoration-color: #800000; font-weight: bold\">●</span> ⊡ <span style=\"color: #800000; text-decoration-color: #800000; font-weight: bold\">●</span> ⊡ <span style=\"color: #800000; text-decoration-color: #800000; font-weight: bold\">●</span> ⊡ <span style=\"color: #800000; text-decoration-color: #800000; font-weight: bold\">●</span> ⊡ <span style=\"color: #008080; text-decoration-color: #008080; font-weight: bold\">7</span>\n",
       "<span style=\"color: #008080; text-decoration-color: #008080; font-weight: bold\">8</span> ⊡ <span style=\"color: #800000; text-decoration-color: #800000; font-weight: bold\">●</span> ⊡ <span style=\"color: #800000; text-decoration-color: #800000; font-weight: bold\">●</span> ⊡ <span style=\"color: #800000; text-decoration-color: #800000; font-weight: bold\">●</span> ⊡ <span style=\"color: #800000; text-decoration-color: #800000; font-weight: bold\">●</span> ⊡ <span style=\"color: #800000; text-decoration-color: #800000; font-weight: bold\">●</span> <span style=\"color: #008080; text-decoration-color: #008080; font-weight: bold\">8</span>\n",
       "<span style=\"color: #008080; text-decoration-color: #008080; font-weight: bold\">9</span> <span style=\"color: #800000; text-decoration-color: #800000; font-weight: bold\">●</span> ⊡ <span style=\"color: #800000; text-decoration-color: #800000; font-weight: bold\">●</span> ⊡ <span style=\"color: #800000; text-decoration-color: #800000; font-weight: bold\">●</span> ⊡ <span style=\"color: #800000; text-decoration-color: #800000; font-weight: bold\">●</span> ⊡ <span style=\"color: #800000; text-decoration-color: #800000; font-weight: bold\">●</span> ⊡ <span style=\"color: #008080; text-decoration-color: #008080; font-weight: bold\">9</span>\n",
       "  <span style=\"color: #008080; text-decoration-color: #008080; font-weight: bold\">0</span> <span style=\"color: #008080; text-decoration-color: #008080; font-weight: bold\">1</span> <span style=\"color: #008080; text-decoration-color: #008080; font-weight: bold\">2</span> <span style=\"color: #008080; text-decoration-color: #008080; font-weight: bold\">3</span> <span style=\"color: #008080; text-decoration-color: #008080; font-weight: bold\">4</span> <span style=\"color: #008080; text-decoration-color: #008080; font-weight: bold\">5</span> <span style=\"color: #008080; text-decoration-color: #008080; font-weight: bold\">6</span> <span style=\"color: #008080; text-decoration-color: #008080; font-weight: bold\">7</span> <span style=\"color: #008080; text-decoration-color: #008080; font-weight: bold\">8</span> <span style=\"color: #008080; text-decoration-color: #008080; font-weight: bold\">9</span> \n",
       "</pre>\n"
      ]
     },
     "metadata": {},
     "output_type": "display_data"
    }
   ],
   "execution_count": 4
  },
  {
   "metadata": {
    "ExecuteTime": {
     "end_time": "2025-09-27T18:32:03.090982Z",
     "start_time": "2025-09-27T18:32:03.086933Z"
    }
   },
   "cell_type": "code",
   "source": [
    "game.make_random_move()\n",
    "game.print()"
   ],
   "id": "94a67a6740fb05a2",
   "outputs": [
    {
     "data": {
      "text/plain": [
       "  \u001B[1;36m0\u001B[0m \u001B[1;36m1\u001B[0m \u001B[1;36m2\u001B[0m \u001B[1;36m3\u001B[0m \u001B[1;36m4\u001B[0m \u001B[1;36m5\u001B[0m \u001B[1;36m6\u001B[0m \u001B[1;36m7\u001B[0m \u001B[1;36m8\u001B[0m \u001B[1;36m9\u001B[0m \n",
       "\u001B[1;36m0\u001B[0m ⊡ \u001B[1;34m○\u001B[0m ⊡ \u001B[1;34m○\u001B[0m ⊡ \u001B[1;34m○\u001B[0m ⊡ \u001B[1;34m○\u001B[0m ⊡ \u001B[1;34m○\u001B[0m \u001B[1;36m0\u001B[0m\n",
       "\u001B[1;36m1\u001B[0m \u001B[1;34m○\u001B[0m ⊡ \u001B[1;34m○\u001B[0m ⊡ \u001B[1;34m○\u001B[0m ⊡ \u001B[1;34m○\u001B[0m ⊡ \u001B[1;34m○\u001B[0m ⊡ \u001B[1;36m1\u001B[0m\n",
       "\u001B[1;36m2\u001B[0m ⊡ \u001B[1;34m○\u001B[0m ⊡ \u001B[1;34m○\u001B[0m ⊡ \u001B[1;34m○\u001B[0m ⊡ \u001B[1;34m○\u001B[0m ⊡ \u001B[1;34m○\u001B[0m \u001B[1;36m2\u001B[0m\n",
       "\u001B[1;36m3\u001B[0m \u001B[1;34m○\u001B[0m ⊡ ⊠ ⊡ \u001B[1;34m○\u001B[0m ⊡ \u001B[1;34m○\u001B[0m ⊡ \u001B[1;34m○\u001B[0m ⊡ \u001B[1;36m3\u001B[0m\n",
       "\u001B[1;36m4\u001B[0m ⊡ ⊠ ⊡ ⊠ ⊡ \u001B[1;34m♚\u001B[0m ⊡ ⊠ ⊡ ⊠ \u001B[1;36m4\u001B[0m\n",
       "\u001B[1;36m5\u001B[0m ⊠ ⊡ ⊠ ⊡ ⊠ ⊡ ⊠ ⊡ ⊠ ⊡ \u001B[1;36m5\u001B[0m\n",
       "\u001B[1;36m6\u001B[0m ⊡ \u001B[1;31m●\u001B[0m ⊡ \u001B[1;31m●\u001B[0m ⊡ \u001B[1;31m●\u001B[0m ⊡ \u001B[1;31m●\u001B[0m ⊡ \u001B[1;31m●\u001B[0m \u001B[1;36m6\u001B[0m\n",
       "\u001B[1;36m7\u001B[0m \u001B[1;31m●\u001B[0m ⊡ \u001B[1;31m●\u001B[0m ⊡ \u001B[1;31m●\u001B[0m ⊡ \u001B[1;31m●\u001B[0m ⊡ \u001B[1;31m●\u001B[0m ⊡ \u001B[1;36m7\u001B[0m\n",
       "\u001B[1;36m8\u001B[0m ⊡ \u001B[1;31m●\u001B[0m ⊡ \u001B[1;31m●\u001B[0m ⊡ \u001B[1;31m●\u001B[0m ⊡ \u001B[1;31m●\u001B[0m ⊡ \u001B[1;31m●\u001B[0m \u001B[1;36m8\u001B[0m\n",
       "\u001B[1;36m9\u001B[0m \u001B[1;31m●\u001B[0m ⊡ \u001B[1;31m●\u001B[0m ⊡ \u001B[1;31m●\u001B[0m ⊡ \u001B[1;31m●\u001B[0m ⊡ \u001B[1;31m●\u001B[0m ⊡ \u001B[1;36m9\u001B[0m\n",
       "  \u001B[1;36m0\u001B[0m \u001B[1;36m1\u001B[0m \u001B[1;36m2\u001B[0m \u001B[1;36m3\u001B[0m \u001B[1;36m4\u001B[0m \u001B[1;36m5\u001B[0m \u001B[1;36m6\u001B[0m \u001B[1;36m7\u001B[0m \u001B[1;36m8\u001B[0m \u001B[1;36m9\u001B[0m \n"
      ],
      "text/html": [
       "<pre style=\"white-space:pre;overflow-x:auto;line-height:normal;font-family:Menlo,'DejaVu Sans Mono',consolas,'Courier New',monospace\">  <span style=\"color: #008080; text-decoration-color: #008080; font-weight: bold\">0</span> <span style=\"color: #008080; text-decoration-color: #008080; font-weight: bold\">1</span> <span style=\"color: #008080; text-decoration-color: #008080; font-weight: bold\">2</span> <span style=\"color: #008080; text-decoration-color: #008080; font-weight: bold\">3</span> <span style=\"color: #008080; text-decoration-color: #008080; font-weight: bold\">4</span> <span style=\"color: #008080; text-decoration-color: #008080; font-weight: bold\">5</span> <span style=\"color: #008080; text-decoration-color: #008080; font-weight: bold\">6</span> <span style=\"color: #008080; text-decoration-color: #008080; font-weight: bold\">7</span> <span style=\"color: #008080; text-decoration-color: #008080; font-weight: bold\">8</span> <span style=\"color: #008080; text-decoration-color: #008080; font-weight: bold\">9</span> \n",
       "<span style=\"color: #008080; text-decoration-color: #008080; font-weight: bold\">0</span> ⊡ <span style=\"color: #000080; text-decoration-color: #000080; font-weight: bold\">○</span> ⊡ <span style=\"color: #000080; text-decoration-color: #000080; font-weight: bold\">○</span> ⊡ <span style=\"color: #000080; text-decoration-color: #000080; font-weight: bold\">○</span> ⊡ <span style=\"color: #000080; text-decoration-color: #000080; font-weight: bold\">○</span> ⊡ <span style=\"color: #000080; text-decoration-color: #000080; font-weight: bold\">○</span> <span style=\"color: #008080; text-decoration-color: #008080; font-weight: bold\">0</span>\n",
       "<span style=\"color: #008080; text-decoration-color: #008080; font-weight: bold\">1</span> <span style=\"color: #000080; text-decoration-color: #000080; font-weight: bold\">○</span> ⊡ <span style=\"color: #000080; text-decoration-color: #000080; font-weight: bold\">○</span> ⊡ <span style=\"color: #000080; text-decoration-color: #000080; font-weight: bold\">○</span> ⊡ <span style=\"color: #000080; text-decoration-color: #000080; font-weight: bold\">○</span> ⊡ <span style=\"color: #000080; text-decoration-color: #000080; font-weight: bold\">○</span> ⊡ <span style=\"color: #008080; text-decoration-color: #008080; font-weight: bold\">1</span>\n",
       "<span style=\"color: #008080; text-decoration-color: #008080; font-weight: bold\">2</span> ⊡ <span style=\"color: #000080; text-decoration-color: #000080; font-weight: bold\">○</span> ⊡ <span style=\"color: #000080; text-decoration-color: #000080; font-weight: bold\">○</span> ⊡ <span style=\"color: #000080; text-decoration-color: #000080; font-weight: bold\">○</span> ⊡ <span style=\"color: #000080; text-decoration-color: #000080; font-weight: bold\">○</span> ⊡ <span style=\"color: #000080; text-decoration-color: #000080; font-weight: bold\">○</span> <span style=\"color: #008080; text-decoration-color: #008080; font-weight: bold\">2</span>\n",
       "<span style=\"color: #008080; text-decoration-color: #008080; font-weight: bold\">3</span> <span style=\"color: #000080; text-decoration-color: #000080; font-weight: bold\">○</span> ⊡ ⊠ ⊡ <span style=\"color: #000080; text-decoration-color: #000080; font-weight: bold\">○</span> ⊡ <span style=\"color: #000080; text-decoration-color: #000080; font-weight: bold\">○</span> ⊡ <span style=\"color: #000080; text-decoration-color: #000080; font-weight: bold\">○</span> ⊡ <span style=\"color: #008080; text-decoration-color: #008080; font-weight: bold\">3</span>\n",
       "<span style=\"color: #008080; text-decoration-color: #008080; font-weight: bold\">4</span> ⊡ ⊠ ⊡ ⊠ ⊡ <span style=\"color: #000080; text-decoration-color: #000080; font-weight: bold\">♚</span> ⊡ ⊠ ⊡ ⊠ <span style=\"color: #008080; text-decoration-color: #008080; font-weight: bold\">4</span>\n",
       "<span style=\"color: #008080; text-decoration-color: #008080; font-weight: bold\">5</span> ⊠ ⊡ ⊠ ⊡ ⊠ ⊡ ⊠ ⊡ ⊠ ⊡ <span style=\"color: #008080; text-decoration-color: #008080; font-weight: bold\">5</span>\n",
       "<span style=\"color: #008080; text-decoration-color: #008080; font-weight: bold\">6</span> ⊡ <span style=\"color: #800000; text-decoration-color: #800000; font-weight: bold\">●</span> ⊡ <span style=\"color: #800000; text-decoration-color: #800000; font-weight: bold\">●</span> ⊡ <span style=\"color: #800000; text-decoration-color: #800000; font-weight: bold\">●</span> ⊡ <span style=\"color: #800000; text-decoration-color: #800000; font-weight: bold\">●</span> ⊡ <span style=\"color: #800000; text-decoration-color: #800000; font-weight: bold\">●</span> <span style=\"color: #008080; text-decoration-color: #008080; font-weight: bold\">6</span>\n",
       "<span style=\"color: #008080; text-decoration-color: #008080; font-weight: bold\">7</span> <span style=\"color: #800000; text-decoration-color: #800000; font-weight: bold\">●</span> ⊡ <span style=\"color: #800000; text-decoration-color: #800000; font-weight: bold\">●</span> ⊡ <span style=\"color: #800000; text-decoration-color: #800000; font-weight: bold\">●</span> ⊡ <span style=\"color: #800000; text-decoration-color: #800000; font-weight: bold\">●</span> ⊡ <span style=\"color: #800000; text-decoration-color: #800000; font-weight: bold\">●</span> ⊡ <span style=\"color: #008080; text-decoration-color: #008080; font-weight: bold\">7</span>\n",
       "<span style=\"color: #008080; text-decoration-color: #008080; font-weight: bold\">8</span> ⊡ <span style=\"color: #800000; text-decoration-color: #800000; font-weight: bold\">●</span> ⊡ <span style=\"color: #800000; text-decoration-color: #800000; font-weight: bold\">●</span> ⊡ <span style=\"color: #800000; text-decoration-color: #800000; font-weight: bold\">●</span> ⊡ <span style=\"color: #800000; text-decoration-color: #800000; font-weight: bold\">●</span> ⊡ <span style=\"color: #800000; text-decoration-color: #800000; font-weight: bold\">●</span> <span style=\"color: #008080; text-decoration-color: #008080; font-weight: bold\">8</span>\n",
       "<span style=\"color: #008080; text-decoration-color: #008080; font-weight: bold\">9</span> <span style=\"color: #800000; text-decoration-color: #800000; font-weight: bold\">●</span> ⊡ <span style=\"color: #800000; text-decoration-color: #800000; font-weight: bold\">●</span> ⊡ <span style=\"color: #800000; text-decoration-color: #800000; font-weight: bold\">●</span> ⊡ <span style=\"color: #800000; text-decoration-color: #800000; font-weight: bold\">●</span> ⊡ <span style=\"color: #800000; text-decoration-color: #800000; font-weight: bold\">●</span> ⊡ <span style=\"color: #008080; text-decoration-color: #008080; font-weight: bold\">9</span>\n",
       "  <span style=\"color: #008080; text-decoration-color: #008080; font-weight: bold\">0</span> <span style=\"color: #008080; text-decoration-color: #008080; font-weight: bold\">1</span> <span style=\"color: #008080; text-decoration-color: #008080; font-weight: bold\">2</span> <span style=\"color: #008080; text-decoration-color: #008080; font-weight: bold\">3</span> <span style=\"color: #008080; text-decoration-color: #008080; font-weight: bold\">4</span> <span style=\"color: #008080; text-decoration-color: #008080; font-weight: bold\">5</span> <span style=\"color: #008080; text-decoration-color: #008080; font-weight: bold\">6</span> <span style=\"color: #008080; text-decoration-color: #008080; font-weight: bold\">7</span> <span style=\"color: #008080; text-decoration-color: #008080; font-weight: bold\">8</span> <span style=\"color: #008080; text-decoration-color: #008080; font-weight: bold\">9</span> \n",
       "</pre>\n"
      ]
     },
     "metadata": {},
     "output_type": "display_data"
    }
   ],
   "execution_count": 5
  },
  {
   "metadata": {
    "ExecuteTime": {
     "end_time": "2025-09-27T17:57:50.850907Z",
     "start_time": "2025-09-27T17:57:50.845694Z"
    }
   },
   "cell_type": "code",
   "source": "len(checkers_game)",
   "id": "ae9781e208297eb4",
   "outputs": [
    {
     "data": {
      "text/plain": [
       "1"
      ]
     },
     "execution_count": 6,
     "metadata": {},
     "output_type": "execute_result"
    }
   ],
   "execution_count": 6
  },
  {
   "metadata": {
    "ExecuteTime": {
     "end_time": "2025-09-27T09:43:10.213402Z",
     "start_time": "2025-09-27T09:43:10.210176Z"
    }
   },
   "cell_type": "code",
   "source": "checkers_game.moves",
   "id": "b1cd14c9d5c0e119",
   "outputs": [
    {
     "data": {
      "text/plain": [
       "['b6-a5',\n",
       " 'a3-b4',\n",
       " 'd6-c5',\n",
       " 'b4-d6',\n",
       " 'c7-e5',\n",
       " 'c3-b4',\n",
       " 'a5-c3',\n",
       " 'd2-b4',\n",
       " 'e5-f4',\n",
       " 'g3-e5',\n",
       " 'f6-d4',\n",
       " 'e3-c5',\n",
       " 'a7-b6',\n",
       " 'c5-a7',\n",
       " 'b8-c7',\n",
       " 'f2-g3',\n",
       " 'c7-b6',\n",
       " 'g3-h4',\n",
       " 'e7-f6',\n",
       " 'b2-a3',\n",
       " 'b6-c5',\n",
       " 'b4-d6',\n",
       " 'f6-g5',\n",
       " 'h4-f6',\n",
       " 'g7-e5',\n",
       " 'c1-d2',\n",
       " 'd8-e7',\n",
       " 'e1-f2',\n",
       " 'e7-c5',\n",
       " 'f2-g3',\n",
       " 'h6-g5',\n",
       " 'a7-b8',\n",
       " 'e5-f4',\n",
       " 'g3-e5',\n",
       " 'c5-d4',\n",
       " 'e5-f6',\n",
       " 'd4-e3',\n",
       " 'd2-f4',\n",
       " 'f4-h6',\n",
       " 'f8-e7',\n",
       " 'f6-d8',\n",
       " 'h8-g7',\n",
       " 'h6-f8']"
      ]
     },
     "execution_count": 4,
     "metadata": {},
     "output_type": "execute_result"
    }
   ],
   "execution_count": 4
  },
  {
   "metadata": {
    "ExecuteTime": {
     "end_time": "2025-09-27T09:43:10.260389Z",
     "start_time": "2025-09-27T09:43:10.258927Z"
    }
   },
   "cell_type": "code",
   "source": "",
   "id": "c544f198a6710cec",
   "outputs": [],
   "execution_count": null
  }
 ],
 "metadata": {
  "kernelspec": {
   "display_name": "Python 3",
   "language": "python",
   "name": "python3"
  },
  "language_info": {
   "codemirror_mode": {
    "name": "ipython",
    "version": 2
   },
   "file_extension": ".py",
   "mimetype": "text/x-python",
   "name": "python",
   "nbconvert_exporter": "python",
   "pygments_lexer": "ipython2",
   "version": "2.7.6"
  }
 },
 "nbformat": 4,
 "nbformat_minor": 5
}
