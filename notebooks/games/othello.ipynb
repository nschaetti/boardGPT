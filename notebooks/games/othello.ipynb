{
 "cells": [
  {
   "cell_type": "code",
   "id": "initial_id",
   "metadata": {
    "collapsed": true,
    "ExecuteTime": {
     "end_time": "2025-09-27T09:18:51.615718Z",
     "start_time": "2025-09-27T09:18:50.462779Z"
    }
   },
   "source": [
    "from boardGPT import (\n",
    "    othello,\n",
    "    valid,\n",
    "    next,\n",
    "    rnext,\n",
    "    valid_moves,\n",
    "    is_over,\n",
    "    valid_moves_notation,\n",
    "    show,\n",
    "    get_moves,\n",
    "    has_moves,\n",
    "    notation_to_moves,\n",
    "    moves_to_notation,\n",
    "    generate_game\n",
    ")"
   ],
   "outputs": [],
   "execution_count": 1
  },
  {
   "metadata": {
    "ExecuteTime": {
     "end_time": "2025-09-27T09:18:58.421027Z",
     "start_time": "2025-09-27T09:18:58.334030Z"
    }
   },
   "cell_type": "code",
   "source": [
    "game = othello(\"a4\")\n",
    "game"
   ],
   "id": "f9735b6eee2cc303",
   "outputs": [
    {
     "data": {
      "text/plain": [
       "\u001B[31m╭─\u001B[0m\u001B[31m──────────────────────────────────────\u001B[0m\u001B[31m \u001B[0m\u001B[1;31mTraceback \u001B[0m\u001B[1;2;31m(most recent call last)\u001B[0m\u001B[31m \u001B[0m\u001B[31m──────────────────────────────────────\u001B[0m\u001B[31m─╮\u001B[0m\n",
       "\u001B[31m│\u001B[0m in <module>:1                                                                                                   \u001B[31m│\u001B[0m\n",
       "\u001B[31m│\u001B[0m                                                                                                                 \u001B[31m│\u001B[0m\n",
       "\u001B[31m│\u001B[0m \u001B[31m❱ \u001B[0m1 game = \u001B[1;4mothello(\u001B[0m\u001B[1;4;33m\"\u001B[0m\u001B[1;4;33ma4\u001B[0m\u001B[1;4;33m\"\u001B[0m\u001B[1;4m)\u001B[0m                                                                                        \u001B[31m│\u001B[0m\n",
       "\u001B[31m│\u001B[0m   \u001B[2m2 \u001B[0mgame                                                                                                        \u001B[31m│\u001B[0m\n",
       "\u001B[31m│\u001B[0m   \u001B[2m3 \u001B[0m                                                                                                            \u001B[31m│\u001B[0m\n",
       "\u001B[31m│\u001B[0m                                                                                                                 \u001B[31m│\u001B[0m\n",
       "\u001B[31m│\u001B[0m \u001B[2m/home/schaetti/Projets/RECHERCHES/Recherches/BoardWorld/boardGPT/boardGPT/\u001B[0m\u001B[1m__init__.py\u001B[0m:60 in othello             \u001B[31m│\u001B[0m\n",
       "\u001B[31m│\u001B[0m                                                                                                                 \u001B[31m│\u001B[0m\n",
       "\u001B[31m│\u001B[0m   \u001B[2m 57 \u001B[0m\u001B[2m│   \u001B[0mis_valid, invalid_moves = verify_othello_game(moves)                                                  \u001B[31m│\u001B[0m\n",
       "\u001B[31m│\u001B[0m   \u001B[2m 58 \u001B[0m\u001B[2m│   \u001B[0m                                                                                                      \u001B[31m│\u001B[0m\n",
       "\u001B[31m│\u001B[0m   \u001B[2m 59 \u001B[0m\u001B[2m│   \u001B[0m\u001B[94mif\u001B[0m \u001B[95mnot\u001B[0m is_valid:                                                                                      \u001B[31m│\u001B[0m\n",
       "\u001B[31m│\u001B[0m \u001B[31m❱ \u001B[0m 60 \u001B[2m│   │   \u001B[0m\u001B[1;4;94mraise\u001B[0m\u001B[1;4m \u001B[0m\u001B[1;4;96mValueError\u001B[0m\u001B[1;4m(\u001B[0m\u001B[1;4;33mf\u001B[0m\u001B[1;4;33m\"\u001B[0m\u001B[1;4;33mInvalid move sequence. The following moves are invalid: \u001B[0m\u001B[1;4;33m{\u001B[0m\u001B[1;4;33m'\u001B[0m\u001B[1;4;33m, \u001B[0m                   \u001B[31m│\u001B[0m\n",
       "\u001B[31m│\u001B[0m       \u001B[1;4;33m'\u001B[0m\u001B[1;4m.join(invalid_moves)\u001B[0m\u001B[1;4;33m}\u001B[0m\u001B[1;4;33m\"\u001B[0m\u001B[1;4m)\u001B[0m                                                                                  \u001B[31m│\u001B[0m\n",
       "\u001B[31m│\u001B[0m   \u001B[2m 61 \u001B[0m\u001B[2m│   \u001B[0m\u001B[2m# end if\u001B[0m                                                                                              \u001B[31m│\u001B[0m\n",
       "\u001B[31m│\u001B[0m   \u001B[2m 62 \u001B[0m\u001B[2m│   \u001B[0m                                                                                                      \u001B[31m│\u001B[0m\n",
       "\u001B[31m│\u001B[0m   \u001B[2m 63 \u001B[0m\u001B[2m│   \u001B[0m\u001B[2m# Create an OthelloGame object with the moves applied\u001B[0m                                                 \u001B[31m│\u001B[0m\n",
       "\u001B[31m╰─────────────────────────────────────────────────────────────────────────────────────────────────────────────────╯\u001B[0m\n",
       "\u001B[1;91mValueError: \u001B[0mInvalid move sequence. The following moves are invalid: a4\n"
      ],
      "text/html": [
       "<pre style=\"white-space:pre;overflow-x:auto;line-height:normal;font-family:Menlo,'DejaVu Sans Mono',consolas,'Courier New',monospace\"><span style=\"color: #800000; text-decoration-color: #800000\">╭─────────────────────────────────────── </span><span style=\"color: #800000; text-decoration-color: #800000; font-weight: bold\">Traceback </span><span style=\"color: #bf7f7f; text-decoration-color: #bf7f7f; font-weight: bold\">(most recent call last)</span><span style=\"color: #800000; text-decoration-color: #800000\"> ───────────────────────────────────────╮</span>\n",
       "<span style=\"color: #800000; text-decoration-color: #800000\">│</span> in &lt;module&gt;:1                                                                                                   <span style=\"color: #800000; text-decoration-color: #800000\">│</span>\n",
       "<span style=\"color: #800000; text-decoration-color: #800000\">│</span>                                                                                                                 <span style=\"color: #800000; text-decoration-color: #800000\">│</span>\n",
       "<span style=\"color: #800000; text-decoration-color: #800000\">│</span> <span style=\"color: #800000; text-decoration-color: #800000\">❱ </span>1 game = <span style=\"font-weight: bold; text-decoration: underline\">othello(</span><span style=\"color: #808000; text-decoration-color: #808000; font-weight: bold; text-decoration: underline\">\"a4\"</span><span style=\"font-weight: bold; text-decoration: underline\">)</span>                                                                                        <span style=\"color: #800000; text-decoration-color: #800000\">│</span>\n",
       "<span style=\"color: #800000; text-decoration-color: #800000\">│</span>   <span style=\"color: #7f7f7f; text-decoration-color: #7f7f7f\">2 </span>game                                                                                                        <span style=\"color: #800000; text-decoration-color: #800000\">│</span>\n",
       "<span style=\"color: #800000; text-decoration-color: #800000\">│</span>   <span style=\"color: #7f7f7f; text-decoration-color: #7f7f7f\">3 </span>                                                                                                            <span style=\"color: #800000; text-decoration-color: #800000\">│</span>\n",
       "<span style=\"color: #800000; text-decoration-color: #800000\">│</span>                                                                                                                 <span style=\"color: #800000; text-decoration-color: #800000\">│</span>\n",
       "<span style=\"color: #800000; text-decoration-color: #800000\">│</span> <span style=\"color: #7f7f7f; text-decoration-color: #7f7f7f\">/home/schaetti/Projets/RECHERCHES/Recherches/BoardWorld/boardGPT/boardGPT/</span><span style=\"font-weight: bold\">__init__.py</span>:60 in othello             <span style=\"color: #800000; text-decoration-color: #800000\">│</span>\n",
       "<span style=\"color: #800000; text-decoration-color: #800000\">│</span>                                                                                                                 <span style=\"color: #800000; text-decoration-color: #800000\">│</span>\n",
       "<span style=\"color: #800000; text-decoration-color: #800000\">│</span>   <span style=\"color: #7f7f7f; text-decoration-color: #7f7f7f\"> 57 </span><span style=\"color: #7f7f7f; text-decoration-color: #7f7f7f\">│   </span>is_valid, invalid_moves = verify_othello_game(moves)                                                  <span style=\"color: #800000; text-decoration-color: #800000\">│</span>\n",
       "<span style=\"color: #800000; text-decoration-color: #800000\">│</span>   <span style=\"color: #7f7f7f; text-decoration-color: #7f7f7f\"> 58 </span><span style=\"color: #7f7f7f; text-decoration-color: #7f7f7f\">│   </span>                                                                                                      <span style=\"color: #800000; text-decoration-color: #800000\">│</span>\n",
       "<span style=\"color: #800000; text-decoration-color: #800000\">│</span>   <span style=\"color: #7f7f7f; text-decoration-color: #7f7f7f\"> 59 </span><span style=\"color: #7f7f7f; text-decoration-color: #7f7f7f\">│   </span><span style=\"color: #0000ff; text-decoration-color: #0000ff\">if</span> <span style=\"color: #ff00ff; text-decoration-color: #ff00ff\">not</span> is_valid:                                                                                      <span style=\"color: #800000; text-decoration-color: #800000\">│</span>\n",
       "<span style=\"color: #800000; text-decoration-color: #800000\">│</span> <span style=\"color: #800000; text-decoration-color: #800000\">❱ </span> 60 <span style=\"color: #7f7f7f; text-decoration-color: #7f7f7f\">│   │   </span><span style=\"color: #0000ff; text-decoration-color: #0000ff; font-weight: bold; text-decoration: underline\">raise</span><span style=\"font-weight: bold; text-decoration: underline\"> </span><span style=\"color: #00ffff; text-decoration-color: #00ffff; font-weight: bold; text-decoration: underline\">ValueError</span><span style=\"font-weight: bold; text-decoration: underline\">(</span><span style=\"color: #808000; text-decoration-color: #808000; font-weight: bold; text-decoration: underline\">f\"Invalid move sequence. The following moves are invalid: {', </span>                   <span style=\"color: #800000; text-decoration-color: #800000\">│</span>\n",
       "<span style=\"color: #800000; text-decoration-color: #800000\">│</span>       <span style=\"color: #808000; text-decoration-color: #808000; font-weight: bold; text-decoration: underline\">'</span><span style=\"font-weight: bold; text-decoration: underline\">.join(invalid_moves)</span><span style=\"color: #808000; text-decoration-color: #808000; font-weight: bold; text-decoration: underline\">}\"</span><span style=\"font-weight: bold; text-decoration: underline\">)</span>                                                                                  <span style=\"color: #800000; text-decoration-color: #800000\">│</span>\n",
       "<span style=\"color: #800000; text-decoration-color: #800000\">│</span>   <span style=\"color: #7f7f7f; text-decoration-color: #7f7f7f\"> 61 </span><span style=\"color: #7f7f7f; text-decoration-color: #7f7f7f\">│   </span><span style=\"color: #7f7f7f; text-decoration-color: #7f7f7f\"># end if</span>                                                                                              <span style=\"color: #800000; text-decoration-color: #800000\">│</span>\n",
       "<span style=\"color: #800000; text-decoration-color: #800000\">│</span>   <span style=\"color: #7f7f7f; text-decoration-color: #7f7f7f\"> 62 </span><span style=\"color: #7f7f7f; text-decoration-color: #7f7f7f\">│   </span>                                                                                                      <span style=\"color: #800000; text-decoration-color: #800000\">│</span>\n",
       "<span style=\"color: #800000; text-decoration-color: #800000\">│</span>   <span style=\"color: #7f7f7f; text-decoration-color: #7f7f7f\"> 63 </span><span style=\"color: #7f7f7f; text-decoration-color: #7f7f7f\">│   </span><span style=\"color: #7f7f7f; text-decoration-color: #7f7f7f\"># Create an OthelloGame object with the moves applied</span>                                                 <span style=\"color: #800000; text-decoration-color: #800000\">│</span>\n",
       "<span style=\"color: #800000; text-decoration-color: #800000\">╰─────────────────────────────────────────────────────────────────────────────────────────────────────────────────╯</span>\n",
       "<span style=\"color: #ff0000; text-decoration-color: #ff0000; font-weight: bold\">ValueError: </span>Invalid move sequence. The following moves are invalid: a4\n",
       "</pre>\n"
      ]
     },
     "metadata": {},
     "output_type": "display_data"
    }
   ],
   "execution_count": 3
  },
  {
   "metadata": {
    "ExecuteTime": {
     "end_time": "2025-09-26T21:40:47.978195Z",
     "start_time": "2025-09-26T21:40:47.971591Z"
    }
   },
   "cell_type": "code",
   "source": "valid(game, \"c5\")",
   "id": "5a41592779ced362",
   "outputs": [
    {
     "data": {
      "text/plain": [
       "True"
      ]
     },
     "execution_count": 3,
     "metadata": {},
     "output_type": "execute_result"
    }
   ],
   "execution_count": 3
  },
  {
   "metadata": {
    "ExecuteTime": {
     "end_time": "2025-09-26T21:40:48.031277Z",
     "start_time": "2025-09-26T21:40:48.028132Z"
    }
   },
   "cell_type": "code",
   "source": "valid_moves(game)",
   "id": "1772b26332d98a35",
   "outputs": [
    {
     "data": {
      "text/plain": [
       "[(2, 2), (2, 4), (4, 2)]"
      ]
     },
     "execution_count": 4,
     "metadata": {},
     "output_type": "execute_result"
    }
   ],
   "execution_count": 4
  },
  {
   "metadata": {
    "ExecuteTime": {
     "end_time": "2025-09-26T21:40:48.113423Z",
     "start_time": "2025-09-26T21:40:48.109617Z"
    }
   },
   "cell_type": "code",
   "source": "is_over(game)",
   "id": "35c505758e498107",
   "outputs": [
    {
     "data": {
      "text/plain": [
       "False"
      ]
     },
     "execution_count": 5,
     "metadata": {},
     "output_type": "execute_result"
    }
   ],
   "execution_count": 5
  },
  {
   "metadata": {
    "ExecuteTime": {
     "end_time": "2025-09-26T21:40:48.220194Z",
     "start_time": "2025-09-26T21:40:48.217021Z"
    }
   },
   "cell_type": "code",
   "source": "valid_moves_notation(game)",
   "id": "a683095ba84dbd3a",
   "outputs": [
    {
     "data": {
      "text/plain": [
       "['c3', 'e3', 'c5']"
      ]
     },
     "execution_count": 6,
     "metadata": {},
     "output_type": "execute_result"
    }
   ],
   "execution_count": 6
  },
  {
   "metadata": {
    "ExecuteTime": {
     "end_time": "2025-09-26T21:40:48.272568Z",
     "start_time": "2025-09-26T21:40:48.269913Z"
    }
   },
   "cell_type": "code",
   "source": "next(game, \"c5\")",
   "id": "e42eefd01bd5300",
   "outputs": [
    {
     "data": {
      "text/plain": [
       "    a   b   c   d   e   f   g   h \n",
       "  ---------------------------------\n",
       "1 |   |   |   |   |   |   |   |   | 1\n",
       "  ---------------------------------\n",
       "2 |   |   |   |   |   |   |   |   | 2\n",
       "  ---------------------------------\n",
       "3 |   |   |   |   |   |   |   |   | 3\n",
       "  ---------------------------------\n",
       "4 |   |   | X | X | X |   |   |   | 4\n",
       "  ---------------------------------\n",
       "5 |   |   | O*| O | O |   |   |   | 5\n",
       "  ---------------------------------\n",
       "6 |   |   |   |   |   |   |   |   | 6\n",
       "  ---------------------------------\n",
       "7 |   |   |   |   |   |   |   |   | 7\n",
       "  ---------------------------------\n",
       "8 |   |   |   |   |   |   |   |   | 8\n",
       "  ---------------------------------\n",
       "    a   b   c   d   e   f   g   h "
      ]
     },
     "execution_count": 7,
     "metadata": {},
     "output_type": "execute_result"
    }
   ],
   "execution_count": 7
  },
  {
   "metadata": {
    "ExecuteTime": {
     "end_time": "2025-09-26T21:40:48.327101Z",
     "start_time": "2025-09-26T21:40:48.321956Z"
    }
   },
   "cell_type": "code",
   "source": "rnext(game)",
   "id": "d9b8a012ad10dcd0",
   "outputs": [
    {
     "data": {
      "text/plain": [
       "    a   b   c   d   e   f   g   h \n",
       "  ---------------------------------\n",
       "1 |   |   |   |   |   |   |   |   | 1\n",
       "  ---------------------------------\n",
       "2 |   |   |   |   |   |   |   |   | 2\n",
       "  ---------------------------------\n",
       "3 |   |   |   |   |   |   |   |   | 3\n",
       "  ---------------------------------\n",
       "4 |   |   | X | X | X |   |   |   | 4\n",
       "  ---------------------------------\n",
       "5 |   |   | X | O | O |   |   |   | 5\n",
       "  ---------------------------------\n",
       "6 |   | X*|   |   |   |   |   |   | 6\n",
       "  ---------------------------------\n",
       "7 |   |   |   |   |   |   |   |   | 7\n",
       "  ---------------------------------\n",
       "8 |   |   |   |   |   |   |   |   | 8\n",
       "  ---------------------------------\n",
       "    a   b   c   d   e   f   g   h "
      ]
     },
     "execution_count": 8,
     "metadata": {},
     "output_type": "execute_result"
    }
   ],
   "execution_count": 8
  },
  {
   "metadata": {
    "ExecuteTime": {
     "end_time": "2025-09-26T21:40:48.386911Z",
     "start_time": "2025-09-26T21:40:48.383096Z"
    }
   },
   "cell_type": "code",
   "source": "rnext(game)",
   "id": "42f059c85088030d",
   "outputs": [
    {
     "data": {
      "text/plain": [
       "    a   b   c   d   e   f   g   h \n",
       "  ---------------------------------\n",
       "1 |   |   |   |   |   |   |   |   | 1\n",
       "  ---------------------------------\n",
       "2 |   |   |   |   |   |   |   |   | 2\n",
       "  ---------------------------------\n",
       "3 |   |   | O*|   |   |   |   |   | 3\n",
       "  ---------------------------------\n",
       "4 |   |   | X | O | X |   |   |   | 4\n",
       "  ---------------------------------\n",
       "5 |   |   | X | O | O |   |   |   | 5\n",
       "  ---------------------------------\n",
       "6 |   | X |   |   |   |   |   |   | 6\n",
       "  ---------------------------------\n",
       "7 |   |   |   |   |   |   |   |   | 7\n",
       "  ---------------------------------\n",
       "8 |   |   |   |   |   |   |   |   | 8\n",
       "  ---------------------------------\n",
       "    a   b   c   d   e   f   g   h "
      ]
     },
     "execution_count": 9,
     "metadata": {},
     "output_type": "execute_result"
    }
   ],
   "execution_count": 9
  },
  {
   "metadata": {
    "ExecuteTime": {
     "end_time": "2025-09-26T21:40:48.442459Z",
     "start_time": "2025-09-26T21:40:48.438565Z"
    }
   },
   "cell_type": "code",
   "source": "notation_to_moves(game, [\"c4\", \"c5\"])",
   "id": "d2c8f664b776397a",
   "outputs": [
    {
     "data": {
      "text/plain": [
       "[(3, 2), (4, 2)]"
      ]
     },
     "execution_count": 10,
     "metadata": {},
     "output_type": "execute_result"
    }
   ],
   "execution_count": 10
  },
  {
   "metadata": {
    "ExecuteTime": {
     "end_time": "2025-09-26T21:40:48.503225Z",
     "start_time": "2025-09-26T21:40:48.500335Z"
    }
   },
   "cell_type": "code",
   "source": "moves_to_notation(game, [(3, 2), (4, 2)])",
   "id": "d9e4a23af20a9254",
   "outputs": [
    {
     "data": {
      "text/plain": [
       "['c4', 'c5']"
      ]
     },
     "execution_count": 11,
     "metadata": {},
     "output_type": "execute_result"
    }
   ],
   "execution_count": 11
  },
  {
   "metadata": {
    "ExecuteTime": {
     "end_time": "2025-09-26T21:41:37.218981Z",
     "start_time": "2025-09-26T21:41:37.211017Z"
    }
   },
   "cell_type": "code",
   "source": [
    "new_game = generate_game(\"othello\", full_game=False, max_length=3)\n",
    "new_game"
   ],
   "id": "79911197996e11ac",
   "outputs": [
    {
     "data": {
      "text/plain": [
       "    a   b   c   d   e   f   g   h \n",
       "  ---------------------------------\n",
       "1 |   |   |   |   |   |   |   |   | 1\n",
       "  ---------------------------------\n",
       "2 |   |   |   |   |   |   |   |   | 2\n",
       "  ---------------------------------\n",
       "3 |   |   |   |   |   |   |   |   | 3\n",
       "  ---------------------------------\n",
       "4 |   |   | X | X | X |   |   |   | 4\n",
       "  ---------------------------------\n",
       "5 |   |   | O | X | O |   |   |   | 5\n",
       "  ---------------------------------\n",
       "6 |   |   |   | X*|   |   |   |   | 6\n",
       "  ---------------------------------\n",
       "7 |   |   |   |   |   |   |   |   | 7\n",
       "  ---------------------------------\n",
       "8 |   |   |   |   |   |   |   |   | 8\n",
       "  ---------------------------------\n",
       "    a   b   c   d   e   f   g   h "
      ]
     },
     "execution_count": 19,
     "metadata": {},
     "output_type": "execute_result"
    }
   ],
   "execution_count": 19
  },
  {
   "metadata": {
    "ExecuteTime": {
     "end_time": "2025-09-26T21:41:44.667577Z",
     "start_time": "2025-09-26T21:41:44.663077Z"
    }
   },
   "cell_type": "code",
   "source": "len(new_game)",
   "id": "38c06f68b4cd9558",
   "outputs": [
    {
     "data": {
      "text/plain": [
       "3"
      ]
     },
     "execution_count": 20,
     "metadata": {},
     "output_type": "execute_result"
    }
   ],
   "execution_count": 20
  },
  {
   "metadata": {},
   "cell_type": "code",
   "outputs": [],
   "execution_count": null,
   "source": "",
   "id": "e0d27131e3a72b16"
  }
 ],
 "metadata": {
  "kernelspec": {
   "display_name": "Python 3",
   "language": "python",
   "name": "python3"
  },
  "language_info": {
   "codemirror_mode": {
    "name": "ipython",
    "version": 2
   },
   "file_extension": ".py",
   "mimetype": "text/x-python",
   "name": "python",
   "nbconvert_exporter": "python",
   "pygments_lexer": "ipython2",
   "version": "2.7.6"
  }
 },
 "nbformat": 4,
 "nbformat_minor": 5
}
