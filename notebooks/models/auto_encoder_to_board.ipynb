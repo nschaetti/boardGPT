{
 "cells": [
  {
   "cell_type": "code",
   "id": "initial_id",
   "metadata": {
    "collapsed": true,
    "ExecuteTime": {
     "end_time": "2025-10-04T20:20:06.313938Z",
     "start_time": "2025-10-04T20:20:02.207548Z"
    }
   },
   "source": [
    "from boardGPT.datasets import BoardDataset, collate_fn_board\n",
    "from boardGPT.games.othello import game_to_board"
   ],
   "outputs": [],
   "execution_count": 1
  },
  {
   "metadata": {},
   "cell_type": "markdown",
   "source": "## Loading auto-encoder",
   "id": "1d60cab98c3dccad"
  },
  {
   "metadata": {
    "ExecuteTime": {
     "end_time": "2025-10-04T20:30:22.074477Z",
     "start_time": "2025-10-04T20:30:21.710397Z"
    }
   },
   "cell_type": "code",
   "source": [
    "from boardGPT.models import GameAutoEncoder\n",
    "from transformers import AutoTokenizer\n",
    "autoencoder, model_config = GameAutoEncoder.from_pretrained(repo_id=\"theartificialis/Othello-Synthetic-AutoEncoder-20m-S\")\n",
    "autoencoder = autoencoder.to('cuda')\n",
    "autoencoder.eval()"
   ],
   "id": "ab57f07e2f57e54c",
   "outputs": [
    {
     "data": {
      "text/plain": [
       "GameAutoEncoder(\n",
       "  (encoder): ModuleDict(\n",
       "    (wte): Embedding(61, 512)\n",
       "    (wpe): Embedding(60, 512)\n",
       "    (drop): Dropout(p=0.0, inplace=False)\n",
       "    (h): ModuleList(\n",
       "      (0-3): 4 x Block(\n",
       "        (ln_1): LayerNorm()\n",
       "        (attn): CausalSelfAttention(\n",
       "          (qk_hook): HookPoint()\n",
       "          (v_hook): HookPoint()\n",
       "          (c_attn): Linear(in_features=512, out_features=1536, bias=False)\n",
       "          (c_proj): Linear(in_features=512, out_features=512, bias=False)\n",
       "          (attn_dropout): Dropout(p=0.0, inplace=False)\n",
       "          (resid_dropout): Dropout(p=0.0, inplace=False)\n",
       "        )\n",
       "        (ln_2): LayerNorm()\n",
       "        (mlp): MLP(\n",
       "          (c_fc): Linear(in_features=512, out_features=2048, bias=False)\n",
       "          (gelu): GELU(approximate='none')\n",
       "          (c_proj): Linear(in_features=2048, out_features=512, bias=False)\n",
       "          (dropout): Dropout(p=0.0, inplace=False)\n",
       "        )\n",
       "      )\n",
       "    )\n",
       "    (ln_f): LayerNorm()\n",
       "  )\n",
       "  (to_latent_token): Linear(in_features=512, out_features=16, bias=True)\n",
       "  (to_latent): Linear(in_features=960, out_features=64, bias=True)\n",
       "  (from_latent): Linear(in_features=64, out_features=960, bias=True)\n",
       "  (from_latent_token): Linear(in_features=16, out_features=512, bias=True)\n",
       "  (decoder): ModuleDict(\n",
       "    (wpe): Embedding(60, 512)\n",
       "    (drop): Dropout(p=0.0, inplace=False)\n",
       "    (h): ModuleList(\n",
       "      (0-3): 4 x Block(\n",
       "        (ln_1): LayerNorm()\n",
       "        (attn): CausalSelfAttention(\n",
       "          (qk_hook): HookPoint()\n",
       "          (v_hook): HookPoint()\n",
       "          (c_attn): Linear(in_features=512, out_features=1536, bias=False)\n",
       "          (c_proj): Linear(in_features=512, out_features=512, bias=False)\n",
       "          (attn_dropout): Dropout(p=0.0, inplace=False)\n",
       "          (resid_dropout): Dropout(p=0.0, inplace=False)\n",
       "        )\n",
       "        (ln_2): LayerNorm()\n",
       "        (mlp): MLP(\n",
       "          (c_fc): Linear(in_features=512, out_features=2048, bias=False)\n",
       "          (gelu): GELU(approximate='none')\n",
       "          (c_proj): Linear(in_features=2048, out_features=512, bias=False)\n",
       "          (dropout): Dropout(p=0.0, inplace=False)\n",
       "        )\n",
       "      )\n",
       "    )\n",
       "    (ln_f): LayerNorm()\n",
       "  )\n",
       "  (output_head): Linear(in_features=512, out_features=61, bias=True)\n",
       ")"
      ]
     },
     "execution_count": 17,
     "metadata": {},
     "output_type": "execute_result"
    }
   ],
   "execution_count": 17
  },
  {
   "metadata": {
    "ExecuteTime": {
     "end_time": "2025-10-04T20:30:30.921662Z",
     "start_time": "2025-10-04T20:30:30.574525Z"
    }
   },
   "cell_type": "code",
   "source": "tokenizer = AutoTokenizer.from_pretrained(\"theartificialis/Othello-Synthetic-AutoEncoder-20m-S\", subfolder=\"tokenizer\")",
   "id": "60be9a4d1935bb02",
   "outputs": [],
   "execution_count": 19
  },
  {
   "metadata": {},
   "cell_type": "markdown",
   "source": "## Loading dataset",
   "id": "955db52e483ac96c"
  },
  {
   "metadata": {
    "ExecuteTime": {
     "end_time": "2025-10-04T20:20:27.323539Z",
     "start_time": "2025-10-04T20:20:08.743662Z"
    }
   },
   "cell_type": "code",
   "source": [
    "train_dataset = BoardDataset(\n",
    "    data_dir=\"../../data/othello/othello-synthetic\",\n",
    "    board_func=game_to_board,\n",
    "    split=\"train\"\n",
    ")"
   ],
   "id": "1df63bb02fe7a22",
   "outputs": [],
   "execution_count": 4
  },
  {
   "metadata": {
    "ExecuteTime": {
     "end_time": "2025-10-04T20:20:27.337783Z",
     "start_time": "2025-10-04T20:20:27.335192Z"
    }
   },
   "cell_type": "code",
   "source": [
    "import torch\n",
    "\n",
    "# Create a dataloader\n",
    "dataloader = torch.utils.data.DataLoader(\n",
    "    dataset=train_dataset,\n",
    "    batch_size=512,\n",
    "    num_workers=8,\n",
    "    pin_memory=True,\n",
    "    shuffle=True,\n",
    "    drop_last=False,\n",
    "    collate_fn=lambda b: collate_fn_board(b, tokenizer)\n",
    ")"
   ],
   "id": "edc23ec72766e6f4",
   "outputs": [],
   "execution_count": 5
  },
  {
   "metadata": {
    "ExecuteTime": {
     "end_time": "2025-10-04T20:20:29.789678Z",
     "start_time": "2025-10-04T20:20:27.402900Z"
    }
   },
   "cell_type": "code",
   "source": "batch = next(iter(dataloader))",
   "id": "64567c8728a2ad8b",
   "outputs": [],
   "execution_count": 6
  },
  {
   "metadata": {
    "ExecuteTime": {
     "end_time": "2025-10-04T20:20:29.817772Z",
     "start_time": "2025-10-04T20:20:29.811690Z"
    }
   },
   "cell_type": "code",
   "source": "len(batch)",
   "id": "ae9d1f535e689601",
   "outputs": [
    {
     "data": {
      "text/plain": [
       "2"
      ]
     },
     "execution_count": 7,
     "metadata": {},
     "output_type": "execute_result"
    }
   ],
   "execution_count": 7
  },
  {
   "metadata": {
    "ExecuteTime": {
     "end_time": "2025-10-04T20:20:29.937994Z",
     "start_time": "2025-10-04T20:20:29.935410Z"
    }
   },
   "cell_type": "code",
   "source": "batch[0].shape",
   "id": "78e9e3b9ba971d67",
   "outputs": [
    {
     "data": {
      "text/plain": [
       "torch.Size([512, 60])"
      ]
     },
     "execution_count": 8,
     "metadata": {},
     "output_type": "execute_result"
    }
   ],
   "execution_count": 8
  },
  {
   "metadata": {
    "ExecuteTime": {
     "end_time": "2025-10-04T20:20:30.061216Z",
     "start_time": "2025-10-04T20:20:30.054823Z"
    }
   },
   "cell_type": "code",
   "source": "batch[1].shape",
   "id": "f07681b11cc9775e",
   "outputs": [
    {
     "data": {
      "text/plain": [
       "torch.Size([512, 64])"
      ]
     },
     "execution_count": 9,
     "metadata": {},
     "output_type": "execute_result"
    }
   ],
   "execution_count": 9
  },
  {
   "metadata": {
    "ExecuteTime": {
     "end_time": "2025-10-04T20:24:59.998295Z",
     "start_time": "2025-10-04T20:24:59.991882Z"
    }
   },
   "cell_type": "code",
   "source": [
    "import torch.nn as nn\n",
    "\n",
    "class BoardProbe(nn.Module):\n",
    "    def __init__(self, d_latent):\n",
    "        super().__init__()\n",
    "        self.linear = nn.Linear(d_latent, 64 * 3)\n",
    "    # end def __init__\n",
    "\n",
    "    def forward(self, x):\n",
    "        logits = self.linear(x)           # [N, 192]\n",
    "        logits = logits.view(-1, 64, 3)   # [N, 64, 3]\n",
    "        return logits\n",
    "    # end def forward\n",
    "# end class BoardProbe"
   ],
   "id": "6b9ad97c30ffe3b6",
   "outputs": [],
   "execution_count": 11
  },
  {
   "metadata": {
    "ExecuteTime": {
     "end_time": "2025-10-04T20:31:04.253556Z",
     "start_time": "2025-10-04T20:31:04.228444Z"
    }
   },
   "cell_type": "code",
   "source": [
    "probe = BoardProbe(64)\n",
    "probe = probe.to('cuda')"
   ],
   "id": "83ac15171d17d061",
   "outputs": [],
   "execution_count": 21
  },
  {
   "metadata": {
    "ExecuteTime": {
     "end_time": "2025-10-04T20:25:42.898952Z",
     "start_time": "2025-10-04T20:25:42.893050Z"
    }
   },
   "cell_type": "code",
   "source": [
    "criterion = nn.CrossEntropyLoss()\n",
    "optimizer = torch.optim.Adam(probe.parameters(), lr=1e-4)"
   ],
   "id": "3593cd41f16f06c4",
   "outputs": [],
   "execution_count": 13
  },
  {
   "metadata": {
    "ExecuteTime": {
     "end_time": "2025-10-04T20:44:15.468328Z",
     "start_time": "2025-10-04T20:44:15.460589Z"
    }
   },
   "cell_type": "code",
   "source": "len(dataloader)",
   "id": "fcbfee64979c657c",
   "outputs": [
    {
     "data": {
      "text/plain": [
       "39063"
      ]
     },
     "execution_count": 23,
     "metadata": {},
     "output_type": "execute_result"
    }
   ],
   "execution_count": 23
  },
  {
   "metadata": {
    "ExecuteTime": {
     "end_time": "2025-10-04T20:49:21.838467Z",
     "start_time": "2025-10-04T20:48:37.671410Z"
    }
   },
   "cell_type": "code",
   "source": [
    "for epoch in range(10):\n",
    "    total_loss = 0\n",
    "    s_count = 0\n",
    "    for idx, board in dataloader:\n",
    "        idx = idx.to('cuda')\n",
    "        board = board.to('cuda')  # [B, 64]\n",
    "\n",
    "        with torch.no_grad():\n",
    "            latent = autoencoder.encode(idx)   # [B, d_latent]\n",
    "        # end with\n",
    "\n",
    "        # Predict board state\n",
    "        logits = probe(latent)    # [B, 64, 3]\n",
    "\n",
    "        # CE\n",
    "        loss = criterion(\n",
    "            logits.view(-1, 3),\n",
    "            board.view(-1)\n",
    "        )\n",
    "        # print(f\"Loss: {loss}\")\n",
    "        optimizer.zero_grad()\n",
    "        loss.backward()\n",
    "        optimizer.step()\n",
    "        total_loss += loss.item()\n",
    "        s_count += 1\n",
    "        print(f\"{s_count} / {len(dataloader)}\")\n",
    "    # end for\n",
    "    print(f\"Epoch {epoch+1}: loss={total_loss/len(dataloader):.4f}\")\n",
    "# end for"
   ],
   "id": "bf7d3254e219c94d",
   "outputs": [
    {
     "name": "stdout",
     "output_type": "stream",
     "text": [
      "512 / 39063\n",
      "1024 / 39063\n",
      "1536 / 39063\n",
      "2048 / 39063\n",
      "2560 / 39063\n",
      "3072 / 39063\n",
      "3584 / 39063\n",
      "4096 / 39063\n",
      "4608 / 39063\n",
      "5120 / 39063\n",
      "5632 / 39063\n",
      "6144 / 39063\n",
      "6656 / 39063\n",
      "7168 / 39063\n",
      "7680 / 39063\n",
      "8192 / 39063\n",
      "8704 / 39063\n",
      "9216 / 39063\n",
      "9728 / 39063\n",
      "10240 / 39063\n",
      "10752 / 39063\n",
      "11264 / 39063\n",
      "11776 / 39063\n",
      "12288 / 39063\n",
      "12800 / 39063\n",
      "13312 / 39063\n",
      "13824 / 39063\n",
      "14336 / 39063\n",
      "14848 / 39063\n",
      "15360 / 39063\n",
      "15872 / 39063\n",
      "16384 / 39063\n",
      "16896 / 39063\n",
      "17408 / 39063\n"
     ]
    },
    {
     "data": {
      "text/plain": [
       "\u001B[31m╭─\u001B[0m\u001B[31m──────────────────────────────────────\u001B[0m\u001B[31m \u001B[0m\u001B[1;31mTraceback \u001B[0m\u001B[1;2;31m(most recent call last)\u001B[0m\u001B[31m \u001B[0m\u001B[31m──────────────────────────────────────\u001B[0m\u001B[31m─╮\u001B[0m\n",
       "\u001B[31m│\u001B[0m in <module>:24                                                                                                  \u001B[31m│\u001B[0m\n",
       "\u001B[31m│\u001B[0m                                                                                                                 \u001B[31m│\u001B[0m\n",
       "\u001B[31m│\u001B[0m   \u001B[2m21 \u001B[0m\u001B[2m│   │   \u001B[0moptimizer.zero_grad()                                                                              \u001B[31m│\u001B[0m\n",
       "\u001B[31m│\u001B[0m   \u001B[2m22 \u001B[0m\u001B[2m│   │   \u001B[0mloss.backward()                                                                                    \u001B[31m│\u001B[0m\n",
       "\u001B[31m│\u001B[0m   \u001B[2m23 \u001B[0m\u001B[2m│   │   \u001B[0moptimizer.step()                                                                                   \u001B[31m│\u001B[0m\n",
       "\u001B[31m│\u001B[0m \u001B[31m❱ \u001B[0m24 \u001B[2m│   │   \u001B[0mtotal_loss += \u001B[1;4mloss.item()\u001B[0m                                                                          \u001B[31m│\u001B[0m\n",
       "\u001B[31m│\u001B[0m   \u001B[2m25 \u001B[0m\u001B[2m│   │   \u001B[0ms_count += idx.shape[\u001B[94m0\u001B[0m]                                                                            \u001B[31m│\u001B[0m\n",
       "\u001B[31m│\u001B[0m   \u001B[2m26 \u001B[0m\u001B[2m│   │   \u001B[0m\u001B[96mprint\u001B[0m(\u001B[33mf\u001B[0m\u001B[33m\"\u001B[0m\u001B[33m{\u001B[0ms_count\u001B[33m}\u001B[0m\u001B[33m / \u001B[0m\u001B[33m{\u001B[0m\u001B[96mlen\u001B[0m(dataloader)\u001B[33m}\u001B[0m\u001B[33m\"\u001B[0m)                                                            \u001B[31m│\u001B[0m\n",
       "\u001B[31m│\u001B[0m   \u001B[2m27 \u001B[0m\u001B[2m│   \u001B[0m\u001B[2m# end for\u001B[0m                                                                                              \u001B[31m│\u001B[0m\n",
       "\u001B[31m╰─────────────────────────────────────────────────────────────────────────────────────────────────────────────────╯\u001B[0m\n",
       "\u001B[1;91mKeyboardInterrupt\u001B[0m\n"
      ],
      "text/html": [
       "<pre style=\"white-space:pre;overflow-x:auto;line-height:normal;font-family:Menlo,'DejaVu Sans Mono',consolas,'Courier New',monospace\"><span style=\"color: #800000; text-decoration-color: #800000\">╭─────────────────────────────────────── </span><span style=\"color: #800000; text-decoration-color: #800000; font-weight: bold\">Traceback </span><span style=\"color: #bf7f7f; text-decoration-color: #bf7f7f; font-weight: bold\">(most recent call last)</span><span style=\"color: #800000; text-decoration-color: #800000\"> ───────────────────────────────────────╮</span>\n",
       "<span style=\"color: #800000; text-decoration-color: #800000\">│</span> in &lt;module&gt;:24                                                                                                  <span style=\"color: #800000; text-decoration-color: #800000\">│</span>\n",
       "<span style=\"color: #800000; text-decoration-color: #800000\">│</span>                                                                                                                 <span style=\"color: #800000; text-decoration-color: #800000\">│</span>\n",
       "<span style=\"color: #800000; text-decoration-color: #800000\">│</span>   <span style=\"color: #7f7f7f; text-decoration-color: #7f7f7f\">21 </span><span style=\"color: #7f7f7f; text-decoration-color: #7f7f7f\">│   │   </span>optimizer.zero_grad()                                                                              <span style=\"color: #800000; text-decoration-color: #800000\">│</span>\n",
       "<span style=\"color: #800000; text-decoration-color: #800000\">│</span>   <span style=\"color: #7f7f7f; text-decoration-color: #7f7f7f\">22 </span><span style=\"color: #7f7f7f; text-decoration-color: #7f7f7f\">│   │   </span>loss.backward()                                                                                    <span style=\"color: #800000; text-decoration-color: #800000\">│</span>\n",
       "<span style=\"color: #800000; text-decoration-color: #800000\">│</span>   <span style=\"color: #7f7f7f; text-decoration-color: #7f7f7f\">23 </span><span style=\"color: #7f7f7f; text-decoration-color: #7f7f7f\">│   │   </span>optimizer.step()                                                                                   <span style=\"color: #800000; text-decoration-color: #800000\">│</span>\n",
       "<span style=\"color: #800000; text-decoration-color: #800000\">│</span> <span style=\"color: #800000; text-decoration-color: #800000\">❱ </span>24 <span style=\"color: #7f7f7f; text-decoration-color: #7f7f7f\">│   │   </span>total_loss += <span style=\"font-weight: bold; text-decoration: underline\">loss.item()</span>                                                                          <span style=\"color: #800000; text-decoration-color: #800000\">│</span>\n",
       "<span style=\"color: #800000; text-decoration-color: #800000\">│</span>   <span style=\"color: #7f7f7f; text-decoration-color: #7f7f7f\">25 </span><span style=\"color: #7f7f7f; text-decoration-color: #7f7f7f\">│   │   </span>s_count += idx.shape[<span style=\"color: #0000ff; text-decoration-color: #0000ff\">0</span>]                                                                            <span style=\"color: #800000; text-decoration-color: #800000\">│</span>\n",
       "<span style=\"color: #800000; text-decoration-color: #800000\">│</span>   <span style=\"color: #7f7f7f; text-decoration-color: #7f7f7f\">26 </span><span style=\"color: #7f7f7f; text-decoration-color: #7f7f7f\">│   │   </span><span style=\"color: #00ffff; text-decoration-color: #00ffff\">print</span>(<span style=\"color: #808000; text-decoration-color: #808000\">f\"{</span>s_count<span style=\"color: #808000; text-decoration-color: #808000\">} / {</span><span style=\"color: #00ffff; text-decoration-color: #00ffff\">len</span>(dataloader)<span style=\"color: #808000; text-decoration-color: #808000\">}\"</span>)                                                            <span style=\"color: #800000; text-decoration-color: #800000\">│</span>\n",
       "<span style=\"color: #800000; text-decoration-color: #800000\">│</span>   <span style=\"color: #7f7f7f; text-decoration-color: #7f7f7f\">27 </span><span style=\"color: #7f7f7f; text-decoration-color: #7f7f7f\">│   </span><span style=\"color: #7f7f7f; text-decoration-color: #7f7f7f\"># end for</span>                                                                                              <span style=\"color: #800000; text-decoration-color: #800000\">│</span>\n",
       "<span style=\"color: #800000; text-decoration-color: #800000\">╰─────────────────────────────────────────────────────────────────────────────────────────────────────────────────╯</span>\n",
       "<span style=\"color: #ff0000; text-decoration-color: #ff0000; font-weight: bold\">KeyboardInterrupt</span>\n",
       "</pre>\n"
      ]
     },
     "metadata": {},
     "output_type": "display_data"
    }
   ],
   "execution_count": 24
  },
  {
   "metadata": {},
   "cell_type": "code",
   "outputs": [],
   "execution_count": null,
   "source": "",
   "id": "2ffab19320f7ae0f"
  }
 ],
 "metadata": {
  "kernelspec": {
   "display_name": "Python 3",
   "language": "python",
   "name": "python3"
  },
  "language_info": {
   "codemirror_mode": {
    "name": "ipython",
    "version": 2
   },
   "file_extension": ".py",
   "mimetype": "text/x-python",
   "name": "python",
   "nbconvert_exporter": "python",
   "pygments_lexer": "ipython2",
   "version": "2.7.6"
  }
 },
 "nbformat": 4,
 "nbformat_minor": 5
}
