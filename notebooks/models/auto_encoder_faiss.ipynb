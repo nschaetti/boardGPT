{
 "cells": [
  {
   "cell_type": "code",
   "id": "initial_id",
   "metadata": {
    "collapsed": true,
    "ExecuteTime": {
     "end_time": "2025-10-04T16:06:32.615990Z",
     "start_time": "2025-10-04T16:06:30.307232Z"
    }
   },
   "source": [
    "import torch\n",
    "import torch.nn\n",
    "import torch.nn.functional as F\n",
    "import matplotlib.pyplot as plt\n",
    "from boardGPT.models import GameAutoEncoder\n",
    "from transformers import AutoTokenizer"
   ],
   "outputs": [],
   "execution_count": 1
  },
  {
   "metadata": {
    "ExecuteTime": {
     "end_time": "2025-10-04T16:06:33.088205Z",
     "start_time": "2025-10-04T16:06:32.659097Z"
    }
   },
   "cell_type": "code",
   "source": "model, model_config = GameAutoEncoder.from_pretrained(repo_id=\"theartificialis/Othello-Synthetic-AutoEncoder-20m-S\")",
   "id": "f79738e644f04571",
   "outputs": [],
   "execution_count": 2
  },
  {
   "metadata": {
    "ExecuteTime": {
     "end_time": "2025-10-04T16:06:33.449220Z",
     "start_time": "2025-10-04T16:06:33.101209Z"
    }
   },
   "cell_type": "code",
   "source": "tokenizer = AutoTokenizer.from_pretrained(\"theartificialis/Othello-Synthetic-AutoEncoder-20m-S\", subfolder=\"tokenizer\")",
   "id": "957c033114846254",
   "outputs": [],
   "execution_count": 3
  },
  {
   "metadata": {
    "ExecuteTime": {
     "end_time": "2025-10-04T16:06:33.493392Z",
     "start_time": "2025-10-04T16:06:33.460422Z"
    }
   },
   "cell_type": "code",
   "source": [
    "import faiss\n",
    "d = 64\n",
    "quantizer = faiss.IndexFlatL2(d)\n",
    "index = faiss.IndexIVFPQ(quantizer, d, 8192, 16, 12)"
   ],
   "id": "9fc14f53ef1aaba9",
   "outputs": [],
   "execution_count": 4
  },
  {
   "metadata": {
    "ExecuteTime": {
     "end_time": "2025-10-04T16:06:51.579231Z",
     "start_time": "2025-10-04T16:06:33.512454Z"
    }
   },
   "cell_type": "code",
   "source": [
    "from boardGPT.datasets import GameDataset, collate_fn\n",
    "\n",
    "n_samples = 10000\n",
    "\n",
    "dataset = GameDataset(\n",
    "    data_dir=\"../../data/othello/othello-synthetic\",\n",
    "    split=\"train\",\n",
    "    num_samples=n_samples,\n",
    ")\n",
    "\n",
    "# Create a dataloader\n",
    "dataloader = torch.utils.data.DataLoader(\n",
    "    dataset=dataset,\n",
    "    batch_size=1024,\n",
    "    num_workers=8,\n",
    "    pin_memory=True,\n",
    "    shuffle=False,\n",
    "    drop_last=False,\n",
    "    collate_fn=lambda b: collate_fn(b, tokenizer)\n",
    ")"
   ],
   "id": "9c0fa6d3813aa8de",
   "outputs": [],
   "execution_count": 5
  },
  {
   "metadata": {
    "ExecuteTime": {
     "end_time": "2025-10-04T16:06:51.593556Z",
     "start_time": "2025-10-04T16:06:51.589760Z"
    }
   },
   "cell_type": "code",
   "source": "len(dataloader)",
   "id": "503d1fb8a8757403",
   "outputs": [
    {
     "data": {
      "text/plain": [
       "10"
      ]
     },
     "execution_count": 6,
     "metadata": {},
     "output_type": "execute_result"
    }
   ],
   "execution_count": 6
  },
  {
   "metadata": {
    "ExecuteTime": {
     "end_time": "2025-10-04T16:08:41.787476Z",
     "start_time": "2025-10-04T16:08:40.692035Z"
    }
   },
   "cell_type": "code",
   "source": [
    "batch = next(iter(dataloader))\n",
    "batch[0].shape"
   ],
   "id": "9b3a1ca3b35f4e7c",
   "outputs": [
    {
     "data": {
      "text/plain": [
       "torch.Size([1024, 60])"
      ]
     },
     "execution_count": 7,
     "metadata": {},
     "output_type": "execute_result"
    }
   ],
   "execution_count": 7
  },
  {
   "metadata": {
    "ExecuteTime": {
     "end_time": "2025-10-04T16:08:47.468520Z",
     "start_time": "2025-10-04T16:08:44.908854Z"
    }
   },
   "cell_type": "code",
   "source": "enc = model.encode_indices(batch[0])",
   "id": "82d844194e9bd325",
   "outputs": [],
   "execution_count": 8
  },
  {
   "metadata": {
    "ExecuteTime": {
     "end_time": "2025-10-04T16:09:10.955652Z",
     "start_time": "2025-10-04T16:09:10.951180Z"
    }
   },
   "cell_type": "code",
   "source": "enc.shape",
   "id": "b21cee4a0834ffd2",
   "outputs": [
    {
     "data": {
      "text/plain": [
       "torch.Size([1024, 64])"
      ]
     },
     "execution_count": 9,
     "metadata": {},
     "output_type": "execute_result"
    }
   ],
   "execution_count": 9
  },
  {
   "metadata": {
    "ExecuteTime": {
     "end_time": "2025-10-04T16:11:47.347524Z",
     "start_time": "2025-10-04T16:11:22.722553Z"
    }
   },
   "cell_type": "code",
   "source": [
    "train_vectors = list()\n",
    "for batch in dataloader:\n",
    "    x = batch[0]\n",
    "    enc_x = model.encode_indices(x)\n",
    "    train_vectors.append(enc_x)\n",
    "# end for\n",
    "train_vectors = torch.cat(train_vectors, dim=0)"
   ],
   "id": "d8e4c9e2d02a73f6",
   "outputs": [],
   "execution_count": 10
  },
  {
   "metadata": {
    "ExecuteTime": {
     "end_time": "2025-10-04T16:12:53.965992Z",
     "start_time": "2025-10-04T16:12:38.414655Z"
    }
   },
   "cell_type": "code",
   "source": "index.train(train_vectors)  # Training cookbook",
   "id": "c73ee73c8cc9442",
   "outputs": [
    {
     "name": "stderr",
     "output_type": "stream",
     "text": [
      "WARNING clustering 10000 points to 8192 centroids: please provide at least 319488 training points\n",
      "WARNING clustering 10000 points to 4096 centroids: please provide at least 159744 training points\n",
      "WARNING clustering 10000 points to 4096 centroids: please provide at least 159744 training points\n",
      "WARNING clustering 10000 points to 4096 centroids: please provide at least 159744 training points\n",
      "WARNING clustering 10000 points to 4096 centroids: please provide at least 159744 training points\n",
      "WARNING clustering 10000 points to 4096 centroids: please provide at least 159744 training points\n",
      "WARNING clustering 10000 points to 4096 centroids: please provide at least 159744 training points\n",
      "WARNING clustering 10000 points to 4096 centroids: please provide at least 159744 training points\n",
      "WARNING clustering 10000 points to 4096 centroids: please provide at least 159744 training points\n",
      "WARNING clustering 10000 points to 4096 centroids: please provide at least 159744 training points\n",
      "WARNING clustering 10000 points to 4096 centroids: please provide at least 159744 training points\n",
      "WARNING clustering 10000 points to 4096 centroids: please provide at least 159744 training points\n",
      "WARNING clustering 10000 points to 4096 centroids: please provide at least 159744 training points\n",
      "WARNING clustering 10000 points to 4096 centroids: please provide at least 159744 training points\n",
      "WARNING clustering 10000 points to 4096 centroids: please provide at least 159744 training points\n",
      "WARNING clustering 10000 points to 4096 centroids: please provide at least 159744 training points\n",
      "WARNING clustering 10000 points to 4096 centroids: please provide at least 159744 training points\n"
     ]
    }
   ],
   "execution_count": 12
  },
  {
   "metadata": {},
   "cell_type": "code",
   "outputs": [],
   "execution_count": null,
   "source": "",
   "id": "2a8036d1704b515d"
  }
 ],
 "metadata": {
  "kernelspec": {
   "display_name": "Python 3",
   "language": "python",
   "name": "python3"
  },
  "language_info": {
   "codemirror_mode": {
    "name": "ipython",
    "version": 2
   },
   "file_extension": ".py",
   "mimetype": "text/x-python",
   "name": "python",
   "nbconvert_exporter": "python",
   "pygments_lexer": "ipython2",
   "version": "2.7.6"
  }
 },
 "nbformat": 4,
 "nbformat_minor": 5
}
