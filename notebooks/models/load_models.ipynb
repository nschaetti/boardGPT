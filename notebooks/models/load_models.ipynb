{
 "cells": [
  {
   "cell_type": "code",
   "id": "initial_id",
   "metadata": {
    "collapsed": true,
    "ExecuteTime": {
     "end_time": "2025-10-04T09:14:39.150221Z",
     "start_time": "2025-10-04T09:14:37.654864Z"
    }
   },
   "source": "from boardGPT.models import GameGPT",
   "outputs": [],
   "execution_count": 2
  },
  {
   "metadata": {
    "ExecuteTime": {
     "end_time": "2025-10-04T09:14:50.554916Z",
     "start_time": "2025-10-04T09:14:49.841613Z"
    }
   },
   "cell_type": "code",
   "source": "model = GameGPT.from_pretrained(repo_id=\"theartificialis/OthelloGPT-Synthetic-20m\")",
   "id": "155f039b9ec3ae9",
   "outputs": [],
   "execution_count": 4
  },
  {
   "metadata": {
    "ExecuteTime": {
     "end_time": "2025-10-04T09:15:07.721293Z",
     "start_time": "2025-10-04T09:15:07.716352Z"
    }
   },
   "cell_type": "code",
   "source": "model",
   "id": "572cd6937c987220",
   "outputs": [
    {
     "data": {
      "text/plain": [
       "(GameGPT(\n",
       "   (token_emb_hook): HookPoint()\n",
       "   (pos_emb_hook): HookPoint()\n",
       "   (pre_logits_hook): HookPoint()\n",
       "   (transformer): ModuleDict(\n",
       "     (wte): Embedding(61, 512)\n",
       "     (wpe): Embedding(60, 512)\n",
       "     (drop): Dropout(p=0.0, inplace=False)\n",
       "     (h): ModuleList(\n",
       "       (0-7): 8 x Block(\n",
       "         (ln_1): LayerNorm()\n",
       "         (attn): CausalSelfAttention(\n",
       "           (qk_hook): HookPoint()\n",
       "           (v_hook): HookPoint()\n",
       "           (c_attn): Linear(in_features=512, out_features=1536, bias=False)\n",
       "           (c_proj): Linear(in_features=512, out_features=512, bias=False)\n",
       "           (attn_dropout): Dropout(p=0.0, inplace=False)\n",
       "           (resid_dropout): Dropout(p=0.0, inplace=False)\n",
       "         )\n",
       "         (ln_2): LayerNorm()\n",
       "         (mlp): MLP(\n",
       "           (c_fc): Linear(in_features=512, out_features=2048, bias=False)\n",
       "           (gelu): GELU(approximate='none')\n",
       "           (c_proj): Linear(in_features=2048, out_features=512, bias=False)\n",
       "           (dropout): Dropout(p=0.0, inplace=False)\n",
       "         )\n",
       "       )\n",
       "     )\n",
       "     (ln_f): LayerNorm()\n",
       "   )\n",
       "   (lm_head): Linear(in_features=512, out_features=61, bias=False)\n",
       " ),\n",
       " GPTConfig(block_size=60, vocab_size=61, n_layer=8, n_head=8, n_embd=512, dropout=0.0, n_latent_token=None, n_latent=None, bias=False))"
      ]
     },
     "execution_count": 5,
     "metadata": {},
     "output_type": "execute_result"
    }
   ],
   "execution_count": 5
  },
  {
   "metadata": {},
   "cell_type": "code",
   "outputs": [],
   "execution_count": null,
   "source": "",
   "id": "742f37183c9d0c3f"
  }
 ],
 "metadata": {
  "kernelspec": {
   "display_name": "Python 3",
   "language": "python",
   "name": "python3"
  },
  "language_info": {
   "codemirror_mode": {
    "name": "ipython",
    "version": 2
   },
   "file_extension": ".py",
   "mimetype": "text/x-python",
   "name": "python",
   "nbconvert_exporter": "python",
   "pygments_lexer": "ipython2",
   "version": "2.7.6"
  }
 },
 "nbformat": 4,
 "nbformat_minor": 5
}
