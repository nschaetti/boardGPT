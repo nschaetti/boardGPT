{
 "cells": [
  {
   "metadata": {},
   "cell_type": "markdown",
   "source": "",
   "id": "1e1cfcb2a36c2e20"
  },
  {
   "metadata": {
    "ExecuteTime": {
     "end_time": "2025-09-27T10:22:15.655865Z",
     "start_time": "2025-09-27T10:22:14.535303Z"
    }
   },
   "cell_type": "code",
   "source": [
    "from boardGPT import checkers, generate_game\n",
    "from boardGPT.games import CheckersGame"
   ],
   "id": "4603623cc5c6dcb5",
   "outputs": [],
   "execution_count": 1
  },
  {
   "metadata": {
    "ExecuteTime": {
     "end_time": "2025-09-27T10:22:15.697814Z",
     "start_time": "2025-09-27T10:22:15.695699Z"
    }
   },
   "cell_type": "code",
   "source": "game = CheckersGame()",
   "id": "d1f3a48b70198d96",
   "outputs": [],
   "execution_count": 2
  },
  {
   "metadata": {
    "ExecuteTime": {
     "end_time": "2025-09-27T10:22:16.467230Z",
     "start_time": "2025-09-27T10:22:16.225032Z"
    }
   },
   "cell_type": "code",
   "source": "game",
   "id": "be443c5ba6f03016",
   "outputs": [
    {
     "data": {
      "text/plain": [
       "\u001B[31m╭─\u001B[0m\u001B[31m──────────────────────────────────────\u001B[0m\u001B[31m \u001B[0m\u001B[1;31mTraceback \u001B[0m\u001B[1;2;31m(most recent call last)\u001B[0m\u001B[31m \u001B[0m\u001B[31m──────────────────────────────────────\u001B[0m\u001B[31m─╮\u001B[0m\n",
       "\u001B[31m│\u001B[0m \u001B[2m/home/schaetti/miniconda3/envs/BoardGPT/lib/python3.11/site-packages/IPython/core/\u001B[0m\u001B[1mformatters.py\u001B[0m:282 in          \u001B[31m│\u001B[0m\n",
       "\u001B[31m│\u001B[0m catch_format_error                                                                                              \u001B[31m│\u001B[0m\n",
       "\u001B[31m│\u001B[0m                                                                                                                 \u001B[31m│\u001B[0m\n",
       "\u001B[31m│\u001B[0m   \u001B[2m 279 \u001B[0m\u001B[94mdef\u001B[0m\u001B[90m \u001B[0m\u001B[92mcatch_format_error\u001B[0m(method, \u001B[96mself\u001B[0m, *args, **kwargs):                                                   \u001B[31m│\u001B[0m\n",
       "\u001B[31m│\u001B[0m   \u001B[2m 280 \u001B[0m\u001B[2;90m│   \u001B[0m\u001B[33m\"\"\"show traceback on failed format call\"\"\"\u001B[0m                                                           \u001B[31m│\u001B[0m\n",
       "\u001B[31m│\u001B[0m   \u001B[2m 281 \u001B[0m\u001B[2m│   \u001B[0m\u001B[94mtry\u001B[0m:                                                                                                 \u001B[31m│\u001B[0m\n",
       "\u001B[31m│\u001B[0m \u001B[31m❱ \u001B[0m 282 \u001B[2m│   │   \u001B[0mr = method(\u001B[96mself\u001B[0m, *args, **kwargs)                                                                \u001B[31m│\u001B[0m\n",
       "\u001B[31m│\u001B[0m   \u001B[2m 283 \u001B[0m\u001B[2m│   \u001B[0m\u001B[94mexcept\u001B[0m \u001B[96mNotImplementedError\u001B[0m:                                                                          \u001B[31m│\u001B[0m\n",
       "\u001B[31m│\u001B[0m   \u001B[2m 284 \u001B[0m\u001B[2m│   │   \u001B[0m\u001B[2m# don't warn on NotImplementedErrors\u001B[0m                                                             \u001B[31m│\u001B[0m\n",
       "\u001B[31m│\u001B[0m   \u001B[2m 285 \u001B[0m\u001B[2m│   │   \u001B[0m\u001B[94mreturn\u001B[0m \u001B[96mself\u001B[0m._check_return(\u001B[94mNone\u001B[0m, args[\u001B[94m0\u001B[0m])                                                         \u001B[31m│\u001B[0m\n",
       "\u001B[31m│\u001B[0m                                                                                                                 \u001B[31m│\u001B[0m\n",
       "\u001B[31m│\u001B[0m \u001B[2m/home/schaetti/miniconda3/envs/BoardGPT/lib/python3.11/site-packages/IPython/core/\u001B[0m\u001B[1mformatters.py\u001B[0m:770 in __call__ \u001B[31m│\u001B[0m\n",
       "\u001B[31m│\u001B[0m                                                                                                                 \u001B[31m│\u001B[0m\n",
       "\u001B[31m│\u001B[0m   \u001B[2m 767 \u001B[0m\u001B[2m│   │   │   │   \u001B[0msingleton_pprinters=\u001B[96mself\u001B[0m.singleton_printers,                                             \u001B[31m│\u001B[0m\n",
       "\u001B[31m│\u001B[0m   \u001B[2m 768 \u001B[0m\u001B[2m│   │   │   │   \u001B[0mtype_pprinters=\u001B[96mself\u001B[0m.type_printers,                                                       \u001B[31m│\u001B[0m\n",
       "\u001B[31m│\u001B[0m   \u001B[2m 769 \u001B[0m\u001B[2m│   │   │   │   \u001B[0mdeferred_pprinters=\u001B[96mself\u001B[0m.deferred_printers)                                               \u001B[31m│\u001B[0m\n",
       "\u001B[31m│\u001B[0m \u001B[31m❱ \u001B[0m 770 \u001B[2m│   │   │   \u001B[0m\u001B[1;4mprinter.pretty(obj)\u001B[0m                                                                          \u001B[31m│\u001B[0m\n",
       "\u001B[31m│\u001B[0m   \u001B[2m 771 \u001B[0m\u001B[2m│   │   │   \u001B[0mprinter.flush()                                                                              \u001B[31m│\u001B[0m\n",
       "\u001B[31m│\u001B[0m   \u001B[2m 772 \u001B[0m\u001B[2m│   │   │   \u001B[0m\u001B[94mreturn\u001B[0m stream.getvalue()                                                                     \u001B[31m│\u001B[0m\n",
       "\u001B[31m│\u001B[0m   \u001B[2m 773 \u001B[0m                                                                                                         \u001B[31m│\u001B[0m\n",
       "\u001B[31m│\u001B[0m                                                                                                                 \u001B[31m│\u001B[0m\n",
       "\u001B[31m│\u001B[0m \u001B[2m/home/schaetti/miniconda3/envs/BoardGPT/lib/python3.11/site-packages/IPython/lib/\u001B[0m\u001B[1mpretty.py\u001B[0m:411 in pretty        \u001B[31m│\u001B[0m\n",
       "\u001B[31m│\u001B[0m                                                                                                                 \u001B[31m│\u001B[0m\n",
       "\u001B[31m│\u001B[0m   \u001B[2m408 \u001B[0m\u001B[2m│   │   │   │   │   │   │   \u001B[0m\u001B[2m#   in order to work with descriptors like partialmethod,\u001B[0m                     \u001B[31m│\u001B[0m\n",
       "\u001B[31m│\u001B[0m   \u001B[2m409 \u001B[0m\u001B[2m│   │   │   │   │   │   │   \u001B[0m\u001B[95mand\u001B[0m \u001B[96mcallable\u001B[0m(_safe_getattr(\u001B[96mcls\u001B[0m, \u001B[33m\"\u001B[0m\u001B[33m__repr__\u001B[0m\u001B[33m\"\u001B[0m, \u001B[94mNone\u001B[0m))                            \u001B[31m│\u001B[0m\n",
       "\u001B[31m│\u001B[0m   \u001B[2m410 \u001B[0m\u001B[2m│   │   │   │   │   │   \u001B[0m):                                                                                \u001B[31m│\u001B[0m\n",
       "\u001B[31m│\u001B[0m \u001B[31m❱ \u001B[0m411 \u001B[2m│   │   │   │   │   │   │   \u001B[0m\u001B[94mreturn\u001B[0m _repr_pprint(obj, \u001B[96mself\u001B[0m, cycle)                                         \u001B[31m│\u001B[0m\n",
       "\u001B[31m│\u001B[0m   \u001B[2m412 \u001B[0m\u001B[2m│   │   │   \u001B[0m                                                                                              \u001B[31m│\u001B[0m\n",
       "\u001B[31m│\u001B[0m   \u001B[2m413 \u001B[0m\u001B[2m│   │   │   \u001B[0m\u001B[94mreturn\u001B[0m _default_pprint(obj, \u001B[96mself\u001B[0m, cycle)                                                      \u001B[31m│\u001B[0m\n",
       "\u001B[31m│\u001B[0m   \u001B[2m414 \u001B[0m\u001B[2m│   │   \u001B[0m\u001B[94mfinally\u001B[0m:                                                                                          \u001B[31m│\u001B[0m\n",
       "\u001B[31m│\u001B[0m                                                                                                                 \u001B[31m│\u001B[0m\n",
       "\u001B[31m│\u001B[0m \u001B[2m/home/schaetti/miniconda3/envs/BoardGPT/lib/python3.11/site-packages/IPython/lib/\u001B[0m\u001B[1mpretty.py\u001B[0m:786 in _repr_pprint  \u001B[31m│\u001B[0m\n",
       "\u001B[31m│\u001B[0m                                                                                                                 \u001B[31m│\u001B[0m\n",
       "\u001B[31m│\u001B[0m   \u001B[2m783 \u001B[0m\u001B[94mdef\u001B[0m\u001B[90m \u001B[0m\u001B[92m_repr_pprint\u001B[0m(obj, p, cycle):                                                                          \u001B[31m│\u001B[0m\n",
       "\u001B[31m│\u001B[0m   \u001B[2m784 \u001B[0m\u001B[2;90m│   \u001B[0m\u001B[33m\"\"\"A pprint that just redirects to the normal repr function.\"\"\"\u001B[0m                                       \u001B[31m│\u001B[0m\n",
       "\u001B[31m│\u001B[0m   \u001B[2m785 \u001B[0m\u001B[2m│   \u001B[0m\u001B[2m# Find newlines and replace them with p.break_()\u001B[0m                                                      \u001B[31m│\u001B[0m\n",
       "\u001B[31m│\u001B[0m \u001B[31m❱ \u001B[0m786 \u001B[2m│   \u001B[0moutput = \u001B[1;4;96mrepr\u001B[0m\u001B[1;4m(obj)\u001B[0m                                                                                    \u001B[31m│\u001B[0m\n",
       "\u001B[31m│\u001B[0m   \u001B[2m787 \u001B[0m\u001B[2m│   \u001B[0mlines = output.splitlines()                                                                           \u001B[31m│\u001B[0m\n",
       "\u001B[31m│\u001B[0m   \u001B[2m788 \u001B[0m\u001B[2m│   \u001B[0m\u001B[94mwith\u001B[0m p.group():                                                                                       \u001B[31m│\u001B[0m\n",
       "\u001B[31m│\u001B[0m   \u001B[2m789 \u001B[0m\u001B[2m│   │   \u001B[0m\u001B[94mfor\u001B[0m idx, output_line \u001B[95min\u001B[0m \u001B[96menumerate\u001B[0m(lines):                                                         \u001B[31m│\u001B[0m\n",
       "\u001B[31m│\u001B[0m                                                                                                                 \u001B[31m│\u001B[0m\n",
       "\u001B[31m│\u001B[0m \u001B[2m/home/schaetti/Projets/RECHERCHES/Recherches/BoardWorld/boardGPT/boardGPT/games/checkers/\u001B[0m\u001B[1mcheckers_simulator.py\u001B[0m: \u001B[31m│\u001B[0m\n",
       "\u001B[31m│\u001B[0m 748 in __repr__                                                                                                 \u001B[31m│\u001B[0m\n",
       "\u001B[31m│\u001B[0m                                                                                                                 \u001B[31m│\u001B[0m\n",
       "\u001B[31m│\u001B[0m   \u001B[2m745 \u001B[0m\u001B[2;33m│   │   \u001B[0m\u001B[33mReturns:\u001B[0m                                                                                          \u001B[31m│\u001B[0m\n",
       "\u001B[31m│\u001B[0m   \u001B[2m746 \u001B[0m\u001B[2;33m│   │   │   \u001B[0m\u001B[33mstr: String representation of the game\u001B[0m                                                        \u001B[31m│\u001B[0m\n",
       "\u001B[31m│\u001B[0m   \u001B[2m747 \u001B[0m\u001B[2;33m│   │   \u001B[0m\u001B[33m\"\"\"\u001B[0m                                                                                               \u001B[31m│\u001B[0m\n",
       "\u001B[31m│\u001B[0m \u001B[31m❱ \u001B[0m748 \u001B[2m│   │   \u001B[0m\u001B[94mreturn\u001B[0m \u001B[1;4;96mself\u001B[0m\u001B[1;4m.\u001B[0m\u001B[1;4;92m__str__\u001B[0m\u001B[1;4m()\u001B[0m                                                                             \u001B[31m│\u001B[0m\n",
       "\u001B[31m│\u001B[0m   \u001B[2m749 \u001B[0m\u001B[2m│   \u001B[0m\u001B[2m# end __repr__\u001B[0m                                                                                        \u001B[31m│\u001B[0m\n",
       "\u001B[31m│\u001B[0m   \u001B[2m750 \u001B[0m\u001B[2m│   \u001B[0m                                                                                                      \u001B[31m│\u001B[0m\n",
       "\u001B[31m│\u001B[0m   \u001B[2m751 \u001B[0m\u001B[2m│   \u001B[0m\u001B[94mdef\u001B[0m\u001B[90m \u001B[0m\u001B[92m__len__\u001B[0m(\u001B[96mself\u001B[0m):                                                                                    \u001B[31m│\u001B[0m\n",
       "\u001B[31m│\u001B[0m                                                                                                                 \u001B[31m│\u001B[0m\n",
       "\u001B[31m│\u001B[0m \u001B[2m/home/schaetti/Projets/RECHERCHES/Recherches/BoardWorld/boardGPT/boardGPT/games/checkers/\u001B[0m\u001B[1mcheckers_simulator.py\u001B[0m: \u001B[31m│\u001B[0m\n",
       "\u001B[31m│\u001B[0m 731 in __str__                                                                                                  \u001B[31m│\u001B[0m\n",
       "\u001B[31m│\u001B[0m                                                                                                                 \u001B[31m│\u001B[0m\n",
       "\u001B[31m│\u001B[0m   \u001B[2m728 \u001B[0m\u001B[2;33m│   │   │   \u001B[0m\u001B[33mstr: String representation of the game\u001B[0m                                                        \u001B[31m│\u001B[0m\n",
       "\u001B[31m│\u001B[0m   \u001B[2m729 \u001B[0m\u001B[2;33m│   │   \u001B[0m\u001B[33m\"\"\"\u001B[0m                                                                                               \u001B[31m│\u001B[0m\n",
       "\u001B[31m│\u001B[0m   \u001B[2m730 \u001B[0m\u001B[2m│   │   \u001B[0mresult = \u001B[33mf\u001B[0m\u001B[33m\"\u001B[0m\u001B[33mCurrent player: \u001B[0m\u001B[33m{\u001B[0m\u001B[33m'\u001B[0m\u001B[33mBlack\u001B[0m\u001B[33m'\u001B[0m\u001B[90m \u001B[0m\u001B[94mif\u001B[0m\u001B[90m \u001B[0m\u001B[96mself\u001B[0m.current_player\u001B[90m \u001B[0m==\u001B[90m \u001B[0m\u001B[96mself\u001B[0m.BLACK\u001B[90m \u001B[0m\u001B[94melse\u001B[0m\u001B[90m \u001B[0m                    \u001B[31m│\u001B[0m\n",
       "\u001B[31m│\u001B[0m       \u001B[33m'\u001B[0m\u001B[33mWhite\u001B[0m\u001B[33m'\u001B[0m\u001B[33m}\u001B[0m\u001B[33m\\n\u001B[0m\u001B[33m\"\u001B[0m                                                                                               \u001B[31m│\u001B[0m\n",
       "\u001B[31m│\u001B[0m \u001B[31m❱ \u001B[0m731 \u001B[2m│   │   \u001B[0mresult += \u001B[1;4;96mstr\u001B[0m\u001B[1;4m(\u001B[0m\u001B[1;4;96mself\u001B[0m\u001B[1;4m.board)\u001B[0m                                                                         \u001B[31m│\u001B[0m\n",
       "\u001B[31m│\u001B[0m   \u001B[2m732 \u001B[0m\u001B[2m│   │   \u001B[0m                                                                                                  \u001B[31m│\u001B[0m\n",
       "\u001B[31m│\u001B[0m   \u001B[2m733 \u001B[0m\u001B[2m│   │   \u001B[0m\u001B[94mif\u001B[0m \u001B[96mself\u001B[0m.game_over:                                                                                \u001B[31m│\u001B[0m\n",
       "\u001B[31m│\u001B[0m   \u001B[2m734 \u001B[0m\u001B[2m│   │   │   \u001B[0mwinner = \u001B[33m\"\u001B[0m\u001B[33mBlack\u001B[0m\u001B[33m\"\u001B[0m \u001B[94mif\u001B[0m \u001B[96mself\u001B[0m.winner == \u001B[96mself\u001B[0m.BLACK \u001B[94melse\u001B[0m \u001B[33m\"\u001B[0m\u001B[33mWhite\u001B[0m\u001B[33m\"\u001B[0m                                    \u001B[31m│\u001B[0m\n",
       "\u001B[31m│\u001B[0m                                                                                                                 \u001B[31m│\u001B[0m\n",
       "\u001B[31m│\u001B[0m \u001B[2m/home/schaetti/Projets/RECHERCHES/Recherches/BoardWorld/boardGPT/boardGPT/games/checkers/\u001B[0m\u001B[1mcheckers_simulator.py\u001B[0m: \u001B[31m│\u001B[0m\n",
       "\u001B[31m│\u001B[0m 255 in __str__                                                                                                  \u001B[31m│\u001B[0m\n",
       "\u001B[31m│\u001B[0m                                                                                                                 \u001B[31m│\u001B[0m\n",
       "\u001B[31m│\u001B[0m   \u001B[2m252 \u001B[0m\u001B[2m│   │   \u001B[0m\u001B[94mfor\u001B[0m row \u001B[95min\u001B[0m \u001B[96mrange\u001B[0m(\u001B[96mself\u001B[0m.size * \u001B[94m2\u001B[0m):                                                                  \u001B[31m│\u001B[0m\n",
       "\u001B[31m│\u001B[0m   \u001B[2m253 \u001B[0m\u001B[2m│   │   │   \u001B[0mresult += \u001B[33mf\u001B[0m\u001B[33m\"\u001B[0m\u001B[33m{\u001B[0m\u001B[96mself\u001B[0m.size\u001B[90m \u001B[0m-\u001B[90m \u001B[0mrow\u001B[33m}\u001B[0m\u001B[33m \u001B[0m\u001B[33m\"\u001B[0m                                                               \u001B[31m│\u001B[0m\n",
       "\u001B[31m│\u001B[0m   \u001B[2m254 \u001B[0m\u001B[2m│   │   │   \u001B[0m\u001B[94mfor\u001B[0m col \u001B[95min\u001B[0m \u001B[96mrange\u001B[0m(\u001B[96mself\u001B[0m.size * \u001B[94m2\u001B[0m):                                                              \u001B[31m│\u001B[0m\n",
       "\u001B[31m│\u001B[0m \u001B[31m❱ \u001B[0m255 \u001B[2m│   │   │   │   \u001B[0mpiece = \u001B[1;4;96mself\u001B[0m\u001B[1;4m.board[row, col]\u001B[0m                                                              \u001B[31m│\u001B[0m\n",
       "\u001B[31m│\u001B[0m   \u001B[2m256 \u001B[0m\u001B[2m│   │   │   │   \u001B[0m\u001B[94mif\u001B[0m piece == \u001B[96mself\u001B[0m.empty:                                                                   \u001B[31m│\u001B[0m\n",
       "\u001B[31m│\u001B[0m   \u001B[2m257 \u001B[0m\u001B[2m│   │   │   │   │   \u001B[0m\u001B[94mif\u001B[0m (row + col) % \u001B[94m2\u001B[0m == \u001B[94m0\u001B[0m:  \u001B[2m# Light squares\u001B[0m                                             \u001B[31m│\u001B[0m\n",
       "\u001B[31m│\u001B[0m   \u001B[2m258 \u001B[0m\u001B[2m│   │   │   │   │   │   \u001B[0mresult += \u001B[33m\"\u001B[0m\u001B[33m□ \u001B[0m\u001B[33m\"\u001B[0m                                                                    \u001B[31m│\u001B[0m\n",
       "\u001B[31m╰─────────────────────────────────────────────────────────────────────────────────────────────────────────────────╯\u001B[0m\n",
       "\u001B[1;91mIndexError: \u001B[0mindex \u001B[1;36m5\u001B[0m is out of bounds for axis \u001B[1;36m1\u001B[0m with size \u001B[1;36m5\u001B[0m\n"
      ],
      "text/html": [
       "<pre style=\"white-space:pre;overflow-x:auto;line-height:normal;font-family:Menlo,'DejaVu Sans Mono',consolas,'Courier New',monospace\"><span style=\"color: #800000; text-decoration-color: #800000\">╭─────────────────────────────────────── </span><span style=\"color: #800000; text-decoration-color: #800000; font-weight: bold\">Traceback </span><span style=\"color: #bf7f7f; text-decoration-color: #bf7f7f; font-weight: bold\">(most recent call last)</span><span style=\"color: #800000; text-decoration-color: #800000\"> ───────────────────────────────────────╮</span>\n",
       "<span style=\"color: #800000; text-decoration-color: #800000\">│</span> <span style=\"color: #7f7f7f; text-decoration-color: #7f7f7f\">/home/schaetti/miniconda3/envs/BoardGPT/lib/python3.11/site-packages/IPython/core/</span><span style=\"font-weight: bold\">formatters.py</span>:282 in          <span style=\"color: #800000; text-decoration-color: #800000\">│</span>\n",
       "<span style=\"color: #800000; text-decoration-color: #800000\">│</span> catch_format_error                                                                                              <span style=\"color: #800000; text-decoration-color: #800000\">│</span>\n",
       "<span style=\"color: #800000; text-decoration-color: #800000\">│</span>                                                                                                                 <span style=\"color: #800000; text-decoration-color: #800000\">│</span>\n",
       "<span style=\"color: #800000; text-decoration-color: #800000\">│</span>   <span style=\"color: #7f7f7f; text-decoration-color: #7f7f7f\"> 279 </span><span style=\"color: #0000ff; text-decoration-color: #0000ff\">def</span><span style=\"color: #808080; text-decoration-color: #808080\"> </span><span style=\"color: #00ff00; text-decoration-color: #00ff00\">catch_format_error</span>(method, <span style=\"color: #00ffff; text-decoration-color: #00ffff\">self</span>, *args, **kwargs):                                                   <span style=\"color: #800000; text-decoration-color: #800000\">│</span>\n",
       "<span style=\"color: #800000; text-decoration-color: #800000\">│</span>   <span style=\"color: #7f7f7f; text-decoration-color: #7f7f7f\"> 280 </span><span style=\"color: #bfbfbf; text-decoration-color: #bfbfbf\">│   </span><span style=\"color: #808000; text-decoration-color: #808000\">\"\"\"show traceback on failed format call\"\"\"</span>                                                           <span style=\"color: #800000; text-decoration-color: #800000\">│</span>\n",
       "<span style=\"color: #800000; text-decoration-color: #800000\">│</span>   <span style=\"color: #7f7f7f; text-decoration-color: #7f7f7f\"> 281 </span><span style=\"color: #7f7f7f; text-decoration-color: #7f7f7f\">│   </span><span style=\"color: #0000ff; text-decoration-color: #0000ff\">try</span>:                                                                                                 <span style=\"color: #800000; text-decoration-color: #800000\">│</span>\n",
       "<span style=\"color: #800000; text-decoration-color: #800000\">│</span> <span style=\"color: #800000; text-decoration-color: #800000\">❱ </span> 282 <span style=\"color: #7f7f7f; text-decoration-color: #7f7f7f\">│   │   </span>r = method(<span style=\"color: #00ffff; text-decoration-color: #00ffff\">self</span>, *args, **kwargs)                                                                <span style=\"color: #800000; text-decoration-color: #800000\">│</span>\n",
       "<span style=\"color: #800000; text-decoration-color: #800000\">│</span>   <span style=\"color: #7f7f7f; text-decoration-color: #7f7f7f\"> 283 </span><span style=\"color: #7f7f7f; text-decoration-color: #7f7f7f\">│   </span><span style=\"color: #0000ff; text-decoration-color: #0000ff\">except</span> <span style=\"color: #00ffff; text-decoration-color: #00ffff\">NotImplementedError</span>:                                                                          <span style=\"color: #800000; text-decoration-color: #800000\">│</span>\n",
       "<span style=\"color: #800000; text-decoration-color: #800000\">│</span>   <span style=\"color: #7f7f7f; text-decoration-color: #7f7f7f\"> 284 </span><span style=\"color: #7f7f7f; text-decoration-color: #7f7f7f\">│   │   </span><span style=\"color: #7f7f7f; text-decoration-color: #7f7f7f\"># don't warn on NotImplementedErrors</span>                                                             <span style=\"color: #800000; text-decoration-color: #800000\">│</span>\n",
       "<span style=\"color: #800000; text-decoration-color: #800000\">│</span>   <span style=\"color: #7f7f7f; text-decoration-color: #7f7f7f\"> 285 </span><span style=\"color: #7f7f7f; text-decoration-color: #7f7f7f\">│   │   </span><span style=\"color: #0000ff; text-decoration-color: #0000ff\">return</span> <span style=\"color: #00ffff; text-decoration-color: #00ffff\">self</span>._check_return(<span style=\"color: #0000ff; text-decoration-color: #0000ff\">None</span>, args[<span style=\"color: #0000ff; text-decoration-color: #0000ff\">0</span>])                                                         <span style=\"color: #800000; text-decoration-color: #800000\">│</span>\n",
       "<span style=\"color: #800000; text-decoration-color: #800000\">│</span>                                                                                                                 <span style=\"color: #800000; text-decoration-color: #800000\">│</span>\n",
       "<span style=\"color: #800000; text-decoration-color: #800000\">│</span> <span style=\"color: #7f7f7f; text-decoration-color: #7f7f7f\">/home/schaetti/miniconda3/envs/BoardGPT/lib/python3.11/site-packages/IPython/core/</span><span style=\"font-weight: bold\">formatters.py</span>:770 in __call__ <span style=\"color: #800000; text-decoration-color: #800000\">│</span>\n",
       "<span style=\"color: #800000; text-decoration-color: #800000\">│</span>                                                                                                                 <span style=\"color: #800000; text-decoration-color: #800000\">│</span>\n",
       "<span style=\"color: #800000; text-decoration-color: #800000\">│</span>   <span style=\"color: #7f7f7f; text-decoration-color: #7f7f7f\"> 767 </span><span style=\"color: #7f7f7f; text-decoration-color: #7f7f7f\">│   │   │   │   </span>singleton_pprinters=<span style=\"color: #00ffff; text-decoration-color: #00ffff\">self</span>.singleton_printers,                                             <span style=\"color: #800000; text-decoration-color: #800000\">│</span>\n",
       "<span style=\"color: #800000; text-decoration-color: #800000\">│</span>   <span style=\"color: #7f7f7f; text-decoration-color: #7f7f7f\"> 768 </span><span style=\"color: #7f7f7f; text-decoration-color: #7f7f7f\">│   │   │   │   </span>type_pprinters=<span style=\"color: #00ffff; text-decoration-color: #00ffff\">self</span>.type_printers,                                                       <span style=\"color: #800000; text-decoration-color: #800000\">│</span>\n",
       "<span style=\"color: #800000; text-decoration-color: #800000\">│</span>   <span style=\"color: #7f7f7f; text-decoration-color: #7f7f7f\"> 769 </span><span style=\"color: #7f7f7f; text-decoration-color: #7f7f7f\">│   │   │   │   </span>deferred_pprinters=<span style=\"color: #00ffff; text-decoration-color: #00ffff\">self</span>.deferred_printers)                                               <span style=\"color: #800000; text-decoration-color: #800000\">│</span>\n",
       "<span style=\"color: #800000; text-decoration-color: #800000\">│</span> <span style=\"color: #800000; text-decoration-color: #800000\">❱ </span> 770 <span style=\"color: #7f7f7f; text-decoration-color: #7f7f7f\">│   │   │   </span><span style=\"font-weight: bold; text-decoration: underline\">printer.pretty(obj)</span>                                                                          <span style=\"color: #800000; text-decoration-color: #800000\">│</span>\n",
       "<span style=\"color: #800000; text-decoration-color: #800000\">│</span>   <span style=\"color: #7f7f7f; text-decoration-color: #7f7f7f\"> 771 </span><span style=\"color: #7f7f7f; text-decoration-color: #7f7f7f\">│   │   │   </span>printer.flush()                                                                              <span style=\"color: #800000; text-decoration-color: #800000\">│</span>\n",
       "<span style=\"color: #800000; text-decoration-color: #800000\">│</span>   <span style=\"color: #7f7f7f; text-decoration-color: #7f7f7f\"> 772 </span><span style=\"color: #7f7f7f; text-decoration-color: #7f7f7f\">│   │   │   </span><span style=\"color: #0000ff; text-decoration-color: #0000ff\">return</span> stream.getvalue()                                                                     <span style=\"color: #800000; text-decoration-color: #800000\">│</span>\n",
       "<span style=\"color: #800000; text-decoration-color: #800000\">│</span>   <span style=\"color: #7f7f7f; text-decoration-color: #7f7f7f\"> 773 </span>                                                                                                         <span style=\"color: #800000; text-decoration-color: #800000\">│</span>\n",
       "<span style=\"color: #800000; text-decoration-color: #800000\">│</span>                                                                                                                 <span style=\"color: #800000; text-decoration-color: #800000\">│</span>\n",
       "<span style=\"color: #800000; text-decoration-color: #800000\">│</span> <span style=\"color: #7f7f7f; text-decoration-color: #7f7f7f\">/home/schaetti/miniconda3/envs/BoardGPT/lib/python3.11/site-packages/IPython/lib/</span><span style=\"font-weight: bold\">pretty.py</span>:411 in pretty        <span style=\"color: #800000; text-decoration-color: #800000\">│</span>\n",
       "<span style=\"color: #800000; text-decoration-color: #800000\">│</span>                                                                                                                 <span style=\"color: #800000; text-decoration-color: #800000\">│</span>\n",
       "<span style=\"color: #800000; text-decoration-color: #800000\">│</span>   <span style=\"color: #7f7f7f; text-decoration-color: #7f7f7f\">408 </span><span style=\"color: #7f7f7f; text-decoration-color: #7f7f7f\">│   │   │   │   │   │   │   </span><span style=\"color: #7f7f7f; text-decoration-color: #7f7f7f\">#   in order to work with descriptors like partialmethod,</span>                     <span style=\"color: #800000; text-decoration-color: #800000\">│</span>\n",
       "<span style=\"color: #800000; text-decoration-color: #800000\">│</span>   <span style=\"color: #7f7f7f; text-decoration-color: #7f7f7f\">409 </span><span style=\"color: #7f7f7f; text-decoration-color: #7f7f7f\">│   │   │   │   │   │   │   </span><span style=\"color: #ff00ff; text-decoration-color: #ff00ff\">and</span> <span style=\"color: #00ffff; text-decoration-color: #00ffff\">callable</span>(_safe_getattr(<span style=\"color: #00ffff; text-decoration-color: #00ffff\">cls</span>, <span style=\"color: #808000; text-decoration-color: #808000\">\"__repr__\"</span>, <span style=\"color: #0000ff; text-decoration-color: #0000ff\">None</span>))                            <span style=\"color: #800000; text-decoration-color: #800000\">│</span>\n",
       "<span style=\"color: #800000; text-decoration-color: #800000\">│</span>   <span style=\"color: #7f7f7f; text-decoration-color: #7f7f7f\">410 </span><span style=\"color: #7f7f7f; text-decoration-color: #7f7f7f\">│   │   │   │   │   │   </span>):                                                                                <span style=\"color: #800000; text-decoration-color: #800000\">│</span>\n",
       "<span style=\"color: #800000; text-decoration-color: #800000\">│</span> <span style=\"color: #800000; text-decoration-color: #800000\">❱ </span>411 <span style=\"color: #7f7f7f; text-decoration-color: #7f7f7f\">│   │   │   │   │   │   │   </span><span style=\"color: #0000ff; text-decoration-color: #0000ff\">return</span> _repr_pprint(obj, <span style=\"color: #00ffff; text-decoration-color: #00ffff\">self</span>, cycle)                                         <span style=\"color: #800000; text-decoration-color: #800000\">│</span>\n",
       "<span style=\"color: #800000; text-decoration-color: #800000\">│</span>   <span style=\"color: #7f7f7f; text-decoration-color: #7f7f7f\">412 </span><span style=\"color: #7f7f7f; text-decoration-color: #7f7f7f\">│   │   │   </span>                                                                                              <span style=\"color: #800000; text-decoration-color: #800000\">│</span>\n",
       "<span style=\"color: #800000; text-decoration-color: #800000\">│</span>   <span style=\"color: #7f7f7f; text-decoration-color: #7f7f7f\">413 </span><span style=\"color: #7f7f7f; text-decoration-color: #7f7f7f\">│   │   │   </span><span style=\"color: #0000ff; text-decoration-color: #0000ff\">return</span> _default_pprint(obj, <span style=\"color: #00ffff; text-decoration-color: #00ffff\">self</span>, cycle)                                                      <span style=\"color: #800000; text-decoration-color: #800000\">│</span>\n",
       "<span style=\"color: #800000; text-decoration-color: #800000\">│</span>   <span style=\"color: #7f7f7f; text-decoration-color: #7f7f7f\">414 </span><span style=\"color: #7f7f7f; text-decoration-color: #7f7f7f\">│   │   </span><span style=\"color: #0000ff; text-decoration-color: #0000ff\">finally</span>:                                                                                          <span style=\"color: #800000; text-decoration-color: #800000\">│</span>\n",
       "<span style=\"color: #800000; text-decoration-color: #800000\">│</span>                                                                                                                 <span style=\"color: #800000; text-decoration-color: #800000\">│</span>\n",
       "<span style=\"color: #800000; text-decoration-color: #800000\">│</span> <span style=\"color: #7f7f7f; text-decoration-color: #7f7f7f\">/home/schaetti/miniconda3/envs/BoardGPT/lib/python3.11/site-packages/IPython/lib/</span><span style=\"font-weight: bold\">pretty.py</span>:786 in _repr_pprint  <span style=\"color: #800000; text-decoration-color: #800000\">│</span>\n",
       "<span style=\"color: #800000; text-decoration-color: #800000\">│</span>                                                                                                                 <span style=\"color: #800000; text-decoration-color: #800000\">│</span>\n",
       "<span style=\"color: #800000; text-decoration-color: #800000\">│</span>   <span style=\"color: #7f7f7f; text-decoration-color: #7f7f7f\">783 </span><span style=\"color: #0000ff; text-decoration-color: #0000ff\">def</span><span style=\"color: #808080; text-decoration-color: #808080\"> </span><span style=\"color: #00ff00; text-decoration-color: #00ff00\">_repr_pprint</span>(obj, p, cycle):                                                                          <span style=\"color: #800000; text-decoration-color: #800000\">│</span>\n",
       "<span style=\"color: #800000; text-decoration-color: #800000\">│</span>   <span style=\"color: #7f7f7f; text-decoration-color: #7f7f7f\">784 </span><span style=\"color: #bfbfbf; text-decoration-color: #bfbfbf\">│   </span><span style=\"color: #808000; text-decoration-color: #808000\">\"\"\"A pprint that just redirects to the normal repr function.\"\"\"</span>                                       <span style=\"color: #800000; text-decoration-color: #800000\">│</span>\n",
       "<span style=\"color: #800000; text-decoration-color: #800000\">│</span>   <span style=\"color: #7f7f7f; text-decoration-color: #7f7f7f\">785 </span><span style=\"color: #7f7f7f; text-decoration-color: #7f7f7f\">│   </span><span style=\"color: #7f7f7f; text-decoration-color: #7f7f7f\"># Find newlines and replace them with p.break_()</span>                                                      <span style=\"color: #800000; text-decoration-color: #800000\">│</span>\n",
       "<span style=\"color: #800000; text-decoration-color: #800000\">│</span> <span style=\"color: #800000; text-decoration-color: #800000\">❱ </span>786 <span style=\"color: #7f7f7f; text-decoration-color: #7f7f7f\">│   </span>output = <span style=\"color: #00ffff; text-decoration-color: #00ffff; font-weight: bold; text-decoration: underline\">repr</span><span style=\"font-weight: bold; text-decoration: underline\">(obj)</span>                                                                                    <span style=\"color: #800000; text-decoration-color: #800000\">│</span>\n",
       "<span style=\"color: #800000; text-decoration-color: #800000\">│</span>   <span style=\"color: #7f7f7f; text-decoration-color: #7f7f7f\">787 </span><span style=\"color: #7f7f7f; text-decoration-color: #7f7f7f\">│   </span>lines = output.splitlines()                                                                           <span style=\"color: #800000; text-decoration-color: #800000\">│</span>\n",
       "<span style=\"color: #800000; text-decoration-color: #800000\">│</span>   <span style=\"color: #7f7f7f; text-decoration-color: #7f7f7f\">788 </span><span style=\"color: #7f7f7f; text-decoration-color: #7f7f7f\">│   </span><span style=\"color: #0000ff; text-decoration-color: #0000ff\">with</span> p.group():                                                                                       <span style=\"color: #800000; text-decoration-color: #800000\">│</span>\n",
       "<span style=\"color: #800000; text-decoration-color: #800000\">│</span>   <span style=\"color: #7f7f7f; text-decoration-color: #7f7f7f\">789 </span><span style=\"color: #7f7f7f; text-decoration-color: #7f7f7f\">│   │   </span><span style=\"color: #0000ff; text-decoration-color: #0000ff\">for</span> idx, output_line <span style=\"color: #ff00ff; text-decoration-color: #ff00ff\">in</span> <span style=\"color: #00ffff; text-decoration-color: #00ffff\">enumerate</span>(lines):                                                         <span style=\"color: #800000; text-decoration-color: #800000\">│</span>\n",
       "<span style=\"color: #800000; text-decoration-color: #800000\">│</span>                                                                                                                 <span style=\"color: #800000; text-decoration-color: #800000\">│</span>\n",
       "<span style=\"color: #800000; text-decoration-color: #800000\">│</span> <span style=\"color: #7f7f7f; text-decoration-color: #7f7f7f\">/home/schaetti/Projets/RECHERCHES/Recherches/BoardWorld/boardGPT/boardGPT/games/checkers/</span><span style=\"font-weight: bold\">checkers_simulator.py</span>: <span style=\"color: #800000; text-decoration-color: #800000\">│</span>\n",
       "<span style=\"color: #800000; text-decoration-color: #800000\">│</span> 748 in __repr__                                                                                                 <span style=\"color: #800000; text-decoration-color: #800000\">│</span>\n",
       "<span style=\"color: #800000; text-decoration-color: #800000\">│</span>                                                                                                                 <span style=\"color: #800000; text-decoration-color: #800000\">│</span>\n",
       "<span style=\"color: #800000; text-decoration-color: #800000\">│</span>   <span style=\"color: #7f7f7f; text-decoration-color: #7f7f7f\">745 </span><span style=\"color: #bfbf7f; text-decoration-color: #bfbf7f\">│   │   </span><span style=\"color: #808000; text-decoration-color: #808000\">Returns:</span>                                                                                          <span style=\"color: #800000; text-decoration-color: #800000\">│</span>\n",
       "<span style=\"color: #800000; text-decoration-color: #800000\">│</span>   <span style=\"color: #7f7f7f; text-decoration-color: #7f7f7f\">746 </span><span style=\"color: #bfbf7f; text-decoration-color: #bfbf7f\">│   │   │   </span><span style=\"color: #808000; text-decoration-color: #808000\">str: String representation of the game</span>                                                        <span style=\"color: #800000; text-decoration-color: #800000\">│</span>\n",
       "<span style=\"color: #800000; text-decoration-color: #800000\">│</span>   <span style=\"color: #7f7f7f; text-decoration-color: #7f7f7f\">747 </span><span style=\"color: #bfbf7f; text-decoration-color: #bfbf7f\">│   │   </span><span style=\"color: #808000; text-decoration-color: #808000\">\"\"\"</span>                                                                                               <span style=\"color: #800000; text-decoration-color: #800000\">│</span>\n",
       "<span style=\"color: #800000; text-decoration-color: #800000\">│</span> <span style=\"color: #800000; text-decoration-color: #800000\">❱ </span>748 <span style=\"color: #7f7f7f; text-decoration-color: #7f7f7f\">│   │   </span><span style=\"color: #0000ff; text-decoration-color: #0000ff\">return</span> <span style=\"color: #00ffff; text-decoration-color: #00ffff; font-weight: bold; text-decoration: underline\">self</span><span style=\"font-weight: bold; text-decoration: underline\">.</span><span style=\"color: #00ff00; text-decoration-color: #00ff00; font-weight: bold; text-decoration: underline\">__str__</span><span style=\"font-weight: bold; text-decoration: underline\">()</span>                                                                             <span style=\"color: #800000; text-decoration-color: #800000\">│</span>\n",
       "<span style=\"color: #800000; text-decoration-color: #800000\">│</span>   <span style=\"color: #7f7f7f; text-decoration-color: #7f7f7f\">749 </span><span style=\"color: #7f7f7f; text-decoration-color: #7f7f7f\">│   </span><span style=\"color: #7f7f7f; text-decoration-color: #7f7f7f\"># end __repr__</span>                                                                                        <span style=\"color: #800000; text-decoration-color: #800000\">│</span>\n",
       "<span style=\"color: #800000; text-decoration-color: #800000\">│</span>   <span style=\"color: #7f7f7f; text-decoration-color: #7f7f7f\">750 </span><span style=\"color: #7f7f7f; text-decoration-color: #7f7f7f\">│   </span>                                                                                                      <span style=\"color: #800000; text-decoration-color: #800000\">│</span>\n",
       "<span style=\"color: #800000; text-decoration-color: #800000\">│</span>   <span style=\"color: #7f7f7f; text-decoration-color: #7f7f7f\">751 </span><span style=\"color: #7f7f7f; text-decoration-color: #7f7f7f\">│   </span><span style=\"color: #0000ff; text-decoration-color: #0000ff\">def</span><span style=\"color: #808080; text-decoration-color: #808080\"> </span><span style=\"color: #00ff00; text-decoration-color: #00ff00\">__len__</span>(<span style=\"color: #00ffff; text-decoration-color: #00ffff\">self</span>):                                                                                    <span style=\"color: #800000; text-decoration-color: #800000\">│</span>\n",
       "<span style=\"color: #800000; text-decoration-color: #800000\">│</span>                                                                                                                 <span style=\"color: #800000; text-decoration-color: #800000\">│</span>\n",
       "<span style=\"color: #800000; text-decoration-color: #800000\">│</span> <span style=\"color: #7f7f7f; text-decoration-color: #7f7f7f\">/home/schaetti/Projets/RECHERCHES/Recherches/BoardWorld/boardGPT/boardGPT/games/checkers/</span><span style=\"font-weight: bold\">checkers_simulator.py</span>: <span style=\"color: #800000; text-decoration-color: #800000\">│</span>\n",
       "<span style=\"color: #800000; text-decoration-color: #800000\">│</span> 731 in __str__                                                                                                  <span style=\"color: #800000; text-decoration-color: #800000\">│</span>\n",
       "<span style=\"color: #800000; text-decoration-color: #800000\">│</span>                                                                                                                 <span style=\"color: #800000; text-decoration-color: #800000\">│</span>\n",
       "<span style=\"color: #800000; text-decoration-color: #800000\">│</span>   <span style=\"color: #7f7f7f; text-decoration-color: #7f7f7f\">728 </span><span style=\"color: #bfbf7f; text-decoration-color: #bfbf7f\">│   │   │   </span><span style=\"color: #808000; text-decoration-color: #808000\">str: String representation of the game</span>                                                        <span style=\"color: #800000; text-decoration-color: #800000\">│</span>\n",
       "<span style=\"color: #800000; text-decoration-color: #800000\">│</span>   <span style=\"color: #7f7f7f; text-decoration-color: #7f7f7f\">729 </span><span style=\"color: #bfbf7f; text-decoration-color: #bfbf7f\">│   │   </span><span style=\"color: #808000; text-decoration-color: #808000\">\"\"\"</span>                                                                                               <span style=\"color: #800000; text-decoration-color: #800000\">│</span>\n",
       "<span style=\"color: #800000; text-decoration-color: #800000\">│</span>   <span style=\"color: #7f7f7f; text-decoration-color: #7f7f7f\">730 </span><span style=\"color: #7f7f7f; text-decoration-color: #7f7f7f\">│   │   </span>result = <span style=\"color: #808000; text-decoration-color: #808000\">f\"Current player: {'Black'</span><span style=\"color: #808080; text-decoration-color: #808080\"> </span><span style=\"color: #0000ff; text-decoration-color: #0000ff\">if</span><span style=\"color: #808080; text-decoration-color: #808080\"> </span><span style=\"color: #00ffff; text-decoration-color: #00ffff\">self</span>.current_player<span style=\"color: #808080; text-decoration-color: #808080\"> </span>==<span style=\"color: #808080; text-decoration-color: #808080\"> </span><span style=\"color: #00ffff; text-decoration-color: #00ffff\">self</span>.BLACK<span style=\"color: #808080; text-decoration-color: #808080\"> </span><span style=\"color: #0000ff; text-decoration-color: #0000ff\">else</span><span style=\"color: #808080; text-decoration-color: #808080\"> </span>                    <span style=\"color: #800000; text-decoration-color: #800000\">│</span>\n",
       "<span style=\"color: #800000; text-decoration-color: #800000\">│</span>       <span style=\"color: #808000; text-decoration-color: #808000\">'White'}\\n\"</span>                                                                                               <span style=\"color: #800000; text-decoration-color: #800000\">│</span>\n",
       "<span style=\"color: #800000; text-decoration-color: #800000\">│</span> <span style=\"color: #800000; text-decoration-color: #800000\">❱ </span>731 <span style=\"color: #7f7f7f; text-decoration-color: #7f7f7f\">│   │   </span>result += <span style=\"color: #00ffff; text-decoration-color: #00ffff; font-weight: bold; text-decoration: underline\">str</span><span style=\"font-weight: bold; text-decoration: underline\">(</span><span style=\"color: #00ffff; text-decoration-color: #00ffff; font-weight: bold; text-decoration: underline\">self</span><span style=\"font-weight: bold; text-decoration: underline\">.board)</span>                                                                         <span style=\"color: #800000; text-decoration-color: #800000\">│</span>\n",
       "<span style=\"color: #800000; text-decoration-color: #800000\">│</span>   <span style=\"color: #7f7f7f; text-decoration-color: #7f7f7f\">732 </span><span style=\"color: #7f7f7f; text-decoration-color: #7f7f7f\">│   │   </span>                                                                                                  <span style=\"color: #800000; text-decoration-color: #800000\">│</span>\n",
       "<span style=\"color: #800000; text-decoration-color: #800000\">│</span>   <span style=\"color: #7f7f7f; text-decoration-color: #7f7f7f\">733 </span><span style=\"color: #7f7f7f; text-decoration-color: #7f7f7f\">│   │   </span><span style=\"color: #0000ff; text-decoration-color: #0000ff\">if</span> <span style=\"color: #00ffff; text-decoration-color: #00ffff\">self</span>.game_over:                                                                                <span style=\"color: #800000; text-decoration-color: #800000\">│</span>\n",
       "<span style=\"color: #800000; text-decoration-color: #800000\">│</span>   <span style=\"color: #7f7f7f; text-decoration-color: #7f7f7f\">734 </span><span style=\"color: #7f7f7f; text-decoration-color: #7f7f7f\">│   │   │   </span>winner = <span style=\"color: #808000; text-decoration-color: #808000\">\"Black\"</span> <span style=\"color: #0000ff; text-decoration-color: #0000ff\">if</span> <span style=\"color: #00ffff; text-decoration-color: #00ffff\">self</span>.winner == <span style=\"color: #00ffff; text-decoration-color: #00ffff\">self</span>.BLACK <span style=\"color: #0000ff; text-decoration-color: #0000ff\">else</span> <span style=\"color: #808000; text-decoration-color: #808000\">\"White\"</span>                                    <span style=\"color: #800000; text-decoration-color: #800000\">│</span>\n",
       "<span style=\"color: #800000; text-decoration-color: #800000\">│</span>                                                                                                                 <span style=\"color: #800000; text-decoration-color: #800000\">│</span>\n",
       "<span style=\"color: #800000; text-decoration-color: #800000\">│</span> <span style=\"color: #7f7f7f; text-decoration-color: #7f7f7f\">/home/schaetti/Projets/RECHERCHES/Recherches/BoardWorld/boardGPT/boardGPT/games/checkers/</span><span style=\"font-weight: bold\">checkers_simulator.py</span>: <span style=\"color: #800000; text-decoration-color: #800000\">│</span>\n",
       "<span style=\"color: #800000; text-decoration-color: #800000\">│</span> 255 in __str__                                                                                                  <span style=\"color: #800000; text-decoration-color: #800000\">│</span>\n",
       "<span style=\"color: #800000; text-decoration-color: #800000\">│</span>                                                                                                                 <span style=\"color: #800000; text-decoration-color: #800000\">│</span>\n",
       "<span style=\"color: #800000; text-decoration-color: #800000\">│</span>   <span style=\"color: #7f7f7f; text-decoration-color: #7f7f7f\">252 </span><span style=\"color: #7f7f7f; text-decoration-color: #7f7f7f\">│   │   </span><span style=\"color: #0000ff; text-decoration-color: #0000ff\">for</span> row <span style=\"color: #ff00ff; text-decoration-color: #ff00ff\">in</span> <span style=\"color: #00ffff; text-decoration-color: #00ffff\">range</span>(<span style=\"color: #00ffff; text-decoration-color: #00ffff\">self</span>.size * <span style=\"color: #0000ff; text-decoration-color: #0000ff\">2</span>):                                                                  <span style=\"color: #800000; text-decoration-color: #800000\">│</span>\n",
       "<span style=\"color: #800000; text-decoration-color: #800000\">│</span>   <span style=\"color: #7f7f7f; text-decoration-color: #7f7f7f\">253 </span><span style=\"color: #7f7f7f; text-decoration-color: #7f7f7f\">│   │   │   </span>result += <span style=\"color: #808000; text-decoration-color: #808000\">f\"{</span><span style=\"color: #00ffff; text-decoration-color: #00ffff\">self</span>.size<span style=\"color: #808080; text-decoration-color: #808080\"> </span>-<span style=\"color: #808080; text-decoration-color: #808080\"> </span>row<span style=\"color: #808000; text-decoration-color: #808000\">} \"</span>                                                               <span style=\"color: #800000; text-decoration-color: #800000\">│</span>\n",
       "<span style=\"color: #800000; text-decoration-color: #800000\">│</span>   <span style=\"color: #7f7f7f; text-decoration-color: #7f7f7f\">254 </span><span style=\"color: #7f7f7f; text-decoration-color: #7f7f7f\">│   │   │   </span><span style=\"color: #0000ff; text-decoration-color: #0000ff\">for</span> col <span style=\"color: #ff00ff; text-decoration-color: #ff00ff\">in</span> <span style=\"color: #00ffff; text-decoration-color: #00ffff\">range</span>(<span style=\"color: #00ffff; text-decoration-color: #00ffff\">self</span>.size * <span style=\"color: #0000ff; text-decoration-color: #0000ff\">2</span>):                                                              <span style=\"color: #800000; text-decoration-color: #800000\">│</span>\n",
       "<span style=\"color: #800000; text-decoration-color: #800000\">│</span> <span style=\"color: #800000; text-decoration-color: #800000\">❱ </span>255 <span style=\"color: #7f7f7f; text-decoration-color: #7f7f7f\">│   │   │   │   </span>piece = <span style=\"color: #00ffff; text-decoration-color: #00ffff; font-weight: bold; text-decoration: underline\">self</span><span style=\"font-weight: bold; text-decoration: underline\">.board[row, col]</span>                                                              <span style=\"color: #800000; text-decoration-color: #800000\">│</span>\n",
       "<span style=\"color: #800000; text-decoration-color: #800000\">│</span>   <span style=\"color: #7f7f7f; text-decoration-color: #7f7f7f\">256 </span><span style=\"color: #7f7f7f; text-decoration-color: #7f7f7f\">│   │   │   │   </span><span style=\"color: #0000ff; text-decoration-color: #0000ff\">if</span> piece == <span style=\"color: #00ffff; text-decoration-color: #00ffff\">self</span>.empty:                                                                   <span style=\"color: #800000; text-decoration-color: #800000\">│</span>\n",
       "<span style=\"color: #800000; text-decoration-color: #800000\">│</span>   <span style=\"color: #7f7f7f; text-decoration-color: #7f7f7f\">257 </span><span style=\"color: #7f7f7f; text-decoration-color: #7f7f7f\">│   │   │   │   │   </span><span style=\"color: #0000ff; text-decoration-color: #0000ff\">if</span> (row + col) % <span style=\"color: #0000ff; text-decoration-color: #0000ff\">2</span> == <span style=\"color: #0000ff; text-decoration-color: #0000ff\">0</span>:  <span style=\"color: #7f7f7f; text-decoration-color: #7f7f7f\"># Light squares</span>                                             <span style=\"color: #800000; text-decoration-color: #800000\">│</span>\n",
       "<span style=\"color: #800000; text-decoration-color: #800000\">│</span>   <span style=\"color: #7f7f7f; text-decoration-color: #7f7f7f\">258 </span><span style=\"color: #7f7f7f; text-decoration-color: #7f7f7f\">│   │   │   │   │   │   </span>result += <span style=\"color: #808000; text-decoration-color: #808000\">\"□ \"</span>                                                                    <span style=\"color: #800000; text-decoration-color: #800000\">│</span>\n",
       "<span style=\"color: #800000; text-decoration-color: #800000\">╰─────────────────────────────────────────────────────────────────────────────────────────────────────────────────╯</span>\n",
       "<span style=\"color: #ff0000; text-decoration-color: #ff0000; font-weight: bold\">IndexError: </span>index <span style=\"color: #008080; text-decoration-color: #008080; font-weight: bold\">5</span> is out of bounds for axis <span style=\"color: #008080; text-decoration-color: #008080; font-weight: bold\">1</span> with size <span style=\"color: #008080; text-decoration-color: #008080; font-weight: bold\">5</span>\n",
       "</pre>\n"
      ]
     },
     "metadata": {},
     "output_type": "display_data"
    }
   ],
   "execution_count": 3
  },
  {
   "metadata": {
    "ExecuteTime": {
     "end_time": "2025-09-27T09:43:10.058813Z",
     "start_time": "2025-09-27T09:43:10.048741Z"
    }
   },
   "cell_type": "code",
   "source": [
    "checkers_game = generate_game(\"checkers\")\n",
    "checkers_game"
   ],
   "id": "94a67a6740fb05a2",
   "outputs": [
    {
     "name": "stdout",
     "output_type": "stream",
     "text": [
      "generating full game\n",
      "attempt 0/100\n",
      "random move (3, 0)\n",
      "random move (4, 1)\n",
      "random move (3, 2)\n",
      "random move (2, 3)\n",
      "random move (3, 4)\n",
      "random move (4, 1)\n",
      "random move (5, 2)\n",
      "random move (4, 1)\n",
      "random move (4, 5)\n",
      "random move (3, 4)\n",
      "random move (4, 3)\n",
      "random move (3, 2)\n",
      "random move (2, 1)\n",
      "random move (1, 0)\n",
      "random move (1, 2)\n",
      "random move (5, 6)\n",
      "random move (2, 1)\n",
      "random move (4, 7)\n",
      "random move (2, 5)\n",
      "random move (5, 0)\n",
      "random move (3, 2)\n",
      "random move (2, 3)\n",
      "random move (3, 6)\n",
      "random move (2, 5)\n",
      "random move (3, 4)\n",
      "random move (6, 3)\n",
      "random move (1, 4)\n",
      "random move (6, 5)\n",
      "random move (3, 2)\n",
      "random move (5, 6)\n",
      "random move (3, 6)\n",
      "random move (0, 1)\n",
      "random move (4, 5)\n",
      "random move (3, 4)\n",
      "random move (4, 3)\n",
      "random move (2, 5)\n",
      "random move (5, 4)\n",
      "random move (4, 5)\n",
      "random move (2, 7)\n",
      "random move (1, 4)\n",
      "random move (0, 3)\n",
      "random move (1, 6)\n",
      "random move (0, 5)\n",
      "random move None\n",
      "Finished\n"
     ]
    },
    {
     "data": {
      "text/plain": [
       "Current player: Black\n",
       "  a b c d e f g h \n",
       "8 □ ♔ □ ♔ □ ♔ □ ■ 8\n",
       "7 ■ □ ■ □ ■ □ ■ □ 7\n",
       "6 □ ■ □ ■ □ ■ □ ■ 6\n",
       "5 ■ □ ■ □ ■ □ ■ □ 5\n",
       "4 □ ■ □ ■ □ ■ □ ■ 4\n",
       "3 ○ □ ■ □ ■ □ ■ □ 3\n",
       "2 □ ■ □ ■ □ ■ □ ○ 2\n",
       "1 ○ □ ■ □ ■ □ ○ □ 1\n",
       "  a b c d e f g h \n",
       "Game over! White wins!"
      ]
     },
     "execution_count": 2,
     "metadata": {},
     "output_type": "execute_result"
    }
   ],
   "execution_count": 2
  },
  {
   "metadata": {
    "ExecuteTime": {
     "end_time": "2025-09-27T09:43:10.156196Z",
     "start_time": "2025-09-27T09:43:10.151327Z"
    }
   },
   "cell_type": "code",
   "source": "len(checkers_game)",
   "id": "ae9781e208297eb4",
   "outputs": [
    {
     "data": {
      "text/plain": [
       "43"
      ]
     },
     "execution_count": 3,
     "metadata": {},
     "output_type": "execute_result"
    }
   ],
   "execution_count": 3
  },
  {
   "metadata": {
    "ExecuteTime": {
     "end_time": "2025-09-27T09:43:10.213402Z",
     "start_time": "2025-09-27T09:43:10.210176Z"
    }
   },
   "cell_type": "code",
   "source": "checkers_game.moves",
   "id": "b1cd14c9d5c0e119",
   "outputs": [
    {
     "data": {
      "text/plain": [
       "['b6-a5',\n",
       " 'a3-b4',\n",
       " 'd6-c5',\n",
       " 'b4-d6',\n",
       " 'c7-e5',\n",
       " 'c3-b4',\n",
       " 'a5-c3',\n",
       " 'd2-b4',\n",
       " 'e5-f4',\n",
       " 'g3-e5',\n",
       " 'f6-d4',\n",
       " 'e3-c5',\n",
       " 'a7-b6',\n",
       " 'c5-a7',\n",
       " 'b8-c7',\n",
       " 'f2-g3',\n",
       " 'c7-b6',\n",
       " 'g3-h4',\n",
       " 'e7-f6',\n",
       " 'b2-a3',\n",
       " 'b6-c5',\n",
       " 'b4-d6',\n",
       " 'f6-g5',\n",
       " 'h4-f6',\n",
       " 'g7-e5',\n",
       " 'c1-d2',\n",
       " 'd8-e7',\n",
       " 'e1-f2',\n",
       " 'e7-c5',\n",
       " 'f2-g3',\n",
       " 'h6-g5',\n",
       " 'a7-b8',\n",
       " 'e5-f4',\n",
       " 'g3-e5',\n",
       " 'c5-d4',\n",
       " 'e5-f6',\n",
       " 'd4-e3',\n",
       " 'd2-f4',\n",
       " 'f4-h6',\n",
       " 'f8-e7',\n",
       " 'f6-d8',\n",
       " 'h8-g7',\n",
       " 'h6-f8']"
      ]
     },
     "execution_count": 4,
     "metadata": {},
     "output_type": "execute_result"
    }
   ],
   "execution_count": 4
  },
  {
   "metadata": {
    "ExecuteTime": {
     "end_time": "2025-09-27T09:43:10.260389Z",
     "start_time": "2025-09-27T09:43:10.258927Z"
    }
   },
   "cell_type": "code",
   "source": "",
   "id": "c544f198a6710cec",
   "outputs": [],
   "execution_count": null
  }
 ],
 "metadata": {
  "kernelspec": {
   "display_name": "Python 3",
   "language": "python",
   "name": "python3"
  },
  "language_info": {
   "codemirror_mode": {
    "name": "ipython",
    "version": 2
   },
   "file_extension": ".py",
   "mimetype": "text/x-python",
   "name": "python",
   "nbconvert_exporter": "python",
   "pygments_lexer": "ipython2",
   "version": "2.7.6"
  }
 },
 "nbformat": 4,
 "nbformat_minor": 5
}
